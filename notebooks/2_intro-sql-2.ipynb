{
 "cells": [
  {
   "cell_type": "markdown",
   "id": "2452983b",
   "metadata": {},
   "source": [
    "<a target=\"_blank\" href=\"https://colab.research.google.com/github/MotherDuck-Open-Source/sql-tutorial\">\n",
    "  <img src=\"https://colab.research.google.com/assets/colab-badge.svg\" alt=\"Open In Colab\"/>\n",
    "</a>\n",
    "\n",
    "# 2. Learn to quack SQL with DuckDB: Group by, Joins and Subqueries\n",
    "\n",
    "To start off, install the latest version of `duckdb` and `magic-duckdb` to run this notebook."
   ]
  },
  {
   "cell_type": "code",
   "execution_count": null,
   "id": "0c42e861",
   "metadata": {},
   "outputs": [],
   "source": [
    "!pip install --upgrade duckdb magic-duckdb --quiet\n",
    "%load_ext magic_duckdb"
   ]
  },
  {
   "cell_type": "markdown",
   "id": "63a3efdd",
   "metadata": {},
   "source": [
    "## Example Tables\n",
    "Let's start with two datasets:\n",
    "\n",
    "- [birds.csv](https://raw.githubusercontent.com/MotherDuck-Open-Source/sql-tutorial/main/data/birds.csv): a list of measurements of individuals of different bird species\n",
    "- [ducks.csv](https://raw.githubusercontent.com/MotherDuck-Open-Source/sql-tutorial/main/data/ducks.csv): a list of scientific names of bird species that are ducks\n",
    "\n",
    "To download the datasets directly from GitHub, run:"
   ]
  },
  {
   "cell_type": "code",
   "execution_count": null,
   "id": "988fb387",
   "metadata": {},
   "outputs": [],
   "source": [
    "!wget https://raw.githubusercontent.com/MotherDuck-Open-Source/sql-tutorial/main/data/birds.csv -q\n",
    "!wget https://raw.githubusercontent.com/MotherDuck-Open-Source/sql-tutorial/main/data/ducks.csv -q\n",
    "!wget https://raw.githubusercontent.com/MotherDuck-Open-Source/sql-tutorial/main/answers/answers_2.zip -q \n",
    "!unzip -o answers_2.zip -d answers "
   ]
  },
  {
   "cell_type": "markdown",
   "id": "d92cf0af",
   "metadata": {},
   "source": [
    "To create the tables in your database, run:"
   ]
  },
  {
   "cell_type": "code",
   "execution_count": null,
   "id": "963bd2c6",
   "metadata": {},
   "outputs": [],
   "source": [
    "%%dql\n",
    "CREATE TABLE birds AS SELECT * FROM read_csv('birds.csv');\n",
    "CREATE TABLE ducks AS SELECT * FROM read_csv('ducks.csv');"
   ]
  },
  {
   "cell_type": "markdown",
   "id": "a11b1ea7",
   "metadata": {},
   "source": [
    "To begin understanding the data contained in these tables, you can run:"
   ]
  },
  {
   "cell_type": "code",
   "execution_count": null,
   "id": "4500f5f2",
   "metadata": {},
   "outputs": [],
   "source": [
    "%%dql\n",
    "SUMMARIZE birds;"
   ]
  },
  {
   "cell_type": "code",
   "execution_count": null,
   "id": "8153f709",
   "metadata": {},
   "outputs": [],
   "source": [
    "%%dql\n",
    "SUMMARIZE ducks;"
   ]
  },
  {
   "cell_type": "markdown",
   "id": "9058dbd5",
   "metadata": {
    "cell_type": "markdown"
   },
   "source": [
    "**Exercise 2.01**\n",
    "\n",
    "Create a new table `birds_measurements` from the file `birds.csv` (this file contains the names and measurements of individuals from over 10k bird species)."
   ]
  },
  {
   "cell_type": "code",
   "execution_count": null,
   "id": "f9a95fe5",
   "metadata": {},
   "outputs": [],
   "source": [
    "# Show solution\n",
    "!cat ./answers/answer_2.01.sql"
   ]
  },
  {
   "cell_type": "markdown",
   "id": "cfa7b042",
   "metadata": {
    "cell_type": "markdown"
   },
   "source": [
    "**Exercise 2.02**\n",
    "\n",
    "Create a new table `ducks_species` from the file `ducks.csv` (this file contains species names and common names of ducks)."
   ]
  },
  {
   "cell_type": "code",
   "execution_count": null,
   "id": "669b6603",
   "metadata": {},
   "outputs": [],
   "source": [
    "# Show solution\n",
    "!cat ./answers/answer_2.02.sql"
   ]
  },
  {
   "cell_type": "markdown",
   "id": "4ad7c6e4",
   "metadata": {},
   "source": [
    "## 1. Aggregate Functions\n",
    "\n",
    "The functions we saw previously when building calculated columns operated on each row of the table individually. \n",
    "In contrast, <a href=\"https://duckdb.org/docs/sql/aggregates.html\" target=\"_blank\">aggregate functions</a> summarize many rows of the table. \n",
    "By default, they will summarize all rows (stay tuned though!). \n",
    "For example, let's find the minimum and maximum `Beak_Width` of any bird in the dataset."
   ]
  },
  {
   "cell_type": "code",
   "execution_count": null,
   "id": "f7b4ed9c",
   "metadata": {},
   "outputs": [],
   "source": [
    "%%dql\n",
    "SELECT \n",
    "    MIN(Beak_Width) AS Min_Beak_Width,\n",
    "    MAX(Beak_Width) AS Max_Beak_Width\n",
    "FROM birds;"
   ]
  },
  {
   "cell_type": "markdown",
   "id": "4c45d537",
   "metadata": {},
   "source": [
    "However, aggregating an entire table all the way up to just a single row isn't always what we are looking for. \n",
    "Next, we will use the `GROUP BY` clause to apply aggregate functions to groups of rows instead of all rows.\n",
    "\n",
    "\n",
    "\n",
    "## 2. Group Rows (GROUP BY Clause)\n",
    "\n",
    "\n",
    "To group the rows based on a specific column (or columns) and perform <a href=\"https://duckdb.org/docs/sql/aggregates.html\" target=\"_blank\">aggregate functions</a>, you can use the `GROUP BY` clause. For example, if you want to group the birds by their species name and calculate the average `Beak_Width`, `Beak_Depth` and `Beak_Length_Culmen` for each group, you can run this query:"
   ]
  },
  {
   "cell_type": "code",
   "execution_count": null,
   "id": "b2406bf9",
   "metadata": {},
   "outputs": [],
   "source": [
    "%%dql\n",
    "SELECT\n",
    "    Species_Common_Name,\n",
    "    AVG(Beak_Width) AS Avg_Beak_Width,\n",
    "    AVG(Beak_Depth) AS Avg_Beak_Depth,\n",
    "    AVG(Beak_Length_Culmen) AS Avg_Beak_Length_Culmen\n",
    "FROM birds\n",
    "GROUP BY Species_Common_Name;"
   ]
  },
  {
   "cell_type": "markdown",
   "id": "375a7d49",
   "metadata": {},
   "source": [
    "This command groups the rows by the `Species_Common_Name` column and calculates the average `Beak_Width`, `Beak_Depth` and `Beak_Length_Culmen` for the individuals in each bird species group.\n",
    "\n",
    "Multiple columns can be included within a `GROUP BY` clause, separated by commas. \n",
    "In this example, we measure the maximum `wing_length` by `Country_WRI` and `Source`.\n",
    "This example shows that these columns do not have to be hierarchically related - the `GROUP BY` will show all combinations of data in those columns."
   ]
  },
  {
   "cell_type": "code",
   "execution_count": null,
   "id": "3507f3fe",
   "metadata": {},
   "outputs": [],
   "source": [
    "%%dql \n",
    "SELECT \n",
    "    Country_WRI,\n",
    "    Source,\n",
    "    MAX(wing_length)\n",
    "FROM birds \n",
    "GROUP BY\n",
    "    Country_WRI,\n",
    "    Source"
   ]
  },
  {
   "cell_type": "markdown",
   "id": "cf888768",
   "metadata": {
    "cell_type": "markdown"
   },
   "source": [
    "**Exercise 2.03**\n",
    "\n",
    "\n",
    "Run a query that gets the average `Beak_Length_Culmen`, `Wing_Length` and `Tail_Length` for all birds."
   ]
  },
  {
   "cell_type": "code",
   "execution_count": null,
   "id": "0d0cf2ed",
   "metadata": {},
   "outputs": [],
   "source": [
    "# Show solution\n",
    "!cat ./answers/answer_2.03.sql"
   ]
  },
  {
   "cell_type": "markdown",
   "id": "451fa7cf",
   "metadata": {
    "cell_type": "markdown"
   },
   "source": [
    "**Exercise 2.04**\n",
    "\n",
    "Run a query that finds the average `Tail_Length` by `Species_Common_Name` and by `Country_WRI`."
   ]
  },
  {
   "cell_type": "code",
   "execution_count": null,
   "id": "752a2e89",
   "metadata": {},
   "outputs": [],
   "source": [
    "# Show solution\n",
    "!cat ./answers/answer_2.04.sql"
   ]
  },
  {
   "cell_type": "markdown",
   "id": "ed500e4f",
   "metadata": {},
   "source": [
    "### Getting the 95<sup>th</sup> percentile of a column value\n",
    "\n",
    "We've used `GROUP BY` to group by a certain column, and used an aggregate function to combine other columns in our query, for instance, by taking the average. But, what if we want to get the 95<sup>th</sup> percentile of a column value? DuckDB has a built-in aggregate function for that too! For instance, to get the 95<sup>th</sup> percentile value of the `Beak_Length_Culmen` of all birds, run:"
   ]
  },
  {
   "cell_type": "code",
   "execution_count": null,
   "id": "61bc256f",
   "metadata": {},
   "outputs": [],
   "source": [
    "%%dql\n",
    "SELECT \n",
    "    QUANTILE_CONT(Beak_Length_Culmen, 0.95)\n",
    "FROM birds;"
   ]
  },
  {
   "cell_type": "markdown",
   "id": "c4b7d53c",
   "metadata": {
    "cell_type": "markdown"
   },
   "source": [
    "**Exercise 2.05**\n",
    "\n",
    "Run a query that gets the 95<sup>th</sup> percentile and 99<sup>th</sup> percentile of `Beak_Length_Culmen` for all birds."
   ]
  },
  {
   "cell_type": "code",
   "execution_count": null,
   "id": "4f19a290",
   "metadata": {},
   "outputs": [],
   "source": [
    "# Show solution\n",
    "!cat ./answers/answer_2.05.sql"
   ]
  },
  {
   "cell_type": "markdown",
   "id": "cd177d0a",
   "metadata": {
    "cell_type": "markdown"
   },
   "source": [
    "**Exercise 2.06**\n",
    "\n",
    "Run a query that gets the 99<sup>th</sup> percentile of `Wing_Length` by `Species_Common_Name`."
   ]
  },
  {
   "cell_type": "code",
   "execution_count": null,
   "id": "335b4b16",
   "metadata": {},
   "outputs": [],
   "source": [
    "# Show solution\n",
    "!cat ./answers/answer_2.06.sql"
   ]
  },
  {
   "cell_type": "markdown",
   "id": "9073d2c6",
   "metadata": {},
   "source": [
    "## 3. Understanding SQL Joins\n",
    "\n",
    "### INNER JOIN (JOIN)\n",
    "In SQL, a Join operation allows you to combine rows from two or more tables based on a related column between them. This is incredibly useful when you need to pull together related information that is stored in different tables.\n",
    "\n",
    "Let's combine the `birds` and `ducks` tables to find the `Beak_Length_Culmen` of all birds that are ducks. To do this, we'll use a SQL Join operation. Specifically, we'll use an `INNER JOIN`, which combines rows from both tables only when there is a match in the `Species_Common_Name` column."
   ]
  },
  {
   "cell_type": "code",
   "execution_count": null,
   "id": "c57b086b",
   "metadata": {},
   "outputs": [],
   "source": [
    "%%dql\n",
    "SELECT\n",
    "    birds.column00 as id,\n",
    "    birds.Species_Common_Name,\n",
    "    birds.Beak_Length_Culmen,\n",
    "    ducks.author\n",
    "FROM birds\n",
    "INNER JOIN ducks ON birds.Species_Common_Name = ducks.name;"
   ]
  },
  {
   "cell_type": "markdown",
   "id": "2e1a8814",
   "metadata": {},
   "source": [
    "### Step-by-Step Explanation\n",
    "Let's break down the SQL query step by step:\n",
    "\n",
    "`SELECT birds.column00 as id, birds.Species_Common_Name, birds.Beak_Length_Culmen, ducks.author`: We're selecting the species id, name and beak length from the `birds` table, and the duck species author from the `ducks` table.\n",
    "\n",
    "Up until now, we haven't needed to specify which table a column is coming from since we have been working with just one table! \n",
    "Now we prefix column names with the name of the table they come from. \n",
    "As a note, this is not required if the column names in the two tables are completely different from one another, but it is a good best practice. \n",
    "\n",
    "`FROM birds`: We're starting with the `birds` table.\n",
    "\n",
    "`INNER JOIN ducks ON birds.Species_Common_Name = ducks.name`: We're joining the birds table to the ducks table where the species' common name matches in both tables. \n",
    "We are using table prefixes again for clarity.\n",
    "\n",
    "### INNER JOIN Gotchas\n",
    "\n",
    "**NOTE:** When using an `INNER JOIN`, we only show output rows where there are matching values in both tables. \n",
    "This has dramatically reduced the number of output rows since now we are only looking at ducks!\n",
    "\n",
    "**NOTE:** If a join between 2 tables results in multiple matches, all matches will be returned. \n",
    "This can mean that your result can actually return **more** rows after a join, in some cases!\n",
    "(Imagine that we had messy data in `ducks.csv`, and one species mistakenly had multiple authors. We would have 1 row in our result for each author.)\n",
    "\n",
    "**NOTE:** `INNER JOIN` is the default kind of join in SQL. So if you see a query that just says `... table1 JOIN table2 ...`, then it is using an `INNER JOIN`!\n",
    "It is common practice to omit `INNER`. \n",
    "\n",
    "**NOTE:** It is possible to join on multiple columns. \n",
    "For example, imagine wanting to connect two tables by matching both a first name column and last name column. \n",
    "Inequality conditions are also possible (as we will see later!)."
   ]
  },
  {
   "cell_type": "markdown",
   "id": "b9093a86",
   "metadata": {
    "cell_type": "markdown"
   },
   "source": [
    "**Exercise 2.07**\n",
    "\n",
    "Run a query that gets the name, `Beak_Length_Culmen`, `Wing_Length` and `Tail_Length` of birds that are ducks."
   ]
  },
  {
   "cell_type": "code",
   "execution_count": null,
   "id": "2fe6d05e",
   "metadata": {},
   "outputs": [],
   "source": [
    "# Show solution\n",
    "!cat ./answers/answer_2.07.sql"
   ]
  },
  {
   "cell_type": "markdown",
   "id": "f6fd9ad9",
   "metadata": {
    "cell_type": "markdown"
   },
   "source": [
    "**Exercise 2.08**\n",
    "\n",
    "Let's run a similar query, but group the ducks by species. Run a query that gets the `Species_Common_Name`, _average_ `Beak_Length_Culmen`, `Wing_Length` and `Tail_Length` of birds that are ducks, and sort the results by `Species_Common_Name`."
   ]
  },
  {
   "cell_type": "code",
   "execution_count": null,
   "id": "8a4672e8",
   "metadata": {},
   "outputs": [],
   "source": [
    "# Show solution\n",
    "!cat ./answers/answer_2.08.sql"
   ]
  },
  {
   "cell_type": "markdown",
   "id": "68e5995b",
   "metadata": {},
   "source": [
    "### LEFT OUTER JOIN (LEFT JOIN)\n",
    "\n",
    "A `LEFT OUTER JOIN` will keep all rows from the `LEFT` table in the join (the table before the `LEFT JOIN` keywords), even if there is not a match in the table on the right.\n",
    "Any rows that do not have a match in the right table will have the value `NULL` for all columns from the right table. \n",
    "`NULL` is the missing value indicator in SQL. \n",
    "\n",
    "This can be useful when adding optional details.\n",
    "For example, in our situtation, ducks will have an author, but all other birds will not."
   ]
  },
  {
   "cell_type": "code",
   "execution_count": null,
   "id": "1f615b9d",
   "metadata": {},
   "outputs": [],
   "source": [
    "%%dql\n",
    "SELECT\n",
    "    birds.column00 as id,\n",
    "    birds.Species_Common_Name,\n",
    "    birds.Beak_Length_Culmen,\n",
    "    ducks.author\n",
    "FROM birds\n",
    "LEFT JOIN ducks ON birds.Species_Common_Name = ducks.name;"
   ]
  },
  {
   "cell_type": "markdown",
   "id": "468b63d9",
   "metadata": {},
   "source": [
    "Notice how the `LEFT JOIN` query has 90371 rows in the result (the same number of rows as the `birds` table), and the `INNER JOIN` query only had 662 rows. \n",
    "\n",
    "The `author` column contains the Python missing value indicator of `None`, which is equivalent to SQL's `NULL`. \n",
    "\n",
    "### LEFT JOIN Gotchas\n",
    "\n",
    "**NOTE:** A `LEFT JOIN` usually, but not always, will result in the same number of rows as the left table. \n",
    "Cases where this is not true include:\n",
    "* Duplicates in the columns that are being joined in the right table\n",
    "* A `WHERE` clause that filters the result"
   ]
  },
  {
   "cell_type": "markdown",
   "id": "f7b94012",
   "metadata": {
    "cell_type": "markdown"
   },
   "source": [
    "**Exercise 2.09**\n",
    "\n",
    "Modify the `LEFT JOIN` query above to filter to only rows that are **NOT** ducks. \n",
    "\n",
    "Hint: In Python (like in SQL), nothing equals None! \n",
    "Just like in Python, we use the `IS` keyword to check if a value is missing."
   ]
  },
  {
   "cell_type": "code",
   "execution_count": null,
   "id": "4c32771c",
   "metadata": {},
   "outputs": [],
   "source": [
    "# Show solution\n",
    "!cat ./answers/answer_2.09.sql"
   ]
  },
  {
   "cell_type": "markdown",
   "id": "9df13bed",
   "metadata": {},
   "source": [
    "## 3. Subqueries\n",
    "\n",
    "### What is a Subquery?\n",
    "\n",
    "A subquery, also known as a nested query, is a query within another SQL query. It's like a query inside a query! Subqueries are used to perform operations that require multiple steps, such as filtering data based on a complex condition or aggregating data before using it in the main query. In other words, instead of creating multiple new tables as intermediate steps, you can define these steps within the scope of a larger query.\n",
    "\n",
    "### Using Subqueries in DuckDB\n",
    "\n",
    "Let's start by looking at our previously example query to understand how subqueries work in DuckDB.\n",
    "\n",
    "#### Finding the top `Beak_Length_Culmen`\n",
    "\n",
    "Suppose we want to find the _individual_ ducks with the largest `Beak_Length_Culmen`. We can use a subquery to calculate the 99<sup>th</sup> percentile of `Beak_Length_Culmen` first, and then use that result in our main query:"
   ]
  },
  {
   "cell_type": "code",
   "execution_count": null,
   "id": "a26a5995",
   "metadata": {},
   "outputs": [],
   "source": [
    "%%dql\n",
    "SELECT\n",
    "    birds.column00 as id,\n",
    "    birds.Species_Common_Name,\n",
    "    birds.Beak_Length_Culmen\n",
    "FROM birds\n",
    "INNER JOIN ducks ON birds.Species_Common_Name = ducks.name\n",
    "WHERE birds.Beak_Length_Culmen > (\n",
    "    SELECT QUANTILE_CONT(birds.Beak_Length_Culmen, 0.99)\n",
    "    FROM birds \n",
    "    INNER JOIN ducks ON birds.Species_Common_Name = ducks.name\n",
    ")\n",
    "ORDER BY birds.Beak_Length_Culmen DESC;"
   ]
  },
  {
   "cell_type": "markdown",
   "id": "ad2e8f1f",
   "metadata": {},
   "source": [
    "In this example, the subquery (`SELECT QUANTILE_CONT(birds.Beak_Length_Culmen, 0.99) FROM birds INNER JOIN ducks ON birds.Species_Common_Name = ducks.name`) calculates the 99<sup>th</sup> percentile of beak length for all birds that are ducks. The main query then selects the names and beak measurements of individual ducks who have a beak length above this value."
   ]
  },
  {
   "cell_type": "markdown",
   "id": "5d440437",
   "metadata": {
    "cell_type": "markdown"
   },
   "source": [
    "**Exercise 2.10**\n",
    "\n",
    "\n",
    "Find the duck species that have a `Wing_Length` larger than the 99<sup>th</sup> percentile of all ducks."
   ]
  },
  {
   "cell_type": "code",
   "execution_count": null,
   "id": "4bca6ab8",
   "metadata": {},
   "outputs": [],
   "source": [
    "# Show solution\n",
    "!cat ./answers/answer_2.10.sql"
   ]
  },
  {
   "cell_type": "markdown",
   "id": "75b6da1b",
   "metadata": {
    "cell_type": "markdown"
   },
   "source": [
    "**Exercise 2.11**\n",
    "\n",
    "Can you find any duck species that have both a `Wing_Length` _and_ `Beak_Length_Culmen` larger than the 95<sup>th</sup> percentile of all duck species?"
   ]
  },
  {
   "cell_type": "code",
   "execution_count": null,
   "id": "13ac71cf",
   "metadata": {},
   "outputs": [],
   "source": [
    "# Show solution\n",
    "!cat ./answers/answer_2.11.sql"
   ]
  },
  {
   "cell_type": "markdown",
   "id": "37961679",
   "metadata": {
    "cell_type": "markdown"
   },
   "source": [
    "**Exercise 2.12**\n",
    "\n",
    "NOTE: This is extra credit!\n",
    "\n",
    "Instead of individual ducks, find the duck species that _on average_ have a measured beak size that is larger than the 95<sup>th</sup> percentile of all ducks."
   ]
  },
  {
   "cell_type": "code",
   "execution_count": null,
   "id": "f62b530a",
   "metadata": {},
   "outputs": [],
   "source": [
    "# Show solution\n",
    "!cat ./answers/answer_2.12.sql"
   ]
  },
  {
   "cell_type": "markdown",
   "id": "b20798b7",
   "metadata": {},
   "source": [
    "#### Using the WITH Clause\n",
    "\n",
    "The `WITH` clause is an alternative to a subquery that has 2 key advantages: it can increase readability, and it allows for reusability. \n",
    "The technical term for a `WITH` clause is a Common Table Expression (abbreviated CTE), which describes how it can be reusable.\n",
    "\n",
    "Now, let's see how we can use the `WITH` clause to make our queries more readable. Suppose we want to find the individual ducks that have a beak length above the 99<sup>th</sup> percentile of duck beaks. Here's how we can do it using the `WITH` clause:"
   ]
  },
  {
   "cell_type": "code",
   "execution_count": null,
   "id": "d3d59579",
   "metadata": {},
   "outputs": [],
   "source": [
    "%%dql\n",
    "WITH\n",
    "    duck_beaks AS (\n",
    "        SELECT\n",
    "            column00 as id,\n",
    "            Species_Common_Name,\n",
    "            Beak_Length_Culmen\n",
    "        FROM birds\n",
    "        INNER JOIN ducks ON name = Species_Common_Name\n",
    "    ),\n",
    "\n",
    "    pc99_beak_len AS (\n",
    "        SELECT QUANTILE_CONT(Beak_Length_Culmen, 0.99) AS Top_Beak_Length \n",
    "        FROM duck_beaks\n",
    "    )\n",
    "\n",
    "SELECT\n",
    "    duck_beaks.id,\n",
    "    duck_beaks.Species_Common_Name,\n",
    "    duck_beaks.Beak_Length_Culmen\n",
    "FROM duck_beaks\n",
    "INNER JOIN pc99_beak_len ON duck_beaks.Beak_Length_Culmen > pc99_beak_len.Top_Beak_Length\n",
    "ORDER BY duck_beaks.Beak_Length_Culmen DESC;"
   ]
  },
  {
   "cell_type": "markdown",
   "id": "ee64da13",
   "metadata": {},
   "source": [
    "In this example, the `WITH` clause creates two temporary result sets called `duck_beaks` and `pc99_beak_len`. The main query then selects the names and beak measurements of ducks with `Beak_Length_Culmen` above the top 99<sup>th</sup> percentile beak length."
   ]
  },
  {
   "cell_type": "markdown",
   "id": "bd50217d",
   "metadata": {
    "cell_type": "markdown"
   },
   "source": [
    "**Exercise 2.13**\n",
    "\n",
    "Find the duck species that have an average `Wing_Length` larger than the 95<sup>th</sup> percentile of all duck species."
   ]
  },
  {
   "cell_type": "code",
   "execution_count": null,
   "id": "1b8ce006",
   "metadata": {},
   "outputs": [],
   "source": [
    "# Show solution\n",
    "!cat ./answers/answer_2.13.sql"
   ]
  },
  {
   "cell_type": "markdown",
   "id": "8cc4b927",
   "metadata": {
    "cell_type": "markdown"
   },
   "source": [
    "**Exercise 2.14**\n",
    "\n",
    "What about the duck species that have both a `Wing_Length` _or_ `Beak_Length_Culmen` larger than the 95sup>th</sup> percentile of all duck species?"
   ]
  },
  {
   "cell_type": "code",
   "execution_count": null,
   "id": "fea80443",
   "metadata": {},
   "outputs": [],
   "source": [
    "# Show solution\n",
    "!cat ./answers/answer_2.14.sql"
   ]
  }
 ],
 "metadata": {
  "kernelspec": {
   "display_name": "Python 3",
   "language": "python",
   "name": "python3"
  }
 },
 "nbformat": 4,
 "nbformat_minor": 5
}
