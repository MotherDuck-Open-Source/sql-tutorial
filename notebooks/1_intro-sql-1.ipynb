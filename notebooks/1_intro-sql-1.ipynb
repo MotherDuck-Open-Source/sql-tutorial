{
 "cells": [
  {
   "cell_type": "markdown",
   "id": "3d894523",
   "metadata": {},
   "source": [
    "<a target=\"_blank\" href=\"https://colab.research.google.com/github/MotherDuck-Open-Source/sql-tutorial\">\n",
    "  <img src=\"https://colab.research.google.com/assets/colab-badge.svg\" alt=\"Open In Colab\"/>\n",
    "</a>\n",
    "\n",
    "# 1. Learn to quack SQL with DuckDB: The Basics\n",
    "\n",
    "Today, we'll cover some basic operations in DuckDB SQL. DuckDB is a high-performance analytical database system designed for easy integration with data science workflows. It is particularly well-suited for in-memory processing and can handle complex queries efficiently. Learning SQL is a great skill because it allows you to manage and analyze large datasets quickly and effectively.\n",
    "\n",
    "Let's dive in and learn how to load data, grab a whole table, pick specific columns, add a calculated column, and filter rows using the `WHERE` clause.\n",
    "\n",
    "To start off, install the latest version of `duckdb` and `magic-duckdb` to run this notebook."
   ]
  },
  {
   "cell_type": "code",
   "execution_count": null,
   "id": "242c45db",
   "metadata": {},
   "outputs": [],
   "source": [
    "!pip install --upgrade duckdb magic-duckdb --quiet\n",
    "%load_ext magic_duckdb"
   ]
  },
  {
   "cell_type": "markdown",
   "id": "b123d6dc",
   "metadata": {
    "cell_type": "markdown"
   },
   "source": [
    "**Note**\n",
    "\n",
    "If you are in Google Collab or a Jupyter notebook, remember to put the magic `%%dql` directive in the beginning of each SQL cell."
   ]
  },
  {
   "cell_type": "markdown",
   "id": "f4879b65",
   "metadata": {
    "cell_type": "markdown"
   },
   "source": [
    "## Basic operations\n",
    "\n",
    "Let's get started with inspecting some data! We'll use the [washington_weather.csv](https://raw.githubusercontent.com/MotherDuck-Open-Source/sql-tutorial/main/data/washington_weather.csv) dataset.\n",
    "\n",
    "To download the dataset directly from GitHub, run:"
   ]
  },
  {
   "cell_type": "code",
   "execution_count": null,
   "id": "160acaf0",
   "metadata": {},
   "outputs": [],
   "source": [
    "!wget https://raw.githubusercontent.com/MotherDuck-Open-Source/sql-tutorial/main/data/washington_weather.csv -q\n",
    "!wget https://raw.githubusercontent.com/MotherDuck-Open-Source/sql-tutorial/main/answers/answers_1.zip -q \n",
    "!unzip -o answers_1.zip -d answers "
   ]
  },
  {
   "cell_type": "markdown",
   "id": "a6988e7b",
   "metadata": {},
   "source": [
    "## Create a new table from a CSV file\n",
    "\n",
    "DuckDB makes it very easy to load data from a CSV file. To create a new table from a file, run:"
   ]
  },
  {
   "cell_type": "code",
   "execution_count": null,
   "id": "994ca6c5",
   "metadata": {},
   "outputs": [],
   "source": [
    "%%dql\n",
    "CREATE TABLE weather AS SELECT * FROM read_csv('washington_weather.csv');"
   ]
  },
  {
   "cell_type": "markdown",
   "id": "257c3f2e",
   "metadata": {},
   "source": [
    "In general, it's easy to create a new table! The syntax `CREATE TABLE <name> AS ...` lets you create a new table using any query. If you want to overwrite an existing table, you can use the `CREATE OR REPLACE TABLE <name> AS ...` syntax. For more information about the `CREATE TABLE` syntax, see the <a href=\"https://duckdb.org/docs/sql/statements/create_table\" target=\"_blank\">docs</a>."
   ]
  },
  {
   "cell_type": "markdown",
   "id": "c5537c98",
   "metadata": {
    "cell_type": "markdown"
   },
   "source": [
    "**Exercise 1.01**\n",
    "\n",
    "Recreate the table called `weather` by selecting all columns in the [washington_weather.csv](https://raw.githubusercontent.com/MotherDuck-Open-Source/sql-tutorial/main/data/washington_weather.csv) file."
   ]
  },
  {
   "cell_type": "code",
   "execution_count": null,
   "id": "4ebc0b1c",
   "metadata": {},
   "outputs": [],
   "source": [
    "# Show solution\n",
    "!cat ./answers/answer_1.01.sql"
   ]
  },
  {
   "cell_type": "markdown",
   "id": "e4e4fc34",
   "metadata": {},
   "source": [
    "## Describe the table\n",
    "\n",
    "You can now describe the table to learn its structure:"
   ]
  },
  {
   "cell_type": "code",
   "execution_count": null,
   "id": "048115ee",
   "metadata": {},
   "outputs": [],
   "source": [
    "%%dql\n",
    "DESCRIBE weather;"
   ]
  },
  {
   "cell_type": "markdown",
   "id": "4e41757a",
   "metadata": {},
   "source": [
    "This returns a table that shows you details about the columns, such as the column name and its type.\n",
    "\n",
    "### Grab the Whole Table\n",
    "\n",
    "To see all the data in the `weather` table, you can use the following SQL query:"
   ]
  },
  {
   "cell_type": "code",
   "execution_count": null,
   "id": "92f4be7d",
   "metadata": {},
   "outputs": [],
   "source": [
    "%%dql\n",
    "SELECT * FROM weather;"
   ]
  },
  {
   "cell_type": "markdown",
   "id": "c5d5be13",
   "metadata": {},
   "source": [
    "This query selects all columns and rows from the `weather` table.\n",
    "\n",
    "### Filter Rows (WHERE Clause)\n",
    "\n",
    "To filter rows based on certain conditions, you can use the `WHERE` clause. For example, if you only want to see the dates where a temperature higher than 75 was observed, you can run this query:"
   ]
  },
  {
   "cell_type": "code",
   "execution_count": null,
   "id": "42269890",
   "metadata": {},
   "outputs": [],
   "source": [
    "%%dql\n",
    "SELECT * FROM weather WHERE temperature_obs > 82;"
   ]
  },
  {
   "cell_type": "markdown",
   "id": "0d2497cd",
   "metadata": {},
   "source": [
    "This command selects all columns from the weather table, but only includes rows where the observed temperature is greater than 82°F.\n",
    "\n",
    "To combine filters for two or more different columns, you can use `AND` or `OR`:"
   ]
  },
  {
   "cell_type": "code",
   "execution_count": null,
   "id": "e2abab68",
   "metadata": {},
   "outputs": [],
   "source": [
    "%%dql\n",
    "SELECT * FROM weather WHERE precipitation > 2.5 OR elevation > 600;"
   ]
  },
  {
   "cell_type": "markdown",
   "id": "b2174eed",
   "metadata": {},
   "source": [
    "```{note}\n",
    "In DuckDB, strings are indicated with single quotes, like so: `'my string value'`, and column names with double quotes, like so: `\"my column name\"`. You'll only need to use double quotes for your column names if they contain spaces or special characters.\n",
    "```"
   ]
  },
  {
   "cell_type": "markdown",
   "id": "0eb3965c",
   "metadata": {
    "cell_type": "markdown"
   },
   "source": [
    "**Exercise 1.02**\n",
    "\n",
    "Filter rows where the station name is `'TACOMA NUMBER 1, WA US'`."
   ]
  },
  {
   "cell_type": "code",
   "execution_count": null,
   "id": "d1707c61",
   "metadata": {},
   "outputs": [],
   "source": [
    "# Show solution\n",
    "!cat ./answers/answer_1.02.sql"
   ]
  },
  {
   "cell_type": "markdown",
   "id": "cfdf730d",
   "metadata": {},
   "source": [
    "### Pick the Columns that You Want\n",
    "\n",
    "Sometimes, you may only want to see specific columns. For example, if you only want to see the `temperature_max` and `temperature_min` columns, you can run this query:"
   ]
  },
  {
   "cell_type": "code",
   "execution_count": null,
   "id": "884e7bf1",
   "metadata": {},
   "outputs": [],
   "source": [
    "%%dql\n",
    "SELECT name, date, temperature_min, temperature_max FROM weather;"
   ]
  },
  {
   "cell_type": "markdown",
   "id": "2e4682ab",
   "metadata": {
    "cell_type": "markdown"
   },
   "source": [
    "**Exercise 1.03**\n",
    "\n",
    "Run a `DESCRIBE` query on the `weather` table to inspect the column names, and try selecting a few different ones! For example, select the `name`, `date`, `elevation`, `precipitation`, and/or `temperature_obs` columns."
   ]
  },
  {
   "cell_type": "code",
   "execution_count": null,
   "id": "2792145e",
   "metadata": {},
   "outputs": [],
   "source": [
    "# Show solution\n",
    "!cat ./answers/answer_1.03.sql"
   ]
  },
  {
   "cell_type": "markdown",
   "id": "54a58fcf",
   "metadata": {
    "cell_type": "markdown"
   },
   "source": [
    "**Exercise 1.04**\n",
    "\n",
    "Select the `temperature_max` and `temperature_min` columns, and filter down to only see the rows where both of those values are under 60 and above 50."
   ]
  },
  {
   "cell_type": "code",
   "execution_count": null,
   "id": "17bf5a70",
   "metadata": {},
   "outputs": [],
   "source": [
    "# Show solution\n",
    "!cat ./answers/answer_1.04.sql"
   ]
  },
  {
   "cell_type": "markdown",
   "id": "11841ea7",
   "metadata": {},
   "source": [
    "### Add a calculated Column\n",
    "\n",
    "You can also add a calculated column to your results. For example, if you want to calculate the average of two columns, `temperature_max` and `temperature_min`, you can do this:"
   ]
  },
  {
   "cell_type": "code",
   "execution_count": null,
   "id": "4eb8b18f",
   "metadata": {},
   "outputs": [],
   "source": [
    "%%dql\n",
    "SELECT name, date, (temperature_max + temperature_min) / 2 AS median_temperature \n",
    "FROM weather;"
   ]
  },
  {
   "cell_type": "markdown",
   "id": "4d4254cb",
   "metadata": {},
   "source": [
    "This command creates a new column called `median_temperature` that contains the average of `temperature_min` and `temperature_max`."
   ]
  },
  {
   "cell_type": "markdown",
   "id": "68d3aba5",
   "metadata": {
    "cell_type": "markdown"
   },
   "source": [
    "**Exercise 1.05**\n",
    "\n",
    "Add a new calculated column called `temperature_range` that gets the difference between `temperature_max` and `temperature_min` columns."
   ]
  },
  {
   "cell_type": "code",
   "execution_count": null,
   "id": "15e9725b",
   "metadata": {},
   "outputs": [],
   "source": [
    "# Show solution\n",
    "!cat ./answers/answer_1.05.sql"
   ]
  },
  {
   "cell_type": "markdown",
   "id": "5c183175",
   "metadata": {
    "cell_type": "markdown"
   },
   "source": [
    "**Exercise 1.06**\n",
    "\n",
    "Create a new calculated column, `temperature_obs_celcius`, that converts the observed temperature to °C using the equation: `(32°F − 32) × 5/9 = 0°C`."
   ]
  },
  {
   "cell_type": "code",
   "execution_count": null,
   "id": "deedac65",
   "metadata": {},
   "outputs": [],
   "source": [
    "# Show solution\n",
    "!cat ./answers/answer_1.06.sql"
   ]
  },
  {
   "cell_type": "markdown",
   "id": "d97c5626",
   "metadata": {},
   "source": [
    "### Order Rows (ORDER BY Clause)\n",
    "To sort the rows based on a specific column, you can use the ORDER BY clause. For example, if you want to order the students by their average_score in descending order, you can run this query:"
   ]
  },
  {
   "cell_type": "code",
   "execution_count": null,
   "id": "95516eea",
   "metadata": {},
   "outputs": [],
   "source": [
    "%%dql\n",
    "SELECT name, date, precipitation, (temperature_max + temperature_min) / 2 AS median_temperature \n",
    "FROM weather\n",
    "ORDER BY precipitation DESC;"
   ]
  },
  {
   "cell_type": "markdown",
   "id": "6187df66",
   "metadata": {},
   "source": [
    "This command sorts the rows by the `precipitation` column in descending order."
   ]
  },
  {
   "cell_type": "markdown",
   "id": "b4d1581d",
   "metadata": {
    "cell_type": "markdown"
   },
   "source": [
    "**Exercise 1.07**\n",
    "\n",
    "Use the query you created in the previous exercise and order the rows by `precipitation` in ascending order."
   ]
  },
  {
   "cell_type": "code",
   "execution_count": null,
   "id": "f618d3d2",
   "metadata": {},
   "outputs": [],
   "source": [
    "# Show solution\n",
    "!cat ./answers/answer_1.07.sql"
   ]
  },
  {
   "cell_type": "markdown",
   "id": "7aa48315",
   "metadata": {
    "cell_type": "markdown"
   },
   "source": [
    "**Exercise 1.08**\n",
    "\n",
    "Get the station `name`, `date`, `temperature_obs` and `precipitation`, and sort the table such that the row with the lowest temperature observed is at the top of the result table."
   ]
  },
  {
   "cell_type": "code",
   "execution_count": null,
   "id": "136b8c75",
   "metadata": {},
   "outputs": [],
   "source": [
    "# Show solution\n",
    "!cat ./answers/answer_1.08.sql"
   ]
  }
 ],
 "metadata": {
  "kernelspec": {
   "display_name": "Python 3",
   "language": "python",
   "name": "python3"
  }
 },
 "nbformat": 4,
 "nbformat_minor": 5
}
