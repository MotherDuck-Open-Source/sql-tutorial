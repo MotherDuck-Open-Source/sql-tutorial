{
 "cells": [
  {
   "cell_type": "markdown",
   "id": "3774b75e",
   "metadata": {},
   "source": [
    "<a target=\"_blank\" href=\"https://colab.research.google.com/github/MotherDuck-Open-Source/sql-tutorial\">\n",
    "  <img src=\"https://colab.research.google.com/assets/colab-badge.svg\" alt=\"Open In Colab\"/>\n",
    "</a>\n",
    "\n",
    "# 1. Learn to quack SQL with DuckDB: The Basics\n",
    "\n",
    "Today, we'll cover some basic operations in DuckDB SQL. DuckDB is a high-performance analytical database system designed for easy integration with data science workflows. It is particularly well-suited for in-memory processing and can handle complex queries efficiently. Learning SQL is a great skill because it allows you to manage and analyze large datasets quickly and effectively.\n",
    "\n",
    "Let's dive in and learn how to load data, grab a whole table, pick specific columns, add a calculated column, and filter rows using the `WHERE` clause.\n",
    "\n",
    "To start off, install the latest version of `duckdb` and `magic-duckdb` to run this notebook."
   ]
  },
  {
   "cell_type": "code",
   "execution_count": null,
   "id": "ed77b618",
   "metadata": {},
   "outputs": [],
   "source": [
    "!pip install --upgrade duckdb magic-duckdb --quiet\n",
    "%load_ext magic_duckdb"
   ]
  },
  {
   "cell_type": "markdown",
   "id": "feea7582",
   "metadata": {
    "cell_type": "markdown"
   },
   "source": [
    "**Note**\n",
    "\n",
    "If you are in Google Collab or a Jupyter notebook, remember to put the magic `%%dql` directive in the beginning of each SQL cell."
   ]
  },
  {
   "cell_type": "markdown",
   "id": "f418ba7e",
   "metadata": {
    "cell_type": "markdown"
   },
   "source": [
    "## Basic operations\n",
    "\n",
    "Let's get started with inspecting some data! We'll use the [washington_weather.csv](https://raw.githubusercontent.com/MotherDuck-Open-Source/sql-tutorial/main/data/washington_weather.csv) dataset.\n",
    "\n",
    "To download the dataset directly from GitHub, run:"
   ]
  },
  {
   "cell_type": "code",
   "execution_count": null,
   "id": "b24d9239",
   "metadata": {},
   "outputs": [],
   "source": [
    "!wget https://raw.githubusercontent.com/MotherDuck-Open-Source/sql-tutorial/main/data/washington_weather.csv -q\n",
    "!wget https://raw.githubusercontent.com/MotherDuck-Open-Source/sql-tutorial/main/answers/answers_1.zip -q \n",
    "!unzip -o answers_1.zip -d answers "
   ]
  },
  {
   "cell_type": "markdown",
   "id": "6aae8a60",
   "metadata": {},
   "source": [
    "## Create a new table from a CSV file\n",
    "\n",
    "DuckDB makes it very easy to load data from a CSV file. To create a new table from a file, run:"
   ]
  },
  {
   "cell_type": "code",
   "execution_count": null,
   "id": "06b0e643",
   "metadata": {},
   "outputs": [],
   "source": [
    "%%dql\n",
    "CREATE TABLE weather AS SELECT * FROM read_csv('washington_weather.csv');"
   ]
  },
  {
   "cell_type": "markdown",
   "id": "3b662a43",
   "metadata": {},
   "source": [
    "In general, it's easy to create a new table! The syntax `CREATE TABLE <name> AS ...` lets you create a new table using any query. If you want to overwrite an existing table, you can use the `CREATE OR REPLACE TABLE <name> AS ...` syntax. For more information about the `CREATE TABLE` syntax, see the <a href=\"https://duckdb.org/docs/sql/statements/create_table\" target=\"_blank\">docs</a>."
   ]
  },
  {
   "cell_type": "markdown",
   "id": "f680e495",
   "metadata": {
    "cell_type": "markdown"
   },
   "source": [
    "**Exercise 1.01**\n",
    "\n",
    "Recreate the table called `weather` by selecting all columns in the [washington_weather.csv](https://raw.githubusercontent.com/MotherDuck-Open-Source/sql-tutorial/main/data/washington_weather.csv) file."
   ]
  },
  {
   "cell_type": "code",
   "execution_count": null,
   "id": "341439ab",
   "metadata": {},
   "outputs": [],
   "source": [
    "# Uncomment and run to show solution\n",
    "# !cat ./answers/answer_1.01.sql"
   ]
  },
  {
   "cell_type": "markdown",
   "id": "17037269",
   "metadata": {},
   "source": [
    "## Describe the table\n",
    "\n",
    "You can now describe the table to learn its structure:"
   ]
  },
  {
   "cell_type": "code",
   "execution_count": null,
   "id": "5e9874da",
   "metadata": {},
   "outputs": [],
   "source": [
    "%%dql\n",
    "DESCRIBE weather;"
   ]
  },
  {
   "cell_type": "markdown",
   "id": "b66dd602",
   "metadata": {},
   "source": [
    "This returns a table that shows you details about the columns, such as the column name and its type.\n",
    "\n",
    "### Grab the Whole Table\n",
    "\n",
    "To see all the data in the `weather` table, you can use the following SQL query:"
   ]
  },
  {
   "cell_type": "code",
   "execution_count": null,
   "id": "19be256e",
   "metadata": {},
   "outputs": [],
   "source": [
    "%%dql\n",
    "SELECT * FROM weather;"
   ]
  },
  {
   "cell_type": "markdown",
   "id": "42fdb24e",
   "metadata": {},
   "source": [
    "This query selects all columns and rows from the `weather` table.\n",
    "\n",
    "### Filter Rows (WHERE Clause)\n",
    "\n",
    "To filter rows based on certain conditions, you can use the `WHERE` clause. For example, if you only want to see the dates where a temperature higher than 82 was observed, you can run this query:"
   ]
  },
  {
   "cell_type": "code",
   "execution_count": null,
   "id": "cb290490",
   "metadata": {},
   "outputs": [],
   "source": [
    "%%dql\n",
    "SELECT * FROM weather WHERE temperature_obs > 82;"
   ]
  },
  {
   "cell_type": "markdown",
   "id": "e22aca3e",
   "metadata": {},
   "source": [
    "This command selects all columns from the weather table, but only includes rows where the observed temperature is greater than 82°F.\n",
    "\n",
    "To combine filters for two or more different columns, you can use `AND` or `OR`:"
   ]
  },
  {
   "cell_type": "code",
   "execution_count": null,
   "id": "2b3ecef9",
   "metadata": {},
   "outputs": [],
   "source": [
    "%%dql\n",
    "SELECT * FROM weather WHERE precipitation > 2.5 OR elevation > 600;"
   ]
  },
  {
   "cell_type": "markdown",
   "id": "d1b98a7c",
   "metadata": {},
   "source": [
    "```{note}\n",
    "In DuckDB, strings are indicated with single quotes, like so: `'my string value'`, and column names with double quotes, like so: `\"my column name\"`. You'll only need to use double quotes for your column names if they contain spaces or special characters.\n",
    "```"
   ]
  },
  {
   "cell_type": "markdown",
   "id": "a01363b6",
   "metadata": {
    "cell_type": "markdown"
   },
   "source": [
    "**Exercise 1.02**\n",
    "\n",
    "Filter rows where the station name is `'TACOMA NUMBER 1, WA US'`."
   ]
  },
  {
   "cell_type": "code",
   "execution_count": null,
   "id": "cc52e943",
   "metadata": {},
   "outputs": [],
   "source": [
    "# Uncomment and run to show solution\n",
    "# !cat ./answers/answer_1.02.sql"
   ]
  },
  {
   "cell_type": "markdown",
   "id": "34f895b3",
   "metadata": {},
   "source": [
    "### Pick the Columns that You Want\n",
    "\n",
    "Sometimes, you may only want to see specific columns. For example, if you only want to see the `temperature_max` and `temperature_min` columns, you can run this query:"
   ]
  },
  {
   "cell_type": "code",
   "execution_count": null,
   "id": "16b10c9a",
   "metadata": {},
   "outputs": [],
   "source": [
    "%%dql\n",
    "SELECT name, date, temperature_min, temperature_max FROM weather;"
   ]
  },
  {
   "cell_type": "markdown",
   "id": "bc3c384b",
   "metadata": {
    "cell_type": "markdown"
   },
   "source": [
    "**Exercise 1.03**\n",
    "\n",
    "Run a `DESCRIBE` query on the `weather` table to inspect the column names, and try selecting a few different ones! For example, select the `name`, `date`, `elevation`, `precipitation`, and/or `temperature_obs` columns."
   ]
  },
  {
   "cell_type": "code",
   "execution_count": null,
   "id": "c7d9fcc7",
   "metadata": {},
   "outputs": [],
   "source": [
    "# Uncomment and run to show solution\n",
    "# !cat ./answers/answer_1.03.sql"
   ]
  },
  {
   "cell_type": "markdown",
   "id": "ad339072",
   "metadata": {
    "cell_type": "markdown"
   },
   "source": [
    "**Exercise 1.04**\n",
    "\n",
    "Select the `temperature_max` and `temperature_min` columns, and filter down to only see the rows where both of those values are under 60 and above 50."
   ]
  },
  {
   "cell_type": "code",
   "execution_count": null,
   "id": "06298607",
   "metadata": {},
   "outputs": [],
   "source": [
    "# Uncomment and run to show solution\n",
    "# !cat ./answers/answer_1.04.sql"
   ]
  },
  {
   "cell_type": "markdown",
   "id": "b2265e0f",
   "metadata": {},
   "source": [
    "### Add a calculated Column\n",
    "\n",
    "You can also add a calculated column to your results. For example, if you want to calculate the average of two columns, `temperature_max` and `temperature_min`, you can do this:"
   ]
  },
  {
   "cell_type": "code",
   "execution_count": null,
   "id": "8bb32474",
   "metadata": {},
   "outputs": [],
   "source": [
    "%%dql\n",
    "SELECT name, date, (temperature_max + temperature_min) / 2 AS mean_temperature\n",
    "FROM weather;"
   ]
  },
  {
   "cell_type": "markdown",
   "id": "cfd25435",
   "metadata": {},
   "source": [
    "This command creates a new column called `mean_temperature` that contains the average of `temperature_min` and `temperature_max`."
   ]
  },
  {
   "cell_type": "markdown",
   "id": "dbbb44da",
   "metadata": {
    "cell_type": "markdown"
   },
   "source": [
    "**Exercise 1.05**\n",
    "\n",
    "Add a new calculated column called `temperature_range` that gets the difference between `temperature_max` and `temperature_min` columns."
   ]
  },
  {
   "cell_type": "code",
   "execution_count": null,
   "id": "18dd882c",
   "metadata": {},
   "outputs": [],
   "source": [
    "# Uncomment and run to show solution\n",
    "# !cat ./answers/answer_1.05.sql"
   ]
  },
  {
   "cell_type": "markdown",
   "id": "2d925aec",
   "metadata": {
    "cell_type": "markdown"
   },
   "source": [
    "**Exercise 1.06**\n",
    "\n",
    "Create a new calculated column, `temperature_obs_celcius`, that converts the observed temperature to °C using the equation: `(32°F − 32) × 5/9 = 0°C`."
   ]
  },
  {
   "cell_type": "code",
   "execution_count": null,
   "id": "5f4f8295",
   "metadata": {},
   "outputs": [],
   "source": [
    "# Uncomment and run to show solution\n",
    "# !cat ./answers/answer_1.06.sql"
   ]
  },
  {
   "cell_type": "markdown",
   "id": "b6dc3d60",
   "metadata": {},
   "source": [
    "### Order Rows (ORDER BY Clause)\n",
    "To sort the rows based on a specific column, you can use the ORDER BY clause. For example, if you want to order the observations by the amount of precipitation with the rainiest days on top, you can run this query:"
   ]
  },
  {
   "cell_type": "code",
   "execution_count": null,
   "id": "af584a83",
   "metadata": {},
   "outputs": [],
   "source": [
    "%%dql\n",
    "SELECT name, date, precipitation, (temperature_max + temperature_min) / 2 AS mean_temperature\n",
    "FROM weather\n",
    "ORDER BY precipitation DESC;"
   ]
  },
  {
   "cell_type": "markdown",
   "id": "e9148f1e",
   "metadata": {},
   "source": [
    "This command sorts the rows by the `precipitation` column in descending order."
   ]
  },
  {
   "cell_type": "markdown",
   "id": "1c8c32c2",
   "metadata": {
    "cell_type": "markdown"
   },
   "source": [
    "**Exercise 1.07**\n",
    "\n",
    "Use the query you created in the previous exercise and order the rows by `precipitation` in ascending order."
   ]
  },
  {
   "cell_type": "code",
   "execution_count": null,
   "id": "fa207e28",
   "metadata": {},
   "outputs": [],
   "source": [
    "# Uncomment and run to show solution\n",
    "# !cat ./answers/answer_1.07.sql"
   ]
  },
  {
   "cell_type": "markdown",
   "id": "94ff059f",
   "metadata": {
    "cell_type": "markdown"
   },
   "source": [
    "**Exercise 1.08**\n",
    "\n",
    "Get the station `name`, `date`, `temperature_obs` and `precipitation`, and sort the table such that the row with the lowest temperature observed is at the top of the result table."
   ]
  },
  {
   "cell_type": "code",
   "execution_count": null,
   "id": "4a1ac0f2",
   "metadata": {},
   "outputs": [],
   "source": [
    "# Uncomment and run to show solution\n",
    "# !cat ./answers/answer_1.08.sql"
   ]
  }
 ],
 "metadata": {
  "kernelspec": {
   "display_name": "Python 3",
   "language": "python",
   "name": "python3"
  }
 },
 "nbformat": 4,
 "nbformat_minor": 5
}
