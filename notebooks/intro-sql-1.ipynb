{
 "cells": [
  {
   "cell_type": "markdown",
   "id": "ce1f3d79",
   "metadata": {},
   "source": [
    "# 1. Learn to quack SQL with DuckDB: The Basics\n",
    "\n",
    "Today, we'll cover some basic operations in DuckDB SQL. DuckDB is a high-performance analytical database system designed for easy integration with data science workflows. It is particularly well-suited for in-memory processing and can handle complex queries efficiently. Learning SQL is a great skill because it allows you to manage and analyze large datasets quickly and effectively.\n",
    "\n",
    "Let's dive in and learn how to load data, grab a whole table, pick specific columns, add a calculated column, and filter rows using the `WHERE` clause.\n",
    "\n",
    "To start off, install the latest version of `duckdb` and `magic-duckdb` to run this notebook."
   ]
  },
  {
   "cell_type": "code",
   "execution_count": null,
   "id": "1f9c8fb2",
   "metadata": {},
   "outputs": [],
   "source": [
    "!pip install --upgrade duckdb magic-duckdb --quiet\n",
    "%load_ext magic_duckdb"
   ]
  },
  {
   "cell_type": "markdown",
   "id": "dff68f16",
   "metadata": {
    "cell_type": "markdown"
   },
   "source": [
    "**Note**\n",
    "\n",
    "If you are in Google Collab or a Jupyter notebook, remember to put the magic `%%dql` directive in the beginning of each SQL cell."
   ]
  },
  {
   "cell_type": "markdown",
   "id": "5533b759",
   "metadata": {
    "cell_type": "markdown"
   },
   "source": [
    "## Basic operations\n",
    "\n",
    "Let's get started with inspecting some data! We'll use the [washington_weather.csv](https://raw.githubusercontent.com/MotherDuck-Open-Source/sql-tutorial/main/data/washington_weather.csv) dataset.\n",
    "\n",
    "To download the dataset directly from GitHub, run:"
   ]
  },
  {
   "cell_type": "code",
   "execution_count": null,
   "id": "eba98ac9",
   "metadata": {},
   "outputs": [],
   "source": [
    "!wget https://raw.githubusercontent.com/MotherDuck-Open-Source/sql-tutorial/main/data/washington_weather.csv -q"
   ]
  },
  {
   "cell_type": "markdown",
   "id": "8dfcb42b",
   "metadata": {},
   "source": [
    "## Create a new table from a CSV file\n",
    "\n",
    "DuckDB makes it very easy to load data from a CSV file. To create a new table from a file, run:"
   ]
  },
  {
   "cell_type": "code",
   "execution_count": null,
   "id": "1e03a4f0",
   "metadata": {},
   "outputs": [],
   "source": [
    "%%dql\n",
    "CREATE TABLE weather AS SELECT * FROM read_csv('washington_weather.csv');"
   ]
  },
  {
   "cell_type": "markdown",
   "id": "b08d21ba",
   "metadata": {},
   "source": [
    "In general, it's easy to create a new table! The syntax `CREATE TABLE <name> AS ...` lets you create a new table using any query. If you want to overwrite an existing table, you can use the `CREATE OR REPLACE TABLE <name> AS ...` syntax. For more information about the `CREATE TABLE` syntax, see the <a href=\"https://duckdb.org/docs/sql/statements/create_table\" target=\"_blank\">docs</a>."
   ]
  },
  {
   "cell_type": "markdown",
   "id": "f9472c4f",
   "metadata": {
    "cell_type": "markdown"
   },
   "source": [
    "**Exercise**\n",
    "\n",
    "Create a new table called `weather` by selecting all columns in the [washington_weather.csv](https://raw.githubusercontent.com/MotherDuck-Open-Source/sql-tutorial/main/data/washington_weather.csv) file."
   ]
  },
  {
   "cell_type": "markdown",
   "id": "e16c216c",
   "metadata": {
    "cell_type": "markdown"
   },
   "source": [
    "## Describe the table\n",
    "\n",
    "You can now describe the table to learn its structure:"
   ]
  },
  {
   "cell_type": "code",
   "execution_count": null,
   "id": "1eb74f64",
   "metadata": {},
   "outputs": [],
   "source": [
    "%%dql\n",
    "DESCRIBE weather;"
   ]
  },
  {
   "cell_type": "markdown",
   "id": "4133f591",
   "metadata": {},
   "source": [
    "This returns a table that shows you details about the columns, such as the column name and its type.\n",
    "\n",
    "### Grab the Whole Table\n",
    "\n",
    "To see all the data in the `weather` table, you can use the following SQL query:"
   ]
  },
  {
   "cell_type": "code",
   "execution_count": null,
   "id": "a46c5736",
   "metadata": {},
   "outputs": [],
   "source": [
    "%%dql\n",
    "SELECT * FROM weather;"
   ]
  },
  {
   "cell_type": "markdown",
   "id": "4b8a6cca",
   "metadata": {},
   "source": [
    "This query selects all columns and rows from the `weather` table.\n",
    "\n",
    "### Filter Rows (WHERE Clause)\n",
    "\n",
    "To filter rows based on certain conditions, you can use the `WHERE` clause. For example, if you only want to see the dates where a temperature higher than 75 was observed, you can run this query:"
   ]
  },
  {
   "cell_type": "code",
   "execution_count": null,
   "id": "ffd74e4c",
   "metadata": {},
   "outputs": [],
   "source": [
    "%%dql\n",
    "SELECT * FROM weather WHERE temperature_obs > 82;"
   ]
  },
  {
   "cell_type": "markdown",
   "id": "89360d91",
   "metadata": {},
   "source": [
    "This command selects all columns from the weather table, but only includes rows where the observed temperature is greater than 82°F.\n",
    "\n",
    "To combine filters for two or more different columns, you can use `AND` or `OR`:"
   ]
  },
  {
   "cell_type": "code",
   "execution_count": null,
   "id": "585c571a",
   "metadata": {},
   "outputs": [],
   "source": [
    "%%dql\n",
    "SELECT * FROM weather WHERE precipitation > 2.5 OR elevation > 600;"
   ]
  },
  {
   "cell_type": "markdown",
   "id": "0563cc91",
   "metadata": {},
   "source": [
    "```{note}\n",
    "In DuckDB, strings are indicated with single quotes, like so: `'my string value'`, and column names with double quotes, like so: `\"my column name\"`. You'll only need to use double quotes for your column names if they contain spaces or special characters.\n",
    "```"
   ]
  },
  {
   "cell_type": "markdown",
   "id": "fb5fe267",
   "metadata": {
    "cell_type": "markdown"
   },
   "source": [
    "**Exercise**\n",
    "\n",
    "Filter rows where the station name is `'TACOMA NUMBER 1, WA US'`."
   ]
  },
  {
   "cell_type": "markdown",
   "id": "efa0a252",
   "metadata": {
    "cell_type": "markdown"
   },
   "source": [
    "### Pick the Columns that You Want\n",
    "\n",
    "Sometimes, you may only want to see specific columns. For example, if you only want to see the `temperature_max` and `temperature_min` columns, you can run this query:"
   ]
  },
  {
   "cell_type": "code",
   "execution_count": null,
   "id": "af71d45c",
   "metadata": {},
   "outputs": [],
   "source": [
    "%%dql\n",
    "SELECT name, date, temperature_min, temperature_max FROM weather;"
   ]
  },
  {
   "cell_type": "markdown",
   "id": "9f013d4e",
   "metadata": {
    "cell_type": "markdown"
   },
   "source": [
    "**Exercise**\n",
    "\n",
    "Run a `DESCRIBE` query on the `weather` table to inspect the column names, and try selecting a few different ones! For example, select the `name`, `date`, `elevation`, `precipitation`, and/or `temperature_obs` columns."
   ]
  },
  {
   "cell_type": "markdown",
   "id": "e50b1eba",
   "metadata": {
    "cell_type": "markdown"
   },
   "source": [
    "**Exercise**\n",
    "\n",
    "Select the `temperature_max` and `temperature_min` columns, and filter down to only see the rows where both of those values are under 60 and above 50."
   ]
  },
  {
   "cell_type": "markdown",
   "id": "86c1e25a",
   "metadata": {
    "cell_type": "markdown"
   },
   "source": [
    "### Add a calculated Column\n",
    "\n",
    "You can also add a calculated column to your results. For example, if you want to calculate the average of two columns, `temperature_max` and `temperature_min`, you can do this:"
   ]
  },
  {
   "cell_type": "code",
   "execution_count": null,
   "id": "74812d75",
   "metadata": {},
   "outputs": [],
   "source": [
    "%%dql\n",
    "SELECT name, date, (temperature_max + temperature_min) / 2 AS median_temperature \n",
    "FROM weather;"
   ]
  },
  {
   "cell_type": "markdown",
   "id": "b3857ace",
   "metadata": {},
   "source": [
    "This command creates a new column called `median_temperature` that contains the average of `temperature_min` and `temperature_max`."
   ]
  },
  {
   "cell_type": "markdown",
   "id": "57f18228",
   "metadata": {
    "cell_type": "markdown"
   },
   "source": [
    "**Exercise**\n",
    "\n",
    "Add a new calculated column called `temperature_range` that gets the difference between `temperature_max` and `temperature_min` columns."
   ]
  },
  {
   "cell_type": "markdown",
   "id": "91099366",
   "metadata": {
    "cell_type": "markdown"
   },
   "source": [
    "**Exercise**\n",
    "\n",
    "Create a new calculated column, `temperature_obs_celcius`, that converts the observed temperature to °C using the equation: `(32°F − 32) × 5/9 = 0°C`."
   ]
  },
  {
   "cell_type": "markdown",
   "id": "67a8b4d7",
   "metadata": {
    "cell_type": "markdown"
   },
   "source": [
    "### Order Rows (ORDER BY Clause)\n",
    "To sort the rows based on a specific column, you can use the ORDER BY clause. For example, if you want to order the students by their average_score in descending order, you can run this query:"
   ]
  },
  {
   "cell_type": "code",
   "execution_count": null,
   "id": "b1a2b3c8",
   "metadata": {},
   "outputs": [],
   "source": [
    "%%dql\n",
    "SELECT name, date, precipitation, (temperature_max + temperature_min) / 2 AS median_temperature \n",
    "FROM weather\n",
    "ORDER BY precipitation DESC;"
   ]
  },
  {
   "cell_type": "markdown",
   "id": "56615417",
   "metadata": {},
   "source": [
    "This command sorts the rows by the `precipitation` column in descending order."
   ]
  },
  {
   "cell_type": "markdown",
   "id": "830b2692",
   "metadata": {
    "cell_type": "markdown"
   },
   "source": [
    "**Exercise**\n",
    "\n",
    "Use the query you created in the previous exercise and order the rows by `precipitation` in ascending order."
   ]
  },
  {
   "cell_type": "markdown",
   "id": "698e177b",
   "metadata": {
    "cell_type": "markdown"
   },
   "source": [
    "**Exercise**\n",
    "\n",
    "Get the station `name`, `date`, `temperature_obs` and `precipitation`, and sort the table such that the row with the lowest temperature observed is at the top of the result table."
   ]
  }
 ],
 "metadata": {
  "kernelspec": {
   "display_name": "Python 3",
   "language": "python",
   "name": "python3"
  }
 },
 "nbformat": 4,
 "nbformat_minor": 5
}
