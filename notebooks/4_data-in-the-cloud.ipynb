{
 "cells": [
  {
   "cell_type": "markdown",
   "id": "613bab6f",
   "metadata": {},
   "source": [
    "<a target=\"_blank\" href=\"https://colab.research.google.com/github/MotherDuck-Open-Source/sql-tutorial\">\n",
    "  <img src=\"https://colab.research.google.com/assets/colab-badge.svg\" alt=\"Open In Colab\"/>\n",
    "</a>\n",
    "\n",
    "# 4. Collaborating with data in the Cloud\n",
    "\n",
    "To start off, install the latest version of `duckdb`, `magic-duckdb` and `dash` to run this notebook."
   ]
  },
  {
   "cell_type": "code",
   "execution_count": null,
   "id": "452b7287",
   "metadata": {},
   "outputs": [],
   "source": [
    "!pip install duckdb==1.0.0 magic-duckdb dash -q\n",
    "%load_ext magic_duckdb"
   ]
  },
  {
   "cell_type": "markdown",
   "id": "c51e667e",
   "metadata": {},
   "source": [
    "We're also going to create a helper variable `IN_COLAB` to see if we're running Google Colab. This will come in handy later."
   ]
  },
  {
   "cell_type": "code",
   "execution_count": null,
   "id": "6f30f3f2",
   "metadata": {},
   "outputs": [],
   "source": [
    "try:\n",
    "  import google.colab\n",
    "  IN_COLAB = True\n",
    "except:\n",
    "  IN_COLAB = False"
   ]
  },
  {
   "cell_type": "markdown",
   "id": "1c605981",
   "metadata": {},
   "source": [
    "## Sign up for MotherDuck\n",
    "\n",
    "If you haven't already done it, [sign up for MotherDuck](https://app.motherduck.com/?auth_flow=signup).\n",
    "\n",
    "To connect to MotherDuck, all you need to do is connect to a `duckdb` database! Your MotherDuck databases will be accessible with the `md:` prefix. For example, to connect to the `sample_data` database and show the tables, uncomment the following lines and run:"
   ]
  },
  {
   "cell_type": "code",
   "execution_count": null,
   "id": "6e0d5d1a",
   "metadata": {},
   "outputs": [],
   "source": [
    "import duckdb\n",
    "con = duckdb.connect(\"md:sample_data\")"
   ]
  },
  {
   "cell_type": "markdown",
   "id": "5f21d559",
   "metadata": {},
   "source": [
    "However, this will throw an error! You actually need to specify your authentication token to connect to MotherDuck.\n",
    "\n",
    "To do so, you can [copy your token](https://app.motherduck.com/token-request?appName=Jupyter) from Motherduck and add it to your notebook \"Secrets\".\n",
    "\n",
    "If you are using Google Colab, you can click on the \"Secrets\" tab and add a new \"token\" secret there. See how to do that in the screenshot below.\n",
    "\n",
    "<img src=\"https://github.com/MotherDuck-Open-Source/sql-tutorial/blob/main/notebooks/Colab_Secret.png?raw=true\" width=400>\n",
    "\n",
    "Now, you can get your token from the secrets manager and load it into an environment variable. After this, you can connect to MotherDuck without any extra authentication steps!"
   ]
  },
  {
   "cell_type": "code",
   "execution_count": null,
   "id": "c0aa6868",
   "metadata": {},
   "outputs": [],
   "source": [
    "import os\n",
    "\n",
    "if IN_COLAB:\n",
    "  from google.colab import userdata\n",
    "  os.environ[\"motherduck_token\"] = userdata.get('token')"
   ]
  },
  {
   "cell_type": "markdown",
   "id": "4eea9832",
   "metadata": {},
   "source": [
    "If you're running in a Jupyter Notebook elsewhere, you can uncomment and run the following, and paste your token in the input field:"
   ]
  },
  {
   "cell_type": "code",
   "execution_count": null,
   "id": "97f8c08f",
   "metadata": {},
   "outputs": [],
   "source": [
    "# import getpass\n",
    "# os.environ[\"motherduck_token\"] = getpass.getpass(prompt='Password: ', stream=None)"
   ]
  },
  {
   "cell_type": "markdown",
   "id": "7bc243a1",
   "metadata": {
    "cell_type": "markdown"
   },
   "source": [
    "**Exercise 4.01**\n",
    "\n",
    "Create a connection to MotherDuck and show all tables in your `sample_data` database. You can use the `SHOW TABLES` command that is documented [here](https://duckdb.org/docs/guides/meta/list_tables.html)."
   ]
  },
  {
   "cell_type": "markdown",
   "id": "37645877",
   "metadata": {
    "cell_type": "markdown"
   },
   "source": [
    "## Run a query against DuckDB in the Cloud\n",
    "\n",
    "You are now all ready to go and query your Cloud data warehouse! One example in the `sample_data` database is the `service_requests` table, which contains [New York City 311 Service Requests](https://motherduck.com/docs/getting-started/sample-data-queries/nyc-311-data/) with requests to the city's complaint service from 2010 to the present.\n",
    "\n",
    "To query the data, you'll want to fully specify the table name with the following format:\n",
    "\n",
    "```sql\n",
    "<database name>.<schema>.<table name>\n",
    "```\n",
    "\n",
    "For example, you can run the below cell to get the service requests between March 27th and 31st of 2022:"
   ]
  },
  {
   "cell_type": "code",
   "execution_count": null,
   "id": "e4163c8a",
   "metadata": {},
   "outputs": [],
   "source": [
    "%%dql -co con\n",
    "SELECT\n",
    "  created_date, agency_name, complaint_type,\n",
    "  descriptor, incident_address, resolution_description\n",
    "\n",
    "FROM\n",
    "  sample_data.nyc.service_requests\n",
    "WHERE\n",
    "  created_date >= '2022-03-27' AND\n",
    "  created_date <= '2022-03-31';"
   ]
  },
  {
   "cell_type": "markdown",
   "id": "6f9445f5",
   "metadata": {
    "cell_type": "markdown"
   },
   "source": [
    "**Exercise 4.02**\n",
    "\n",
    "Run `DESCRIBE` on the `sample_data.who.ambient_air_quality` table to inspect the column names. Write a query that gets the average concentrations of PM1.0 and PM2.5 particles for the `'United States of America'`, for the last 10 years, grouped and ordered by year."
   ]
  },
  {
   "cell_type": "markdown",
   "id": "bd9efc80",
   "metadata": {
    "cell_type": "markdown"
   },
   "source": [
    "## Load data from Huggingface\n",
    "\n",
    "Now, let's try to load some data from a data source into MotherDuck. HuggingFace has recently released an extension for DuckDB, that lets you access and query their entire [datasets library](https://huggingface.co/datasets)!\n",
    "\n",
    "To query a HuggingFace dataset, you can run:"
   ]
  },
  {
   "cell_type": "code",
   "execution_count": null,
   "id": "0fd2e9a6",
   "metadata": {},
   "outputs": [],
   "source": [
    "%%dql -co con\n",
    "SELECT * FROM read_parquet('hf://datasets/datonic/threatened_animal_species/data/threatened_animal_species.parquet');"
   ]
  },
  {
   "cell_type": "markdown",
   "id": "465d4cd7",
   "metadata": {},
   "source": [
    "Before we create a new table with this data, let's first swap to a different database. You can do so by creating a new DuckDB connection, or by changing the database with the `USE` statement. For example, to connect to your default database, `my_db`, run:"
   ]
  },
  {
   "cell_type": "code",
   "execution_count": null,
   "id": "58882727",
   "metadata": {},
   "outputs": [],
   "source": [
    "%%dql -co con\n",
    "USE my_db;"
   ]
  },
  {
   "cell_type": "markdown",
   "id": "8462aff7",
   "metadata": {
    "cell_type": "markdown"
   },
   "source": [
    "**Exercise 4.03**\n",
    "\n",
    "Create a new table called `animals` in your MotherDuck database `md:my_db` based on the `datonic/threatened_animal_species` dataset."
   ]
  },
  {
   "cell_type": "markdown",
   "id": "b9e06091",
   "metadata": {
    "cell_type": "markdown"
   },
   "source": [
    "**Exercise 4.04**\n",
    "\n",
    "DuckDB releases are each named after a duck! Let's load [this data](https://duckdb.org/data/duckdb-releases.csv) into a new table called `duckdb_ducks`. You can use `read_csv` to load the data directly from the HTTP URL: `https://duckdb.org/data/duckdb-releases.csv`."
   ]
  },
  {
   "cell_type": "markdown",
   "id": "034a14fb",
   "metadata": {
    "cell_type": "markdown"
   },
   "source": [
    "## Sharing is caring: Teach your data to fly!\n",
    "\n",
    "Now, we have two tables that we can join together and share with our colleagues!\n",
    "\n",
    "Let's inspect them and take a look at the columns we have available."
   ]
  },
  {
   "cell_type": "code",
   "execution_count": null,
   "id": "9e349cb6",
   "metadata": {},
   "outputs": [],
   "source": [
    "%%dql -co con\n",
    "DESCRIBE animals;"
   ]
  },
  {
   "cell_type": "code",
   "execution_count": null,
   "id": "0dadc3e7",
   "metadata": {},
   "outputs": [],
   "source": [
    "%%dql -co con\n",
    "DESCRIBE duckdb_ducks;"
   ]
  },
  {
   "cell_type": "markdown",
   "id": "49f71d5a",
   "metadata": {},
   "source": [
    "Now, we can get the endangered species status of all DuckDB ducks by joining the two."
   ]
  },
  {
   "cell_type": "markdown",
   "id": "83540694",
   "metadata": {
    "cell_type": "markdown"
   },
   "source": [
    "**Exercise 4.05**\n",
    "\n",
    "Create a new table called `duckdb_species` that joins the `duckdb_ducks` and `animals` tables on the scientific name."
   ]
  },
  {
   "cell_type": "markdown",
   "id": "75d59850",
   "metadata": {
    "cell_type": "markdown"
   },
   "source": [
    "To share your database, you can run:"
   ]
  },
  {
   "cell_type": "code",
   "execution_count": null,
   "id": "6f82a4fd",
   "metadata": {},
   "outputs": [],
   "source": [
    "%%dql -co con -o df\n",
    "CREATE SHARE duck_share FROM my_db (ACCESS UNRESTRICTED);"
   ]
  },
  {
   "cell_type": "markdown",
   "id": "09da84c5",
   "metadata": {},
   "source": [
    "Now you can print the share URL:"
   ]
  },
  {
   "cell_type": "code",
   "execution_count": null,
   "id": "8e222718",
   "metadata": {},
   "outputs": [],
   "source": [
    "print(df.share_url.iloc[0])"
   ]
  },
  {
   "cell_type": "markdown",
   "id": "9ac139a4",
   "metadata": {
    "cell_type": "markdown"
   },
   "source": [
    "**Exercise 4.06**\n",
    "\n",
    "Check out these datasets from Huggingface: https://huggingface.co/datasets. Pick one, create a share and send it to your neighbor!"
   ]
  },
  {
   "cell_type": "markdown",
   "id": "8e6b7700",
   "metadata": {
    "cell_type": "markdown"
   },
   "source": [
    "To attach a share into your Cloud data warehouse, run:\n",
    "\n",
    "```sql\n",
    "ATTACH '<share_url>';\n",
    "```\n",
    "\n",
    "For example, to load the [Mosaic example datasets](https://github.com/motherduckdb/wasm-client/tree/main), run"
   ]
  },
  {
   "cell_type": "code",
   "execution_count": null,
   "id": "4c69bff3",
   "metadata": {},
   "outputs": [],
   "source": [
    "%%dql -co con\n",
    "ATTACH 'md:_share/mosaic_examples/b01cfda8-239e-4148-a228-054b94cdc3b4';"
   ]
  },
  {
   "cell_type": "markdown",
   "id": "c3e48413",
   "metadata": {},
   "source": [
    "You can then inspect the database and query the data like so:"
   ]
  },
  {
   "cell_type": "code",
   "execution_count": null,
   "id": "df2b3704",
   "metadata": {},
   "outputs": [],
   "source": [
    "%%dql -co con\n",
    "USE mosaic_examples;\n",
    "SHOW TABLES;"
   ]
  },
  {
   "cell_type": "code",
   "execution_count": null,
   "id": "cff474b9",
   "metadata": {},
   "outputs": [],
   "source": [
    "%%dql -co con\n",
    "SELECT * FROM seattle_weather;"
   ]
  },
  {
   "cell_type": "markdown",
   "id": "ff08c578",
   "metadata": {
    "cell_type": "markdown"
   },
   "source": [
    "**Exercise 4.07**\n",
    "\n",
    "Attach the share you received from your neighbor and inspect the tables."
   ]
  },
  {
   "cell_type": "markdown",
   "id": "4a2801ec",
   "metadata": {
    "cell_type": "markdown"
   },
   "source": [
    "## Detaching and removing your shares\n",
    "\n",
    "To detach a database someone shared with you, make sure it's not selected, and run `DETACH`:"
   ]
  },
  {
   "cell_type": "code",
   "execution_count": null,
   "id": "c39070bc",
   "metadata": {},
   "outputs": [],
   "source": [
    "%%dql -co con\n",
    "USE my_db;\n",
    "DETACH mosaic_examples;"
   ]
  },
  {
   "cell_type": "markdown",
   "id": "55138271",
   "metadata": {},
   "source": [
    "To drop the share you created, simply run:"
   ]
  },
  {
   "cell_type": "code",
   "execution_count": null,
   "id": "52e7991a",
   "metadata": {},
   "outputs": [],
   "source": [
    "%%dql -co con\n",
    "DROP SHARE duck_share;"
   ]
  },
  {
   "cell_type": "markdown",
   "id": "f0648f5f",
   "metadata": {},
   "source": [
    "## Visualize your data\n",
    "\n",
    "Now that your data is in the Cloud and easy to share, you can also create simple web apps that load and plot the data!\n",
    "\n",
    "Here is an example Dash app that you can run to plot data in the `sample_data` database."
   ]
  },
  {
   "cell_type": "code",
   "execution_count": null,
   "id": "02e9499b",
   "metadata": {
    "tags": [
     "remove-output"
    ]
   },
   "outputs": [],
   "source": [
    "from dash import Dash, html, dcc, callback, Output, Input\n",
    "import plotly.express as px\n",
    "import pandas as pd\n",
    "from sqlalchemy import create_engine, text\n",
    "\n",
    "con = duckdb.connect(\"md:sample_data\")\n",
    "\n",
    "countries = con.sql('SELECT DISTINCT country_name as countries FROM who.ambient_air_quality ORDER BY country_name')\n",
    "\n",
    "app = Dash()\n",
    "\n",
    "app.layout = [\n",
    "    html.H1(children='Air quality by country', style={'textAlign':'center', 'font-family':'monospace'}),\n",
    "    dcc.Dropdown(countries.df().countries.values.tolist(), 'Canada', id='dropdown-selection'),\n",
    "    dcc.Graph(id='graph-content')\n",
    "]\n",
    "\n",
    "@callback(\n",
    "    Output('graph-content', 'figure'),\n",
    "    Input('dropdown-selection', 'value')\n",
    ")\n",
    "def update_graph(value):\n",
    "    sql = \"SELECT year, avg(pm25_concentration) as avg_pm25 FROM who.ambient_air_quality WHERE country_name=? GROUP by year ORDER by year\"\n",
    "    result = con.execute(sql, [value]).df()\n",
    "    return px.line(result, x='year', y='avg_pm25')\n",
    "\n",
    "if __name__ == '__main__':\n",
    "  app.run(debug=True)"
   ]
  },
  {
   "cell_type": "markdown",
   "id": "5d392112",
   "metadata": {
    "cell_type": "markdown"
   },
   "source": [
    "**Exercise (bonus)**\n",
    "\n",
    "Create a dashboard that plots the data your neighbor shared with you. Share it in the `#scipy-2024` Slack channel so others can give it a try!"
   ]
  }
 ],
 "metadata": {
  "kernelspec": {
   "display_name": "Python 3",
   "language": "python",
   "name": "python3"
  }
 },
 "nbformat": 4,
 "nbformat_minor": 5
}
