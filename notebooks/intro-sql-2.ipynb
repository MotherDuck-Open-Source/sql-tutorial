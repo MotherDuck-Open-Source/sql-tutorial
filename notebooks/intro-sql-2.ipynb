{
 "cells": [
  {
   "cell_type": "markdown",
   "id": "718903e1",
   "metadata": {},
   "source": [
    "# 2. Learn to quack SQL with DuckDB: Group by, Joins and Subqueries\n",
    "\n",
    "To start off, install the latest version of `duckdb` and `magic-duckdb` to run this notebook."
   ]
  },
  {
   "cell_type": "code",
   "execution_count": null,
   "id": "291f14c3",
   "metadata": {},
   "outputs": [],
   "source": [
    "!pip install --upgrade duckdb magic-duckdb --quiet\n",
    "%load_ext magic_duckdb"
   ]
  },
  {
   "cell_type": "markdown",
   "id": "49909450",
   "metadata": {},
   "source": [
    "## Example Tables\n",
    "Let's start with two datasets:\n",
    "\n",
    "- [birds.csv](https://raw.githubusercontent.com/MotherDuck-Open-Source/sql-tutorial/main/data/birds.csv): a list of measurements of individuals of different bird species\n",
    "- [ducks.csv](https://raw.githubusercontent.com/MotherDuck-Open-Source/sql-tutorial/main/data/ducks.csv): a list of scientific names of bird species that are ducks\n",
    "\n",
    "To download the datasets directly from GitHub, run:"
   ]
  },
  {
   "cell_type": "code",
   "execution_count": null,
   "id": "beb86cd6",
   "metadata": {},
   "outputs": [],
   "source": [
    "!wget https://raw.githubusercontent.com/MotherDuck-Open-Source/sql-tutorial/main/data/birds.csv -q\n",
    "!wget https://raw.githubusercontent.com/MotherDuck-Open-Source/sql-tutorial/main/data/ducks.csv -q"
   ]
  },
  {
   "cell_type": "markdown",
   "id": "b990ede2",
   "metadata": {},
   "source": [
    "To create the tables in your database, run:"
   ]
  },
  {
   "cell_type": "code",
   "execution_count": null,
   "id": "582fec2b",
   "metadata": {},
   "outputs": [],
   "source": [
    "%%dql\n",
    "CREATE TABLE birds AS SELECT * FROM read_csv('birds.csv');\n",
    "CREATE TABLE ducks AS SELECT * FROM read_csv('ducks.csv');"
   ]
  },
  {
   "cell_type": "markdown",
   "id": "10b046ab",
   "metadata": {},
   "source": [
    "To inspect the names of the columns by describing the tables, you can run:"
   ]
  },
  {
   "cell_type": "code",
   "execution_count": null,
   "id": "4f698cf6",
   "metadata": {},
   "outputs": [],
   "source": [
    "%%dql\n",
    "DESCRIBE birds;\n",
    "DESCRIBE ducks;"
   ]
  },
  {
   "cell_type": "markdown",
   "id": "a7d4f109",
   "metadata": {
    "cell_type": "markdown"
   },
   "source": [
    "**Exercise**\n",
    "\n",
    "Create a new table `birds` from the file `birds.csv`, which contains the names and measurements of individuals from over 10k bird species."
   ]
  },
  {
   "cell_type": "markdown",
   "id": "360aa858",
   "metadata": {
    "cell_type": "markdown"
   },
   "source": [
    "**Exercise**\n",
    "\n",
    "Create a new table `ducks` from the file `ducks.csv`, which contains species names and common names of ducks."
   ]
  },
  {
   "cell_type": "markdown",
   "id": "a887304c",
   "metadata": {
    "cell_type": "markdown"
   },
   "source": [
    "## 1. Group Rows (GROUP BY Clause)\n",
    "\n",
    "To group the rows based on a specific column and perform <a href=\"https://duckdb.org/docs/sql/aggregates.html\" target=\"_blank\">aggregate functions</a>, you can use the `GROUP BY` clause. For example, if you want to group the birds by their species name and calculate the average `Beak_Length_Culmen` for each group, you can run this query:"
   ]
  },
  {
   "cell_type": "code",
   "execution_count": null,
   "id": "6a61a483",
   "metadata": {},
   "outputs": [],
   "source": [
    "%%dql\n",
    "SELECT\n",
    "    Species_Common_Name,\n",
    "    AVG(Beak_Width) AS Avg_Beak_Width,\n",
    "    AVG(Beak_Depth) AS Avg_Beak_Depth,\n",
    "    AVG(Beak_Length_Culmen) AS Avg_Beak_Length_Culmen\n",
    "FROM birds\n",
    "GROUP BY Species_Common_Name;"
   ]
  },
  {
   "cell_type": "markdown",
   "id": "428ec11c",
   "metadata": {},
   "source": [
    "This command groups the rows by the `Species_Common_Name` column and calculates the average `Beak_Width`, `Beak_Depth` and `Beak_Length_Culmen` for the individuals in each bird species group."
   ]
  },
  {
   "cell_type": "markdown",
   "id": "289341f5",
   "metadata": {
    "cell_type": "markdown"
   },
   "source": [
    "**Exercise**\n",
    "\n",
    "Run a query that gets the average `Beak_Length_Culmen`, `Wing_Length` and `Tail_Length` for all birds."
   ]
  },
  {
   "cell_type": "markdown",
   "id": "6677e2c5",
   "metadata": {
    "cell_type": "markdown"
   },
   "source": [
    "### Getting the 95<sup>th</sup> percentile of a column value\n",
    "\n",
    "We've used `GROUP BY` to group by a certain column, and used an aggregate function to combine other columns in our query, for instance, by taking the average. But, what if we want to get the 95<sup>th</sup> percentile of a column value? For that, we can also use something called an <a href=\"https://duckdb.org/docs/sql/aggregates.html#ordered-set-aggregate-functions\" target=\"_blank\">ordered set aggregate function</a>. For instance, to get the 95<sup>th</sup> percentile value of the `Beak_Length_Culmen` of all birds, run:"
   ]
  },
  {
   "cell_type": "code",
   "execution_count": null,
   "id": "e04f7e41",
   "metadata": {},
   "outputs": [],
   "source": [
    "%%dql\n",
    "SELECT PERCENTILE_CONT(0.95) WITHIN GROUP (ORDER BY Beak_Length_Culmen)\n",
    "FROM birds;"
   ]
  },
  {
   "cell_type": "markdown",
   "id": "6cba9e48",
   "metadata": {
    "cell_type": "markdown"
   },
   "source": [
    "**Exercise**\n",
    "\n",
    "Run a query that gets the 95<sup>th</sup> percentile and 99<sup>th</sup> percentile of `Beak_Length_Culmen` for all birds."
   ]
  },
  {
   "cell_type": "markdown",
   "id": "04c3d707",
   "metadata": {
    "cell_type": "markdown"
   },
   "source": [
    "**Exercise**\n",
    "\n",
    "Run a query that gets the 99<sup>th</sup> percentile of `Wing_Length` for all birds."
   ]
  },
  {
   "cell_type": "markdown",
   "id": "b2296cad",
   "metadata": {
    "cell_type": "markdown"
   },
   "source": [
    "## 2. Understanding SQL Joins\n",
    "\n",
    "In SQL, a Join operation allows you to combine rows from two or more tables based on a related column between them. This is incredibly useful when you need to pull together related information that is stored in different tables.\n",
    "\n",
    "Let's combine the `birds` and `ducks` tables to find the `Beak_Length_Culmen` of all birds that are ducks. To do this, we'll use a SQL Join operation. Specifically, we'll use an `INNER JOIN`, which combines rows from both tables only when there is a match in the `Species_Common_Name` column."
   ]
  },
  {
   "cell_type": "code",
   "execution_count": null,
   "id": "87b761c7",
   "metadata": {},
   "outputs": [],
   "source": [
    "%%dql\n",
    "SELECT\n",
    "    Species_Common_Name,\n",
    "    Beak_Length_Culmen,\n",
    "    author\n",
    "FROM birds\n",
    "INNER JOIN ducks ON name = Species_Common_Name;"
   ]
  },
  {
   "cell_type": "markdown",
   "id": "a21a42f6",
   "metadata": {},
   "source": [
    "### Step-by-Step Explanation\n",
    "Let's break down the SQL query step by step:\n",
    "\n",
    "`SELECT Species_Common_Name, Beak_Length_Culmen, author`: We're selecting the species name and beak length from the `birds` table, and the duck species author from the `ducks` table.\n",
    "\n",
    "`FROM birds`: We're starting with the `birds` table.\n",
    "\n",
    "`INNER JOIN ducks ON name = Species_Common_Name`: We're joining the birds table to the ducks table where the species' common name matches in both tables."
   ]
  },
  {
   "cell_type": "markdown",
   "id": "4247b0ee",
   "metadata": {
    "cell_type": "markdown"
   },
   "source": [
    "**Exercise**\n",
    "\n",
    "Run a query that gets the name, `Beak_Length_Culmen`, `Wing_Length` and `Tail_Length` of birds that are ducks."
   ]
  },
  {
   "cell_type": "markdown",
   "id": "d5df5217",
   "metadata": {
    "cell_type": "markdown"
   },
   "source": [
    "**Exercise**\n",
    "\n",
    "Let's run a similar query, but group the ducks by species. Run a query that gets the `Species_Common_Name`, _average_ `Beak_Length_Culmen`, `Wing_Length` and `Tail_Length` of birds that are ducks, and sort the results by `Species_Common_Name`."
   ]
  },
  {
   "cell_type": "markdown",
   "id": "4bccb816",
   "metadata": {
    "cell_type": "markdown"
   },
   "source": [
    " \n",
    "\n",
    "## 3. Subqueries\n",
    "\n",
    "### What is a Subquery?\n",
    "\n",
    "A subquery, also known as an inner query or nested query, is a query within another SQL query. It's like a query inside a query! Subqueries are used to perform operations that require multiple steps, such as filtering data based on a complex condition or aggregating data before using it in the main query. In other words, instead of creating multiple new tables as intermediate steps, you can define these steps within the scope of a larger query.\n",
    "\n",
    "### Using Subqueries in DuckDB\n",
    "\n",
    "Let's start by looking at our previously example query to understand how subqueries work in DuckDB.\n",
    "\n",
    "#### Finding the top `Beak_Length_Culmen`\n",
    "\n",
    "Suppose we want to find the _individual_ ducks with the largest `Beak_Length_Culmen`. We can use a subquery to calculate the 95<sup>th</sup> percentile of `Beak_Length_Culmen` first, and then use that result in our main query:"
   ]
  },
  {
   "cell_type": "code",
   "execution_count": null,
   "id": "16fee27f",
   "metadata": {},
   "outputs": [],
   "source": [
    "%%dql\n",
    "SELECT\n",
    "    Species_Common_Name,\n",
    "    Beak_Length_Culmen\n",
    "FROM birds\n",
    "INNER JOIN ducks ON name = Species_Common_Name\n",
    "WHERE Beak_Length_Culmen > (\n",
    "    SELECT PERCENTILE_CONT(0.99) WITHIN GROUP (ORDER BY Beak_Length_Culmen)\n",
    "    FROM birds INNER JOIN ducks ON name = Species_Common_Name\n",
    ")\n",
    "ORDER BY Beak_Length_Culmen DESC;"
   ]
  },
  {
   "cell_type": "markdown",
   "id": "b94ab654",
   "metadata": {},
   "source": [
    "In this example, the subquery (`SELECT PERCENTILE_CONT(0.99) WITHIN GROUP (ORDER BY Beak_Length_Culmen) FROM birds INNER JOIN ducks ON name = Species_Common_Name`) calculates the 99<sup>th</sup> percentile of beak length for all birds that are ducks. The main query then selects the names and beak measurements of individual ducks who have a beak length above this value."
   ]
  },
  {
   "cell_type": "markdown",
   "id": "b459fafc",
   "metadata": {
    "cell_type": "markdown"
   },
   "source": [
    "**Exercise**\n",
    "\n",
    "Instead of individual ducks, find the duck species that _on average_ have a measured beak size that is larger than the 99<sup>th</sup> percentile of all ducks."
   ]
  },
  {
   "cell_type": "markdown",
   "id": "374b0e05",
   "metadata": {
    "cell_type": "markdown"
   },
   "source": [
    "**Exercise**\n",
    "\n",
    "Find the duck species that have a `Wing_Length` larger than the 99<sup>th</sup> percentile of all ducks."
   ]
  },
  {
   "cell_type": "markdown",
   "id": "38d10af7",
   "metadata": {
    "cell_type": "markdown"
   },
   "source": [
    "**Exercise**\n",
    "\n",
    "Can you find any duck species that have both a `Wing_Length` _and_ `Beak_Length_Culmen` larger than the 95<sup>th</sup> percentile of all duck species?"
   ]
  },
  {
   "cell_type": "markdown",
   "id": "b0635a09",
   "metadata": {
    "cell_type": "markdown"
   },
   "source": [
    "#### Using the WITH Clause\n",
    "\n",
    "Now, let's see how we can use the `WITH` clause to make our queries more readable. Suppose we want to find the names and measurements of individual ducks that have a beak length above the average. Here's how we can do it using the `WITH` clause:"
   ]
  },
  {
   "cell_type": "code",
   "execution_count": null,
   "id": "5c84d60f",
   "metadata": {},
   "outputs": [],
   "source": [
    "%%dql\n",
    "WITH\n",
    "    duck_beaks AS (\n",
    "        SELECT\n",
    "            Species_Common_Name,\n",
    "            Beak_Length_Culmen\n",
    "        FROM birds\n",
    "        INNER JOIN ducks ON name = Species_Common_Name\n",
    "    ),\n",
    "\n",
    "    pc99_beak_len AS (\n",
    "        SELECT PERCENTILE_CONT(0.99) WITHIN GROUP (ORDER BY Beak_Length_Culmen) AS Top_Beak_Length from duck_beaks\n",
    "    )\n",
    "\n",
    "SELECT\n",
    "    Species_Common_Name,\n",
    "    Beak_Length_Culmen\n",
    "FROM duck_beaks, pc99_beak_len\n",
    "WHERE Beak_Length_Culmen > Top_Beak_Length\n",
    "ORDER BY Beak_Length_Culmen DESC;"
   ]
  },
  {
   "cell_type": "markdown",
   "id": "b888763a",
   "metadata": {},
   "source": [
    "In this example, the `WITH` clause creates two temporary result sets called `duck_beaks` and `pc99_beak_len`. The main query then selects the names and beak measurements of ducks with `Beak_Length_Culmen` above the top 99<sup>th</sup> percentile beak length."
   ]
  },
  {
   "cell_type": "markdown",
   "id": "e7126d0a",
   "metadata": {
    "cell_type": "markdown"
   },
   "source": [
    "**Exercise**\n",
    "\n",
    "Find the duck species that have an average `Wing_Length` larger than the 99<sup>th</sup> percentile of all duck species."
   ]
  },
  {
   "cell_type": "code",
   "execution_count": null,
   "id": "84833268",
   "metadata": {
    "tags": [
     "hide-cell"
    ]
   },
   "outputs": [],
   "source": [
    "%%dql\n",
    "WITH\n",
    "    duck_wings AS (\n",
    "        SELECT\n",
    "            Species_Common_Name,\n",
    "            AVG(Wing_Length) AS Wing_Length_avg\n",
    "        FROM birds\n",
    "        INNER JOIN ducks ON name = Species_Common_Name\n",
    "        GROUP BY Species_Common_Name\n",
    "    ),\n",
    "\n",
    "    pc99_wing_length AS (\n",
    "        SELECT PERCENTILE_CONT(0.99) WITHIN GROUP (ORDER BY Wing_Length_avg) AS Top_Wing_Length_avg from duck_wings\n",
    "    )\n",
    "\n",
    "SELECT\n",
    "    Species_Common_Name,\n",
    "    Wing_Length_avg\n",
    "FROM duck_wings, pc99_wing_length\n",
    "WHERE Wing_Length_avg > Top_Wing_Length_avg\n",
    "ORDER BY Wing_Length_avg DESC;"
   ]
  },
  {
   "cell_type": "markdown",
   "id": "10a91462",
   "metadata": {
    "cell_type": "markdown"
   },
   "source": [
    "**Exercise**\n",
    "\n",
    "What about the duck species that have both a `Wing_Length` _or_ `Beak_Length_Culmen` larger than the 99<sup>th</sup> percentile of all duck species?"
   ]
  },
  {
   "cell_type": "code",
   "execution_count": null,
   "id": "c3eefc5e",
   "metadata": {
    "tags": [
     "hide-cell"
    ]
   },
   "outputs": [],
   "source": [
    "%%dql\n",
    "WITH\n",
    "    duck_beaks_and_wings AS (\n",
    "        SELECT\n",
    "            Species_Common_Name,\n",
    "            AVG(Wing_Length) AS Wing_Length_avg,\n",
    "            AVG(Beak_Length_Culmen) AS Beak_Length_Culmen_avg\n",
    "        FROM birds\n",
    "        INNER JOIN ducks ON name = Species_Common_Name\n",
    "        GROUP BY Species_Common_Name\n",
    "    ),\n",
    "\n",
    "    pc99_beak_len AS (\n",
    "        SELECT PERCENTILE_CONT(0.99) WITHIN GROUP (ORDER BY Beak_Length_Culmen_avg) AS Top_Beak_Length_avg from duck_beaks_and_wings\n",
    "    ),\n",
    "\n",
    "    pc99_wing_len AS (\n",
    "        SELECT PERCENTILE_CONT(0.99) WITHIN GROUP (ORDER BY Wing_Length_avg) AS Top_Wing_Length_avg from duck_beaks_and_wings\n",
    "    )\n",
    "\n",
    "SELECT\n",
    "    Species_Common_Name,\n",
    "    Top_Beak_Length_avg,\n",
    "    Beak_Length_Culmen_avg,\n",
    "    Top_Wing_Length_avg,\n",
    "    Wing_Length_avg\n",
    "FROM duck_beaks_and_wings, pc99_beak_len, pc99_wing_len\n",
    "WHERE Beak_Length_Culmen_avg > Top_Beak_Length_avg\n",
    "OR Wing_Length_avg > Top_Wing_Length_avg\n",
    "ORDER BY Beak_Length_Culmen_avg DESC;"
   ]
  }
 ],
 "metadata": {
  "kernelspec": {
   "display_name": "Python 3",
   "language": "python",
   "name": "python3"
  }
 },
 "nbformat": 4,
 "nbformat_minor": 5
}
