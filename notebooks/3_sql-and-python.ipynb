{
 "cells": [
  {
   "cell_type": "markdown",
   "id": "f8fd31ec",
   "metadata": {},
   "source": [
    "<a target=\"_blank\" href=\"https://colab.research.google.com/github/MotherDuck-Open-Source/sql-tutorial\">\n",
    "  <img src=\"https://colab.research.google.com/assets/colab-badge.svg\" alt=\"Open In Colab\"/>\n",
    "</a>\n",
    "\n",
    "# 3. Combining SQL and Python\n",
    "\n",
    "## A. Using `duckdb` from Python\n",
    "\n",
    "DuckDB is released with a native Python client. You can install it with a simple pip install, and there are no dependencies required.\n",
    "\n",
    "Google Collab even has duckdb pre-installed!\n",
    "\n",
    "We will also install a few dataframe libraries, but these are optional unless you would like to do some of your analysis outside of DuckDB!"
   ]
  },
  {
   "cell_type": "code",
   "execution_count": null,
   "id": "a0c54200",
   "metadata": {},
   "outputs": [],
   "source": [
    "!pip install --upgrade duckdb pandas polars pyarrow -q"
   ]
  },
  {
   "cell_type": "code",
   "execution_count": null,
   "id": "9b6e1efb",
   "metadata": {},
   "outputs": [],
   "source": [
    "!wget https://raw.githubusercontent.com/MotherDuck-Open-Source/sql-tutorial/main/data/ducks.csv -q --show-progress\n",
    "!wget https://raw.githubusercontent.com/MotherDuck-Open-Source/sql-tutorial/main/answers/answers_3.zip -q \n",
    "!unzip -o answers_3.zip -d answers "
   ]
  },
  {
   "cell_type": "markdown",
   "id": "674315c9",
   "metadata": {},
   "source": [
    "DuckDB follows the Python DB API spec, so you can use it the same way you would use another database.\n",
    "fetchall() returns a list of tuples."
   ]
  },
  {
   "cell_type": "code",
   "execution_count": null,
   "id": "6bb0a3d3",
   "metadata": {},
   "outputs": [],
   "source": [
    "import duckdb\n",
    "\n",
    "duckdb.execute(\"SELECT 42 as hello_world\").fetchall()"
   ]
  },
  {
   "cell_type": "markdown",
   "id": "642fcfff",
   "metadata": {},
   "source": [
    "DuckDB also has a .sql method that has some convenience features beyond .execute. We recommend using .sql!"
   ]
  },
  {
   "cell_type": "code",
   "execution_count": null,
   "id": "000cd55b",
   "metadata": {},
   "outputs": [],
   "source": [
    "duckdb.sql(\"SELECT 42 as hello_world\").fetchall()"
   ]
  },
  {
   "cell_type": "markdown",
   "id": "777a5355",
   "metadata": {},
   "source": [
    "## B. Writing Pandas DataFrames with DuckDB\n",
    "DuckDB can also return a DataFrame directly using .df(), instead of a list of tuples!\n",
    "\n",
    "This is much faster for large datasets, and fits nicely into existing dataframe workflows like charting (which we will see later) or machine learning."
   ]
  },
  {
   "cell_type": "code",
   "execution_count": null,
   "id": "1653f05e",
   "metadata": {},
   "outputs": [],
   "source": [
    "duckdb.sql(\"SELECT 42 as hello_world\").df()"
   ]
  },
  {
   "cell_type": "markdown",
   "id": "6471f29c",
   "metadata": {},
   "source": [
    "If that output looks familiar, it's because we have been using Pandas DataFrames the entire time we have been using duckdb_magic! duckdb_magic returns a dataframe as the result of each SQL query.\n",
    "\n",
    "## C. Reading Pandas DataFrames\n",
    "Not only can DuckDB write dataframes, but it can read them as if they were a table!\n",
    "\n",
    "No copying is required - DuckDB will read the existing Pandas object by scanning the C++ objects underneath Pandas' Python objects.\n",
    "\n",
    "For example, to create a Pandas dataframe and access it from DuckDB, you can run:"
   ]
  },
  {
   "cell_type": "code",
   "execution_count": null,
   "id": "49d1ab74",
   "metadata": {},
   "outputs": [],
   "source": [
    "import pandas as pd\n",
    "ducks_pandas = pd.read_csv('ducks.csv')\n",
    "\n",
    "duckdb.sql(\"SELECT * FROM ducks_pandas\").df()"
   ]
  },
  {
   "cell_type": "markdown",
   "id": "bb4f54fb",
   "metadata": {},
   "source": [
    "### When to use pd.read_csv?\n",
    "How would you decide whether to use Pandas or DuckDB to read a CSV file? There are pros to each!\n",
    "\n",
    "## D. Reading and Writing Polars and Apache Arrow\n",
    "\n",
    "In addition to Pandas, DuckDB is also fully interoperable with Polars and Apache Arrow.\n",
    "\n",
    "Polars is a faster and more modern alternative to Pandas, and has a much smaller API to learn.\n",
    "\n",
    "Apache Arrow is *the* industry standard tabular data transfer format. Polars is actually built on top of Apache Arrow data types. Apache Arrow and DuckDB types are highly compatible. Apache Arrow has also taken inspiration from DuckDB's `VARCHAR` data type with their new `STRING_VIEW` type."
   ]
  },
  {
   "cell_type": "code",
   "execution_count": null,
   "id": "415e1224",
   "metadata": {},
   "outputs": [],
   "source": [
    "import polars as pl\n",
    "import pyarrow as pa\n",
    "import pyarrow.csv as pa_csv"
   ]
  },
  {
   "cell_type": "code",
   "execution_count": null,
   "id": "d4ff23df",
   "metadata": {},
   "outputs": [],
   "source": [
    "ducks_polars = pl.read_csv('ducks.csv')\n",
    "duckdb.sql(\"\"\"SELECT * FROM ducks_polars\"\"\").pl()"
   ]
  },
  {
   "cell_type": "code",
   "execution_count": null,
   "id": "fae2543f",
   "metadata": {},
   "outputs": [],
   "source": [
    "ducks_arrow = pa_csv.read_csv('ducks.csv')\n",
    "duckdb.sql(\"\"\"SELECT * FROM ducks_arrow\"\"\").arrow()"
   ]
  },
  {
   "cell_type": "markdown",
   "id": "2b03aba0",
   "metadata": {
    "cell_type": "markdown"
   },
   "source": [
    "**Exercise 3.01**\n",
    "\n",
    "Read in the birds.csv file using Apache Arrow, then use the DuckDB Python library to execute a SQL statement on that Apache Arrow table to find the maximum `wing_length` in the dataset. Output that result as an Apache Arrow table."
   ]
  },
  {
   "cell_type": "code",
   "execution_count": null,
   "id": "c95d5cd0",
   "metadata": {},
   "outputs": [],
   "source": [
    "# Show solution\n",
    "!cat ./answers/answer_3.01.py"
   ]
  },
  {
   "cell_type": "markdown",
   "id": "8c3d9bf2",
   "metadata": {
    "cell_type": "markdown"
   },
   "source": [
    "**Exercise 3.02**\n",
    "\n",
    "\n",
    "Use the DuckDB Python client to return these results as a Polars dataframe."
   ]
  },
  {
   "cell_type": "markdown",
   "id": "55739204",
   "metadata": {
    "cell_type": "markdown"
   },
   "source": [
    "sql\n",
    "SELECT\n",
    "    Species_Common_Name,\n",
    "    AVG(Beak_Width) AS Avg_Beak_Width,\n",
    "    AVG(Beak_Depth) AS Avg_Beak_Depth,\n",
    "    AVG(Beak_Length_Culmen) AS Avg_Beak_Length_Culmen\n",
    "FROM 'birds.csv'\n",
    "GROUP BY Species_Common_Name\n",
    "\n",
    "```\n",
    "```{code-cell}\n",
    "# Show solution\n",
    "!cat ./answers/answer_3.02.py\n",
    "```\n",
    "\n",
    "## 2. Using `ibis` with a DuckDB backend\n",
    "\n",
    "### A. Introduction to Ibis and DuckDB\n",
    "\n",
    "We'll show you how to leverage the power of DuckDB without even needing to write a single line of SQL. Instead, we'll use Ibis, a powerful Python library that allows you to interact with databases using a DataFrame-like syntax. We'll also show you how to combine the two so you can get the best of both worlds.\n",
    "\n",
    "First, let's make sure you have the necessary packages installed. You can install DuckDB and Ibis using pip:"
   ]
  },
  {
   "cell_type": "code",
   "execution_count": null,
   "id": "0eb9c773",
   "metadata": {},
   "outputs": [],
   "source": [
    "!pip install --upgrade --quiet 'ibis-framework[duckdb]'"
   ]
  },
  {
   "cell_type": "markdown",
   "id": "fd99ec04",
   "metadata": {},
   "source": [
    "We are using Ibis in interactive mode for demo purposes. This converts Ibis expressions from lazily evaluated to eagerly evaluated, so it is easier to see what is happening at each step. It also converts Ibis results into Pandas dataframes for nice formatting in Jupyter.\n",
    "\n",
    "For performance and memory reasons, we recommend not using interactive mode in production!\n",
    "\n",
    "We can connect to a file-based DuckDB database by specifying a file path."
   ]
  },
  {
   "cell_type": "code",
   "execution_count": null,
   "id": "783882c7",
   "metadata": {},
   "outputs": [],
   "source": [
    "import ibis\n",
    "from ibis import _\n",
    "ibis.options.interactive = True\n",
    "\n",
    "con = ibis.duckdb.connect(database='whats_quackalackin.duckdb')"
   ]
  },
  {
   "cell_type": "markdown",
   "id": "d1ec9293",
   "metadata": {},
   "source": [
    "We can read in a CSV using Ibis, and it will use the DuckDB `read_csv_auto` function under the hood. This way we get both DuckDB's performance, and clean Python syntax."
   ]
  },
  {
   "cell_type": "code",
   "execution_count": null,
   "id": "104164ac",
   "metadata": {},
   "outputs": [],
   "source": [
    "ducks_ibis = ibis.read_csv('ducks.csv')\n",
    "ducks_ibis"
   ]
  },
  {
   "cell_type": "markdown",
   "id": "fed36a58",
   "metadata": {},
   "source": [
    "The result of the prior read_csv operation is an Ibis object. It is similar to the result of a SQL query - it is not saved into the database automatically.\n",
    "\n",
    "To save the result of our read_csv into the DuckDB file, we create a table."
   ]
  },
  {
   "cell_type": "code",
   "execution_count": null,
   "id": "3009aca5",
   "metadata": {},
   "outputs": [],
   "source": [
    "persistent_ducks = con.create_table(name='persistent_ducks', obj=ducks_ibis.to_pyarrow(), overwrite=True)\n",
    "persistent_ducks"
   ]
  },
  {
   "cell_type": "markdown",
   "id": "ebd0026f",
   "metadata": {},
   "source": [
    "Now that we have a table set up, let's see how we can query this data using Ibis. With Ibis, you can perform operations on your data without writing SQL. Let's see how similar it feels...\n",
    "\n",
    "The question we will build up towards answering is, \"Who were the most prolific people at finding many new species of non-extinct ducks, and when did they get started finding ducks?\"\n",
    "\n",
    "Use a the `filter` function instead of a `where` clause to choose the rows you are interested in."
   ]
  },
  {
   "cell_type": "code",
   "execution_count": null,
   "id": "b189c608",
   "metadata": {},
   "outputs": [],
   "source": [
    "persistent_ducks.filter(persistent_ducks.extinct == 0)"
   ]
  },
  {
   "cell_type": "markdown",
   "id": "d356061b",
   "metadata": {},
   "source": [
    "Pick your columns using the conveniently named `select` function!"
   ]
  },
  {
   "cell_type": "code",
   "execution_count": null,
   "id": "e1d64f59",
   "metadata": {},
   "outputs": [],
   "source": [
    "(persistent_ducks\n",
    "  .filter(persistent_ducks.extinct == 0)\n",
    "  .select(\"name\", \"author\", \"year\")\n",
    ")"
   ]
  },
  {
   "cell_type": "markdown",
   "id": "d2d16243",
   "metadata": {},
   "source": [
    "The `group_by` functions matches well with the `group by` clause.\n",
    "\n",
    "However, Ibis splits the `select` clause into the `select` function and the `aggregate` function when working with a group by. This aligns with the SQL best practice to organize your `select` clause with non-aggregate expressions first, then aggregate expressions."
   ]
  },
  {
   "cell_type": "code",
   "execution_count": null,
   "id": "ef1138b1",
   "metadata": {},
   "outputs": [],
   "source": [
    "duck_legends = (persistent_ducks\n",
    "  .filter(persistent_ducks.extinct == 0)\n",
    "  .select(\"name\", \"author\", \"year\")\n",
    "  .group_by(\"author\")\n",
    "  .aggregate([persistent_ducks.name.count(), persistent_ducks.year.min()])\n",
    "  .order_by([ibis.desc(\"Count(name)\")])\n",
    ")\n",
    "duck_legends"
   ]
  },
  {
   "cell_type": "code",
   "execution_count": null,
   "id": "11872891",
   "metadata": {},
   "outputs": [],
   "source": [
    "ibis.to_sql(duck_legends)"
   ]
  },
  {
   "cell_type": "markdown",
   "id": "db3f56cc",
   "metadata": {},
   "source": [
    "### B. Mixing and matching SQL and Ibis\n",
    "\n",
    "If you have existing SQL queries, or want to use dialect-specific features of a specific SQL database, Ibis allows you to use SQL directly!\n",
    "\n",
    "If you want to begin your Ibis query with SQL, you can use `Table.sql` directly.\n",
    "\n",
    "However, we can no longer refer directly to the `persistent_ducks` object later in the expression. We instead need to use the `_` (which we imported earlier with `from ibis import _`), which is a way to build expressions using Ibis's deferred expression API. So instead of `persistent_ducks.column.function()`, we can say `_.column.function()`"
   ]
  },
  {
   "cell_type": "code",
   "execution_count": null,
   "id": "478fefda",
   "metadata": {},
   "outputs": [],
   "source": [
    "duck_legends = (persistent_ducks\n",
    "  .sql(\"\"\"SELECT name, author, year FROM persistent_ducks WHERE extinct = 0\"\"\")\n",
    "  .group_by(\"author\")\n",
    "  .aggregate([_.name.count(), _.year.min()]) # Use _ instead of persistent_ducks\n",
    "  .order_by([ibis.desc(\"Count(name)\")])\n",
    ")\n",
    "duck_legends"
   ]
  },
  {
   "cell_type": "markdown",
   "id": "fe2dff53",
   "metadata": {},
   "source": [
    "If you want to begin with Ibis, but transition to SQL, first give the Ibis expression a name using the `alias` function. Then you can refer to that as a table in your `Table.sql` call."
   ]
  },
  {
   "cell_type": "code",
   "execution_count": null,
   "id": "18e19f6b",
   "metadata": {},
   "outputs": [],
   "source": [
    "duck_legends = (persistent_ducks\n",
    "  .filter(persistent_ducks.extinct == 0)\n",
    "  .select(\"name\", \"author\", \"year\")\n",
    "  .group_by(\"author\")\n",
    "  .aggregate([persistent_ducks.name.count(), persistent_ducks.year.min()])\n",
    "  .alias('ibis_duck') # Rename the result of all Ibis expressions up to this point\n",
    "  .sql(\"\"\"SELECT * from ibis_duck ORDER BY \"Count(name)\" desc\"\"\")\n",
    ")\n",
    "duck_legends"
   ]
  },
  {
   "cell_type": "markdown",
   "id": "de95ab7a",
   "metadata": {},
   "source": [
    "And there you go! You've learned:\n",
    "* How to read and write Pandas, Polars, and Apache Arrow with DuckDB\n",
    "* How to use Ibis to run dataframe queries on top of DuckDB\n",
    "* How to see the SQL that Ibis is running on your behalf\n",
    "* How to mix and match SQL and Ibis"
   ]
  },
  {
   "cell_type": "markdown",
   "id": "ba7b134c",
   "metadata": {
    "cell_type": "markdown"
   },
   "source": [
    "**Exercise 3.03**\n",
    "\n",
    "\n",
    "The SQL that Ibis generated to find the people who discovered the most duck species is not the most concise. Can you re-write the Ibis SQL (listed below) to its simplest possible form, using DuckDB's Python client?\n",
    "\n",
    "Hint: as a first step, connect to the same database that Ibis connected to."
   ]
  },
  {
   "cell_type": "markdown",
   "id": "ee57ca17",
   "metadata": {
    "cell_type": "markdown"
   },
   "source": [
    "sql\n",
    "SELECT\n",
    "  *\n",
    "FROM (\n",
    "  SELECT\n",
    "    \"t1\".\"author\",\n",
    "    COUNT(\"t1\".\"name\") AS \"Count(name)\",\n",
    "    MIN(\"t1\".\"year\") AS \"Min(year)\"\n",
    "  FROM (\n",
    "    SELECT\n",
    "      \"t0\".\"name\",\n",
    "      \"t0\".\"author\",\n",
    "      \"t0\".\"year\"\n",
    "    FROM \"whats_quackalackin\".\"main\".\"persistent_ducks\" AS \"t0\"\n",
    "    WHERE\n",
    "      \"t0\".\"extinct\" = CAST(0 AS TINYINT)\n",
    "  ) AS \"t1\"\n",
    "  GROUP BY\n",
    "    1\n",
    ") AS \"t2\"\n",
    "ORDER BY\n",
    "  \"t2\".\"Count(name)\" DESC\n",
    "```\n",
    "```{code-cell}\n",
    "# Show solution\n",
    "!cat ./answers/answer_3.03.py\n",
    "```"
   ]
  },
  {
   "cell_type": "markdown",
   "id": "3c516055",
   "metadata": {
    "cell_type": "markdown"
   },
   "source": [
    "**Exercise 3.04**\n",
    "\n",
    "\n",
    "Convert the SQL query below into an Ibis expression. You are welcome to ignore the column renaming - think of it as a \"stretch-goal\" if you have time! We did not cover how to do that yet."
   ]
  },
  {
   "cell_type": "markdown",
   "id": "a64c3bfc",
   "metadata": {
    "cell_type": "markdown"
   },
   "source": [
    "sql\n",
    "SELECT\n",
    "    Species_Common_Name,\n",
    "    AVG(Beak_Width) AS Avg_Beak_Width,\n",
    "    AVG(Beak_Depth) AS Avg_Beak_Depth,\n",
    "    AVG(Beak_Length_Culmen) AS Avg_Beak_Length_Culmen\n",
    "FROM 'birds.csv'\n",
    "GROUP BY Species_Common_Name\n",
    "```\n",
    "\n",
    "+++ {\"cell_type\": \"markdown\"}\n",
    "\n",
    "**Exercise 3.04**\n",
    "\n",
    "\n",
    "Hint: Read directly from a csv file - no need to create a persistent table!\n",
    "\n",
    "Hint 2: Ibis uses `mean` instead of `avg`!\n",
    "\n",
    "Hint 3: Ibis aggregate documentation: https://ibis-project.org/reference/expression-tables#ibis.expr.types.relations.Table.aggregate\n",
    "\n",
    "+++ {\"cell_type\": \"markdown\"}\n",
    "\n",
    "```{code-cell}\n",
    "# Show solution\n",
    "!cat ./answers/answer_3.04.py\n",
    "```"
   ]
  }
 ],
 "metadata": {
  "kernelspec": {
   "display_name": "Python 3",
   "language": "python",
   "name": "python3"
  }
 },
 "nbformat": 4,
 "nbformat_minor": 5
}
