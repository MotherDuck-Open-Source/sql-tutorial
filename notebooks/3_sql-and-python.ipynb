{
  "cells": [
    {
      "cell_type": "markdown",
      "id": "1f93ab2e",
      "metadata": {
        "id": "1f93ab2e"
      },
      "source": [
        "# 3. Combining SQL and Python\n",
        "\n",
        "## A. Using `duckdb` from Python\n",
        "\n",
        "DuckDB is released with a native Python client. You can install it with a simple pip install, and there are no dependencies required.\n",
        "\n",
        "Google Collab even has duckdb pre-installed!\n",
        "\n",
        "We will also install a few dataframe libraries, but these are optional unless you would like to do some of your analysis outside of DuckDB!"
      ]
    },
    {
      "cell_type": "code",
      "execution_count": 37,
      "id": "d3447ba0",
      "metadata": {
        "id": "d3447ba0"
      },
      "outputs": [],
      "source": [
        "!pip install duckdb>=1.0.0 pandas polars pyarrow"
      ]
    },
    {
      "cell_type": "code",
      "source": [
        "!wget https://raw.githubusercontent.com/MotherDuck-Open-Source/sql-tutorial/main/data/ducks.csv -q --show-progress"
      ],
      "metadata": {
        "colab": {
          "base_uri": "https://localhost:8080/"
        },
        "id": "F5ygdoC2eK__",
        "outputId": "881801c2-a0c1-4c88-c5c8-5fa26c7fb496"
      },
      "id": "F5ygdoC2eK__",
      "execution_count": 38,
      "outputs": [
        {
          "output_type": "stream",
          "name": "stdout",
          "text": [
            "\rducks.csv.1           0%[                    ]       0  --.-KB/s               \rducks.csv.1         100%[===================>]   6.94K  --.-KB/s    in 0s      \n"
          ]
        }
      ]
    },
    {
      "cell_type": "markdown",
      "id": "5f0871db",
      "metadata": {
        "id": "5f0871db"
      },
      "source": [
        "DuckDB follows the Python DB API spec, so you can use it the same way you would use another database.\n",
        "fetchall() returns a list of tuples."
      ]
    },
    {
      "cell_type": "code",
      "execution_count": 39,
      "id": "afef057d",
      "metadata": {
        "colab": {
          "base_uri": "https://localhost:8080/"
        },
        "id": "afef057d",
        "outputId": "12b44319-2589-442b-cfb3-917ff0b54c64"
      },
      "outputs": [
        {
          "output_type": "execute_result",
          "data": {
            "text/plain": [
              "[(42,)]"
            ]
          },
          "metadata": {},
          "execution_count": 39
        }
      ],
      "source": [
        "import duckdb\n",
        "\n",
        "duckdb.execute(\"SELECT 42 as hello_world\").fetchall()"
      ]
    },
    {
      "cell_type": "markdown",
      "source": [
        "DuckDB also has a .sql method that has some convenience features beyond .execute. We recommend using .sql!"
      ],
      "metadata": {
        "id": "kc-LQbGSWqao"
      },
      "id": "kc-LQbGSWqao"
    },
    {
      "cell_type": "code",
      "source": [
        "duckdb.sql(\"SELECT 42 as hello_world\").fetchall()"
      ],
      "metadata": {
        "colab": {
          "base_uri": "https://localhost:8080/"
        },
        "id": "5hscoQIZWpHL",
        "outputId": "805e0a4f-07c0-4cb8-87c1-051dba6f8b0b"
      },
      "id": "5hscoQIZWpHL",
      "execution_count": 40,
      "outputs": [
        {
          "output_type": "execute_result",
          "data": {
            "text/plain": [
              "[(42,)]"
            ]
          },
          "metadata": {},
          "execution_count": 40
        }
      ]
    },
    {
      "cell_type": "markdown",
      "source": [
        "## B. Writing Pandas DataFrames with DuckDB\n",
        "DuckDB can also return a DataFrame directly using .df(), instead of a list of tuples!\n",
        "\n",
        "This is much faster for large datasets, and fits nicely into existing dataframe workflows like charting (which we will see later) or machine learning."
      ],
      "metadata": {
        "id": "NuaJl1s6W3we"
      },
      "id": "NuaJl1s6W3we"
    },
    {
      "cell_type": "code",
      "source": [
        "duckdb.sql(\"SELECT 42 as hello_world\").df()"
      ],
      "metadata": {
        "colab": {
          "base_uri": "https://localhost:8080/",
          "height": 81
        },
        "id": "kEpFSpi1W22M",
        "outputId": "06a3ea22-3de2-4ea3-eb2b-94822b7e6ca6"
      },
      "id": "kEpFSpi1W22M",
      "execution_count": 41,
      "outputs": [
        {
          "output_type": "execute_result",
          "data": {
            "text/plain": [
              "   hello_world\n",
              "0           42"
            ],
            "text/html": [
              "\n",
              "  <div id=\"df-4eae999f-e562-434c-b7d4-b7aa3f970ba5\" class=\"colab-df-container\">\n",
              "    <div>\n",
              "<style scoped>\n",
              "    .dataframe tbody tr th:only-of-type {\n",
              "        vertical-align: middle;\n",
              "    }\n",
              "\n",
              "    .dataframe tbody tr th {\n",
              "        vertical-align: top;\n",
              "    }\n",
              "\n",
              "    .dataframe thead th {\n",
              "        text-align: right;\n",
              "    }\n",
              "</style>\n",
              "<table border=\"1\" class=\"dataframe\">\n",
              "  <thead>\n",
              "    <tr style=\"text-align: right;\">\n",
              "      <th></th>\n",
              "      <th>hello_world</th>\n",
              "    </tr>\n",
              "  </thead>\n",
              "  <tbody>\n",
              "    <tr>\n",
              "      <th>0</th>\n",
              "      <td>42</td>\n",
              "    </tr>\n",
              "  </tbody>\n",
              "</table>\n",
              "</div>\n",
              "    <div class=\"colab-df-buttons\">\n",
              "\n",
              "  <div class=\"colab-df-container\">\n",
              "    <button class=\"colab-df-convert\" onclick=\"convertToInteractive('df-4eae999f-e562-434c-b7d4-b7aa3f970ba5')\"\n",
              "            title=\"Convert this dataframe to an interactive table.\"\n",
              "            style=\"display:none;\">\n",
              "\n",
              "  <svg xmlns=\"http://www.w3.org/2000/svg\" height=\"24px\" viewBox=\"0 -960 960 960\">\n",
              "    <path d=\"M120-120v-720h720v720H120Zm60-500h600v-160H180v160Zm220 220h160v-160H400v160Zm0 220h160v-160H400v160ZM180-400h160v-160H180v160Zm440 0h160v-160H620v160ZM180-180h160v-160H180v160Zm440 0h160v-160H620v160Z\"/>\n",
              "  </svg>\n",
              "    </button>\n",
              "\n",
              "  <style>\n",
              "    .colab-df-container {\n",
              "      display:flex;\n",
              "      gap: 12px;\n",
              "    }\n",
              "\n",
              "    .colab-df-convert {\n",
              "      background-color: #E8F0FE;\n",
              "      border: none;\n",
              "      border-radius: 50%;\n",
              "      cursor: pointer;\n",
              "      display: none;\n",
              "      fill: #1967D2;\n",
              "      height: 32px;\n",
              "      padding: 0 0 0 0;\n",
              "      width: 32px;\n",
              "    }\n",
              "\n",
              "    .colab-df-convert:hover {\n",
              "      background-color: #E2EBFA;\n",
              "      box-shadow: 0px 1px 2px rgba(60, 64, 67, 0.3), 0px 1px 3px 1px rgba(60, 64, 67, 0.15);\n",
              "      fill: #174EA6;\n",
              "    }\n",
              "\n",
              "    .colab-df-buttons div {\n",
              "      margin-bottom: 4px;\n",
              "    }\n",
              "\n",
              "    [theme=dark] .colab-df-convert {\n",
              "      background-color: #3B4455;\n",
              "      fill: #D2E3FC;\n",
              "    }\n",
              "\n",
              "    [theme=dark] .colab-df-convert:hover {\n",
              "      background-color: #434B5C;\n",
              "      box-shadow: 0px 1px 3px 1px rgba(0, 0, 0, 0.15);\n",
              "      filter: drop-shadow(0px 1px 2px rgba(0, 0, 0, 0.3));\n",
              "      fill: #FFFFFF;\n",
              "    }\n",
              "  </style>\n",
              "\n",
              "    <script>\n",
              "      const buttonEl =\n",
              "        document.querySelector('#df-4eae999f-e562-434c-b7d4-b7aa3f970ba5 button.colab-df-convert');\n",
              "      buttonEl.style.display =\n",
              "        google.colab.kernel.accessAllowed ? 'block' : 'none';\n",
              "\n",
              "      async function convertToInteractive(key) {\n",
              "        const element = document.querySelector('#df-4eae999f-e562-434c-b7d4-b7aa3f970ba5');\n",
              "        const dataTable =\n",
              "          await google.colab.kernel.invokeFunction('convertToInteractive',\n",
              "                                                    [key], {});\n",
              "        if (!dataTable) return;\n",
              "\n",
              "        const docLinkHtml = 'Like what you see? Visit the ' +\n",
              "          '<a target=\"_blank\" href=https://colab.research.google.com/notebooks/data_table.ipynb>data table notebook</a>'\n",
              "          + ' to learn more about interactive tables.';\n",
              "        element.innerHTML = '';\n",
              "        dataTable['output_type'] = 'display_data';\n",
              "        await google.colab.output.renderOutput(dataTable, element);\n",
              "        const docLink = document.createElement('div');\n",
              "        docLink.innerHTML = docLinkHtml;\n",
              "        element.appendChild(docLink);\n",
              "      }\n",
              "    </script>\n",
              "  </div>\n",
              "\n",
              "\n",
              "    </div>\n",
              "  </div>\n"
            ],
            "application/vnd.google.colaboratory.intrinsic+json": {
              "type": "dataframe",
              "summary": "{\n  \"name\": \"duckdb\",\n  \"rows\": 1,\n  \"fields\": [\n    {\n      \"column\": \"hello_world\",\n      \"properties\": {\n        \"dtype\": \"int32\",\n        \"num_unique_values\": 1,\n        \"samples\": [\n          42\n        ],\n        \"semantic_type\": \"\",\n        \"description\": \"\"\n      }\n    }\n  ]\n}"
            }
          },
          "metadata": {},
          "execution_count": 41
        }
      ]
    },
    {
      "cell_type": "markdown",
      "source": [
        "If that output looks familiar, it's because we have been using Pandas DataFrames the entire time we have been using duckdb_magic! duckdb_magic returns a dataframe as the result of each SQL query."
      ],
      "metadata": {
        "id": "S76DUjL_XUWO"
      },
      "id": "S76DUjL_XUWO"
    },
    {
      "cell_type": "markdown",
      "id": "8f519ae2",
      "metadata": {
        "id": "8f519ae2"
      },
      "source": [
        "## C. Reading Pandas DataFrames\n",
        "Not only can DuckDB write dataframes, but it can read them as if they were a table!\n",
        "\n",
        "No copying is required - DuckDB will read the existing Pandas object by scanning the C++ objects underneath Pandas' Python objects.\n",
        "\n",
        "For example, to create a Pandas dataframe and access it from DuckDB, you can run:"
      ]
    },
    {
      "cell_type": "code",
      "execution_count": 42,
      "id": "e4e5f7a3",
      "metadata": {
        "colab": {
          "base_uri": "https://localhost:8080/",
          "height": 424
        },
        "id": "e4e5f7a3",
        "outputId": "ecd3d9e5-e105-4970-9a38-24903f54ef82"
      },
      "outputs": [
        {
          "output_type": "execute_result",
          "data": {
            "text/plain": [
              "                    name                    genus           author  year  \\\n",
              "0          Mandarin duck         Aix galericulata         Linnaeus  1758   \n",
              "1              Wood duck               Aix sponsa         Linnaeus  1758   \n",
              "2         Egyptian goose     Alopochen aegyptiaca         Linnaeus  1766   \n",
              "3         Brazilian teal  Amazonetta brasiliensis     J. F. Gmelin  1789   \n",
              "4       Northern pintail               Anas acuta         Linnaeus  1758   \n",
              "..                   ...                      ...              ...   ...   \n",
              "134       Ruddy shelduck       Tadorna ferruginea           Pallas  1764   \n",
              "135      Common shelduck          Tadorna tadorna         Linnaeus  1758   \n",
              "136  Australian shelduck      Tadorna tadornoides  Jardine & Selby  1828   \n",
              "137    Paradise shelduck        Tadorna variegata     J. F. Gmelin  1789   \n",
              "138    White-backed duck  Thalassornis leuconotus            Eyton  1838   \n",
              "\n",
              "     extinct  \n",
              "0          0  \n",
              "1          0  \n",
              "2          0  \n",
              "3          0  \n",
              "4          0  \n",
              "..       ...  \n",
              "134        0  \n",
              "135        0  \n",
              "136        0  \n",
              "137        0  \n",
              "138        0  \n",
              "\n",
              "[139 rows x 5 columns]"
            ],
            "text/html": [
              "\n",
              "  <div id=\"df-bb3298f2-d661-40f0-85f7-14a46136d795\" class=\"colab-df-container\">\n",
              "    <div>\n",
              "<style scoped>\n",
              "    .dataframe tbody tr th:only-of-type {\n",
              "        vertical-align: middle;\n",
              "    }\n",
              "\n",
              "    .dataframe tbody tr th {\n",
              "        vertical-align: top;\n",
              "    }\n",
              "\n",
              "    .dataframe thead th {\n",
              "        text-align: right;\n",
              "    }\n",
              "</style>\n",
              "<table border=\"1\" class=\"dataframe\">\n",
              "  <thead>\n",
              "    <tr style=\"text-align: right;\">\n",
              "      <th></th>\n",
              "      <th>name</th>\n",
              "      <th>genus</th>\n",
              "      <th>author</th>\n",
              "      <th>year</th>\n",
              "      <th>extinct</th>\n",
              "    </tr>\n",
              "  </thead>\n",
              "  <tbody>\n",
              "    <tr>\n",
              "      <th>0</th>\n",
              "      <td>Mandarin duck</td>\n",
              "      <td>Aix galericulata</td>\n",
              "      <td>Linnaeus</td>\n",
              "      <td>1758</td>\n",
              "      <td>0</td>\n",
              "    </tr>\n",
              "    <tr>\n",
              "      <th>1</th>\n",
              "      <td>Wood duck</td>\n",
              "      <td>Aix sponsa</td>\n",
              "      <td>Linnaeus</td>\n",
              "      <td>1758</td>\n",
              "      <td>0</td>\n",
              "    </tr>\n",
              "    <tr>\n",
              "      <th>2</th>\n",
              "      <td>Egyptian goose</td>\n",
              "      <td>Alopochen aegyptiaca</td>\n",
              "      <td>Linnaeus</td>\n",
              "      <td>1766</td>\n",
              "      <td>0</td>\n",
              "    </tr>\n",
              "    <tr>\n",
              "      <th>3</th>\n",
              "      <td>Brazilian teal</td>\n",
              "      <td>Amazonetta brasiliensis</td>\n",
              "      <td>J. F. Gmelin</td>\n",
              "      <td>1789</td>\n",
              "      <td>0</td>\n",
              "    </tr>\n",
              "    <tr>\n",
              "      <th>4</th>\n",
              "      <td>Northern pintail</td>\n",
              "      <td>Anas acuta</td>\n",
              "      <td>Linnaeus</td>\n",
              "      <td>1758</td>\n",
              "      <td>0</td>\n",
              "    </tr>\n",
              "    <tr>\n",
              "      <th>...</th>\n",
              "      <td>...</td>\n",
              "      <td>...</td>\n",
              "      <td>...</td>\n",
              "      <td>...</td>\n",
              "      <td>...</td>\n",
              "    </tr>\n",
              "    <tr>\n",
              "      <th>134</th>\n",
              "      <td>Ruddy shelduck</td>\n",
              "      <td>Tadorna ferruginea</td>\n",
              "      <td>Pallas</td>\n",
              "      <td>1764</td>\n",
              "      <td>0</td>\n",
              "    </tr>\n",
              "    <tr>\n",
              "      <th>135</th>\n",
              "      <td>Common shelduck</td>\n",
              "      <td>Tadorna tadorna</td>\n",
              "      <td>Linnaeus</td>\n",
              "      <td>1758</td>\n",
              "      <td>0</td>\n",
              "    </tr>\n",
              "    <tr>\n",
              "      <th>136</th>\n",
              "      <td>Australian shelduck</td>\n",
              "      <td>Tadorna tadornoides</td>\n",
              "      <td>Jardine &amp; Selby</td>\n",
              "      <td>1828</td>\n",
              "      <td>0</td>\n",
              "    </tr>\n",
              "    <tr>\n",
              "      <th>137</th>\n",
              "      <td>Paradise shelduck</td>\n",
              "      <td>Tadorna variegata</td>\n",
              "      <td>J. F. Gmelin</td>\n",
              "      <td>1789</td>\n",
              "      <td>0</td>\n",
              "    </tr>\n",
              "    <tr>\n",
              "      <th>138</th>\n",
              "      <td>White-backed duck</td>\n",
              "      <td>Thalassornis leuconotus</td>\n",
              "      <td>Eyton</td>\n",
              "      <td>1838</td>\n",
              "      <td>0</td>\n",
              "    </tr>\n",
              "  </tbody>\n",
              "</table>\n",
              "<p>139 rows × 5 columns</p>\n",
              "</div>\n",
              "    <div class=\"colab-df-buttons\">\n",
              "\n",
              "  <div class=\"colab-df-container\">\n",
              "    <button class=\"colab-df-convert\" onclick=\"convertToInteractive('df-bb3298f2-d661-40f0-85f7-14a46136d795')\"\n",
              "            title=\"Convert this dataframe to an interactive table.\"\n",
              "            style=\"display:none;\">\n",
              "\n",
              "  <svg xmlns=\"http://www.w3.org/2000/svg\" height=\"24px\" viewBox=\"0 -960 960 960\">\n",
              "    <path d=\"M120-120v-720h720v720H120Zm60-500h600v-160H180v160Zm220 220h160v-160H400v160Zm0 220h160v-160H400v160ZM180-400h160v-160H180v160Zm440 0h160v-160H620v160ZM180-180h160v-160H180v160Zm440 0h160v-160H620v160Z\"/>\n",
              "  </svg>\n",
              "    </button>\n",
              "\n",
              "  <style>\n",
              "    .colab-df-container {\n",
              "      display:flex;\n",
              "      gap: 12px;\n",
              "    }\n",
              "\n",
              "    .colab-df-convert {\n",
              "      background-color: #E8F0FE;\n",
              "      border: none;\n",
              "      border-radius: 50%;\n",
              "      cursor: pointer;\n",
              "      display: none;\n",
              "      fill: #1967D2;\n",
              "      height: 32px;\n",
              "      padding: 0 0 0 0;\n",
              "      width: 32px;\n",
              "    }\n",
              "\n",
              "    .colab-df-convert:hover {\n",
              "      background-color: #E2EBFA;\n",
              "      box-shadow: 0px 1px 2px rgba(60, 64, 67, 0.3), 0px 1px 3px 1px rgba(60, 64, 67, 0.15);\n",
              "      fill: #174EA6;\n",
              "    }\n",
              "\n",
              "    .colab-df-buttons div {\n",
              "      margin-bottom: 4px;\n",
              "    }\n",
              "\n",
              "    [theme=dark] .colab-df-convert {\n",
              "      background-color: #3B4455;\n",
              "      fill: #D2E3FC;\n",
              "    }\n",
              "\n",
              "    [theme=dark] .colab-df-convert:hover {\n",
              "      background-color: #434B5C;\n",
              "      box-shadow: 0px 1px 3px 1px rgba(0, 0, 0, 0.15);\n",
              "      filter: drop-shadow(0px 1px 2px rgba(0, 0, 0, 0.3));\n",
              "      fill: #FFFFFF;\n",
              "    }\n",
              "  </style>\n",
              "\n",
              "    <script>\n",
              "      const buttonEl =\n",
              "        document.querySelector('#df-bb3298f2-d661-40f0-85f7-14a46136d795 button.colab-df-convert');\n",
              "      buttonEl.style.display =\n",
              "        google.colab.kernel.accessAllowed ? 'block' : 'none';\n",
              "\n",
              "      async function convertToInteractive(key) {\n",
              "        const element = document.querySelector('#df-bb3298f2-d661-40f0-85f7-14a46136d795');\n",
              "        const dataTable =\n",
              "          await google.colab.kernel.invokeFunction('convertToInteractive',\n",
              "                                                    [key], {});\n",
              "        if (!dataTable) return;\n",
              "\n",
              "        const docLinkHtml = 'Like what you see? Visit the ' +\n",
              "          '<a target=\"_blank\" href=https://colab.research.google.com/notebooks/data_table.ipynb>data table notebook</a>'\n",
              "          + ' to learn more about interactive tables.';\n",
              "        element.innerHTML = '';\n",
              "        dataTable['output_type'] = 'display_data';\n",
              "        await google.colab.output.renderOutput(dataTable, element);\n",
              "        const docLink = document.createElement('div');\n",
              "        docLink.innerHTML = docLinkHtml;\n",
              "        element.appendChild(docLink);\n",
              "      }\n",
              "    </script>\n",
              "  </div>\n",
              "\n",
              "\n",
              "<div id=\"df-1b6bf8af-6abf-4e9d-ac15-6803dc16d68a\">\n",
              "  <button class=\"colab-df-quickchart\" onclick=\"quickchart('df-1b6bf8af-6abf-4e9d-ac15-6803dc16d68a')\"\n",
              "            title=\"Suggest charts\"\n",
              "            style=\"display:none;\">\n",
              "\n",
              "<svg xmlns=\"http://www.w3.org/2000/svg\" height=\"24px\"viewBox=\"0 0 24 24\"\n",
              "     width=\"24px\">\n",
              "    <g>\n",
              "        <path d=\"M19 3H5c-1.1 0-2 .9-2 2v14c0 1.1.9 2 2 2h14c1.1 0 2-.9 2-2V5c0-1.1-.9-2-2-2zM9 17H7v-7h2v7zm4 0h-2V7h2v10zm4 0h-2v-4h2v4z\"/>\n",
              "    </g>\n",
              "</svg>\n",
              "  </button>\n",
              "\n",
              "<style>\n",
              "  .colab-df-quickchart {\n",
              "      --bg-color: #E8F0FE;\n",
              "      --fill-color: #1967D2;\n",
              "      --hover-bg-color: #E2EBFA;\n",
              "      --hover-fill-color: #174EA6;\n",
              "      --disabled-fill-color: #AAA;\n",
              "      --disabled-bg-color: #DDD;\n",
              "  }\n",
              "\n",
              "  [theme=dark] .colab-df-quickchart {\n",
              "      --bg-color: #3B4455;\n",
              "      --fill-color: #D2E3FC;\n",
              "      --hover-bg-color: #434B5C;\n",
              "      --hover-fill-color: #FFFFFF;\n",
              "      --disabled-bg-color: #3B4455;\n",
              "      --disabled-fill-color: #666;\n",
              "  }\n",
              "\n",
              "  .colab-df-quickchart {\n",
              "    background-color: var(--bg-color);\n",
              "    border: none;\n",
              "    border-radius: 50%;\n",
              "    cursor: pointer;\n",
              "    display: none;\n",
              "    fill: var(--fill-color);\n",
              "    height: 32px;\n",
              "    padding: 0;\n",
              "    width: 32px;\n",
              "  }\n",
              "\n",
              "  .colab-df-quickchart:hover {\n",
              "    background-color: var(--hover-bg-color);\n",
              "    box-shadow: 0 1px 2px rgba(60, 64, 67, 0.3), 0 1px 3px 1px rgba(60, 64, 67, 0.15);\n",
              "    fill: var(--button-hover-fill-color);\n",
              "  }\n",
              "\n",
              "  .colab-df-quickchart-complete:disabled,\n",
              "  .colab-df-quickchart-complete:disabled:hover {\n",
              "    background-color: var(--disabled-bg-color);\n",
              "    fill: var(--disabled-fill-color);\n",
              "    box-shadow: none;\n",
              "  }\n",
              "\n",
              "  .colab-df-spinner {\n",
              "    border: 2px solid var(--fill-color);\n",
              "    border-color: transparent;\n",
              "    border-bottom-color: var(--fill-color);\n",
              "    animation:\n",
              "      spin 1s steps(1) infinite;\n",
              "  }\n",
              "\n",
              "  @keyframes spin {\n",
              "    0% {\n",
              "      border-color: transparent;\n",
              "      border-bottom-color: var(--fill-color);\n",
              "      border-left-color: var(--fill-color);\n",
              "    }\n",
              "    20% {\n",
              "      border-color: transparent;\n",
              "      border-left-color: var(--fill-color);\n",
              "      border-top-color: var(--fill-color);\n",
              "    }\n",
              "    30% {\n",
              "      border-color: transparent;\n",
              "      border-left-color: var(--fill-color);\n",
              "      border-top-color: var(--fill-color);\n",
              "      border-right-color: var(--fill-color);\n",
              "    }\n",
              "    40% {\n",
              "      border-color: transparent;\n",
              "      border-right-color: var(--fill-color);\n",
              "      border-top-color: var(--fill-color);\n",
              "    }\n",
              "    60% {\n",
              "      border-color: transparent;\n",
              "      border-right-color: var(--fill-color);\n",
              "    }\n",
              "    80% {\n",
              "      border-color: transparent;\n",
              "      border-right-color: var(--fill-color);\n",
              "      border-bottom-color: var(--fill-color);\n",
              "    }\n",
              "    90% {\n",
              "      border-color: transparent;\n",
              "      border-bottom-color: var(--fill-color);\n",
              "    }\n",
              "  }\n",
              "</style>\n",
              "\n",
              "  <script>\n",
              "    async function quickchart(key) {\n",
              "      const quickchartButtonEl =\n",
              "        document.querySelector('#' + key + ' button');\n",
              "      quickchartButtonEl.disabled = true;  // To prevent multiple clicks.\n",
              "      quickchartButtonEl.classList.add('colab-df-spinner');\n",
              "      try {\n",
              "        const charts = await google.colab.kernel.invokeFunction(\n",
              "            'suggestCharts', [key], {});\n",
              "      } catch (error) {\n",
              "        console.error('Error during call to suggestCharts:', error);\n",
              "      }\n",
              "      quickchartButtonEl.classList.remove('colab-df-spinner');\n",
              "      quickchartButtonEl.classList.add('colab-df-quickchart-complete');\n",
              "    }\n",
              "    (() => {\n",
              "      let quickchartButtonEl =\n",
              "        document.querySelector('#df-1b6bf8af-6abf-4e9d-ac15-6803dc16d68a button');\n",
              "      quickchartButtonEl.style.display =\n",
              "        google.colab.kernel.accessAllowed ? 'block' : 'none';\n",
              "    })();\n",
              "  </script>\n",
              "</div>\n",
              "\n",
              "    </div>\n",
              "  </div>\n"
            ],
            "application/vnd.google.colaboratory.intrinsic+json": {
              "type": "dataframe",
              "summary": "{\n  \"name\": \"duckdb\",\n  \"rows\": 139,\n  \"fields\": [\n    {\n      \"column\": \"name\",\n      \"properties\": {\n        \"dtype\": \"string\",\n        \"num_unique_values\": 139,\n        \"samples\": [\n          \"Common shelduck\",\n          \"Spotted whistling duck\",\n          \"Pacific black duck\"\n        ],\n        \"semantic_type\": \"\",\n        \"description\": \"\"\n      }\n    },\n    {\n      \"column\": \"genus\",\n      \"properties\": {\n        \"dtype\": \"string\",\n        \"num_unique_values\": 139,\n        \"samples\": [\n          \"Tadorna tadorna\",\n          \"Dendrocygna guttata\",\n          \"Anas superciliosa\"\n        ],\n        \"semantic_type\": \"\",\n        \"description\": \"\"\n      }\n    },\n    {\n      \"column\": \"author\",\n      \"properties\": {\n        \"dtype\": \"category\",\n        \"num_unique_values\": 57,\n        \"samples\": [\n          \"Linnaeus\",\n          \"Hartlaub\",\n          \"Horsfield\"\n        ],\n        \"semantic_type\": \"\",\n        \"description\": \"\"\n      }\n    },\n    {\n      \"column\": \"year\",\n      \"properties\": {\n        \"dtype\": \"category\",\n        \"num_unique_values\": 56,\n        \"samples\": [\n          \"1758\",\n          \"1860\",\n          \"1821\"\n        ],\n        \"semantic_type\": \"\",\n        \"description\": \"\"\n      }\n    },\n    {\n      \"column\": \"extinct\",\n      \"properties\": {\n        \"dtype\": \"number\",\n        \"std\": 164,\n        \"min\": 0,\n        \"max\": 1935,\n        \"num_unique_values\": 3,\n        \"samples\": [\n          0,\n          1935,\n          1\n        ],\n        \"semantic_type\": \"\",\n        \"description\": \"\"\n      }\n    }\n  ]\n}"
            }
          },
          "metadata": {},
          "execution_count": 42
        }
      ],
      "source": [
        "import pandas as pd\n",
        "ducks_pandas = pd.read_csv('ducks.csv')\n",
        "\n",
        "duckdb.sql(\"SELECT * FROM ducks_pandas\").df()"
      ]
    },
    {
      "cell_type": "markdown",
      "source": [
        "### When to use pd.read_csv?\n",
        "How would you decide whether to use Pandas or DuckDB to read a CSV file? There are pros to each!"
      ],
      "metadata": {
        "id": "U5g4bqyBdxRb"
      },
      "id": "U5g4bqyBdxRb"
    },
    {
      "cell_type": "markdown",
      "source": [
        "## D. Reading and Writing Polars and Apache Arrow\n",
        "\n",
        "In addition to Pandas, DuckDB is also fully interoperable with Polars and Apache Arrow.\n",
        "\n",
        "Polars is a faster and more modern alternative to Pandas, and has a much smaller API to learn.\n",
        "\n",
        "Apache Arrow is *the* industry standard tabular data transfer format. Polars is actually built on top of Apache Arrow data types. Apache Arrow and DuckDB types are highly compatible. Apache Arrow has also taken inspiration from DuckDB's `VARCHAR` data type with their new `STRING_VIEW` type."
      ],
      "metadata": {
        "id": "bWs78TL1YrG7"
      },
      "id": "bWs78TL1YrG7"
    },
    {
      "cell_type": "code",
      "source": [
        "import polars as pl\n",
        "import pyarrow as pa\n",
        "import pyarrow.csv as pa_csv"
      ],
      "metadata": {
        "id": "HICaNrEvakXx"
      },
      "id": "HICaNrEvakXx",
      "execution_count": 43,
      "outputs": []
    },
    {
      "cell_type": "code",
      "source": [
        "ducks_polars = pl.read_csv('ducks.csv')\n",
        "duckdb.sql(\"\"\"SELECT * FROM ducks_polars\"\"\").pl()"
      ],
      "metadata": {
        "colab": {
          "base_uri": "https://localhost:8080/",
          "height": 882
        },
        "id": "q_LZkKRaakJr",
        "outputId": "06e30ed3-7a60-45af-e965-9527fa0e423e"
      },
      "id": "q_LZkKRaakJr",
      "execution_count": 44,
      "outputs": [
        {
          "output_type": "execute_result",
          "data": {
            "text/plain": [
              "shape: (139, 5)\n",
              "┌─────────────────────┬─────────────────────────┬─────────────────┬──────┬─────────┐\n",
              "│ name                ┆ genus                   ┆ author          ┆ year ┆ extinct │\n",
              "│ ---                 ┆ ---                     ┆ ---             ┆ ---  ┆ ---     │\n",
              "│ str                 ┆ str                     ┆ str             ┆ str  ┆ i64     │\n",
              "╞═════════════════════╪═════════════════════════╪═════════════════╪══════╪═════════╡\n",
              "│ Mandarin duck       ┆ Aix galericulata        ┆ Linnaeus        ┆ 1758 ┆ 0       │\n",
              "│ Wood duck           ┆ Aix sponsa              ┆ Linnaeus        ┆ 1758 ┆ 0       │\n",
              "│ Egyptian goose      ┆ Alopochen aegyptiaca    ┆ Linnaeus        ┆ 1766 ┆ 0       │\n",
              "│ Brazilian teal      ┆ Amazonetta brasiliensis ┆ J. F. Gmelin    ┆ 1789 ┆ 0       │\n",
              "│ …                   ┆ …                       ┆ …               ┆ …    ┆ …       │\n",
              "│ Common shelduck     ┆ Tadorna tadorna         ┆ Linnaeus        ┆ 1758 ┆ 0       │\n",
              "│ Australian shelduck ┆ Tadorna tadornoides     ┆ Jardine & Selby ┆ 1828 ┆ 0       │\n",
              "│ Paradise shelduck   ┆ Tadorna variegata       ┆ J. F. Gmelin    ┆ 1789 ┆ 0       │\n",
              "│ White-backed duck   ┆ Thalassornis leuconotus ┆ Eyton           ┆ 1838 ┆ 0       │\n",
              "└─────────────────────┴─────────────────────────┴─────────────────┴──────┴─────────┘"
            ],
            "text/html": [
              "<div><style>\n",
              ".dataframe > thead > tr,\n",
              ".dataframe > tbody > tr {\n",
              "  text-align: right;\n",
              "  white-space: pre-wrap;\n",
              "}\n",
              "</style>\n",
              "<small>shape: (139, 5)</small><table border=\"1\" class=\"dataframe\"><thead><tr><th>name</th><th>genus</th><th>author</th><th>year</th><th>extinct</th></tr><tr><td>str</td><td>str</td><td>str</td><td>str</td><td>i64</td></tr></thead><tbody><tr><td>&quot;Mandarin duck&quot;</td><td>&quot;Aix galericula…</td><td>&quot;Linnaeus&quot;</td><td>&quot;1758&quot;</td><td>0</td></tr><tr><td>&quot;Wood duck&quot;</td><td>&quot;Aix sponsa&quot;</td><td>&quot;Linnaeus&quot;</td><td>&quot;1758&quot;</td><td>0</td></tr><tr><td>&quot;Egyptian goose…</td><td>&quot;Alopochen aegy…</td><td>&quot;Linnaeus&quot;</td><td>&quot;1766&quot;</td><td>0</td></tr><tr><td>&quot;Brazilian teal…</td><td>&quot;Amazonetta bra…</td><td>&quot;J. F. Gmelin&quot;</td><td>&quot;1789&quot;</td><td>0</td></tr><tr><td>&quot;Northern pinta…</td><td>&quot;Anas acuta&quot;</td><td>&quot;Linnaeus&quot;</td><td>&quot;1758&quot;</td><td>0</td></tr><tr><td>&quot;Andaman teal&quot;</td><td>&quot;Anas albogular…</td><td>&quot;Hume&quot;</td><td>&quot;1873&quot;</td><td>0</td></tr><tr><td>&quot;Andean teal&quot;</td><td>&quot;Anas andium&quot;</td><td>&quot;P. L. Sclater …</td><td>&quot;1873&quot;</td><td>0</td></tr><tr><td>&quot;Auckland teal&quot;</td><td>&quot;Anas aucklandi…</td><td>&quot;G. R. Gray&quot;</td><td>&quot;1844&quot;</td><td>0</td></tr><tr><td>&quot;White-cheeked …</td><td>&quot;Anas bahamensi…</td><td>&quot;Linnaeus&quot;</td><td>&quot;1758&quot;</td><td>0</td></tr><tr><td>&quot;Bernier&#x27;s teal…</td><td>&quot;Anas bernieri&quot;</td><td>&quot;Hartlaub&quot;</td><td>&quot;1860&quot;</td><td>0</td></tr><tr><td>&quot;Cape teal&quot;</td><td>&quot;Anas capensis&quot;</td><td>&quot;J. F. Gmelin&quot;</td><td>&quot;1789&quot;</td><td>0</td></tr><tr><td>&quot;Green-winged t…</td><td>&quot;Anas carolinen…</td><td>&quot;J. F. Gmelin&quot;</td><td>&quot;1789&quot;</td><td>0</td></tr><tr><td>&hellip;</td><td>&hellip;</td><td>&hellip;</td><td>&hellip;</td><td>&hellip;</td></tr><tr><td>&quot;Freckled duck&quot;</td><td>&quot;Stictonetta na…</td><td>&quot;Gould&quot;</td><td>&quot;1841&quot;</td><td>0</td></tr><tr><td>&quot;Falkland steam…</td><td>&quot;Tachyeres brac…</td><td>&quot;Latham&quot;</td><td>&quot;1790&quot;</td><td>0</td></tr><tr><td>&quot;Chubut steamer…</td><td>&quot;Tachyeres leuc…</td><td>&quot;Humphrey &amp; Tho…</td><td>&quot;1981&quot;</td><td>0</td></tr><tr><td>&quot;Flying steamer…</td><td>&quot;Tachyeres pata…</td><td>&quot;P. P. King&quot;</td><td>&quot;1831&quot;</td><td>0</td></tr><tr><td>&quot;Fuegian steame…</td><td>&quot;Tachyeres pten…</td><td>&quot;J. R. Forster&quot;</td><td>&quot;1844&quot;</td><td>0</td></tr><tr><td>&quot;South African …</td><td>&quot;Tadorna cana&quot;</td><td>&quot;J. F. Gmelin&quot;</td><td>&quot;1789&quot;</td><td>0</td></tr><tr><td>&quot;Crested sheldu…</td><td>&quot;Tadorna crista…</td><td>&quot;Kuroda&quot;</td><td>&quot;1917&quot;</td><td>1</td></tr><tr><td>&quot;Ruddy shelduck…</td><td>&quot;Tadorna ferrug…</td><td>&quot;Pallas&quot;</td><td>&quot;1764&quot;</td><td>0</td></tr><tr><td>&quot;Common shelduc…</td><td>&quot;Tadorna tadorn…</td><td>&quot;Linnaeus&quot;</td><td>&quot;1758&quot;</td><td>0</td></tr><tr><td>&quot;Australian she…</td><td>&quot;Tadorna tadorn…</td><td>&quot;Jardine &amp; Selb…</td><td>&quot;1828&quot;</td><td>0</td></tr><tr><td>&quot;Paradise sheld…</td><td>&quot;Tadorna varieg…</td><td>&quot;J. F. Gmelin&quot;</td><td>&quot;1789&quot;</td><td>0</td></tr><tr><td>&quot;White-backed d…</td><td>&quot;Thalassornis l…</td><td>&quot;Eyton&quot;</td><td>&quot;1838&quot;</td><td>0</td></tr></tbody></table></div>"
            ]
          },
          "metadata": {},
          "execution_count": 44
        }
      ]
    },
    {
      "cell_type": "code",
      "source": [
        "ducks_arrow = pa_csv.read_csv('ducks.csv')\n",
        "duckdb.sql(\"\"\"SELECT * FROM ducks_arrow\"\"\").arrow()"
      ],
      "metadata": {
        "colab": {
          "base_uri": "https://localhost:8080/"
        },
        "id": "6agVDr68akEg",
        "outputId": "8af560b9-2b25-4c94-b1b1-5dc81b0dd785"
      },
      "id": "6agVDr68akEg",
      "execution_count": 45,
      "outputs": [
        {
          "output_type": "execute_result",
          "data": {
            "text/plain": [
              "pyarrow.Table\n",
              "name: string\n",
              "genus: string\n",
              "author: string\n",
              "year: string\n",
              "extinct: int64\n",
              "----\n",
              "name: [[\"Mandarin duck\",\"Wood duck\",\"Egyptian goose\",\"Brazilian teal\",\"Northern pintail\",...,\"Ruddy shelduck\",\"Common shelduck\",\"Australian shelduck\",\"Paradise shelduck\",\"White-backed duck\"]]\n",
              "genus: [[\"Aix galericulata\",\"Aix sponsa\",\"Alopochen aegyptiaca\",\"Amazonetta brasiliensis\",\"Anas acuta\",...,\"Tadorna ferruginea\",\"Tadorna tadorna\",\"Tadorna tadornoides\",\"Tadorna variegata\",\"Thalassornis leuconotus\"]]\n",
              "author: [[\"Linnaeus\",\"Linnaeus\",\"Linnaeus\",\"J. F. Gmelin\",\"Linnaeus\",...,\"Pallas\",\"Linnaeus\",\"Jardine & Selby\",\"J. F. Gmelin\",\"Eyton\"]]\n",
              "year: [[\"1758\",\"1758\",\"1766\",\"1789\",\"1758\",...,\"1764\",\"1758\",\"1828\",\"1789\",\"1838\"]]\n",
              "extinct: [[0,0,0,0,0,...,0,0,0,0,0]]"
            ]
          },
          "metadata": {},
          "execution_count": 45
        }
      ]
    },
    {
      "cell_type": "markdown",
      "id": "b673f96d",
      "metadata": {
        "id": "b673f96d"
      },
      "source": [
        "## 2. Using `ibis` with a DuckDB backend\n",
        "\n",
        "### A. Introduction to Ibis and DuckDB\n",
        "\n",
        "We'll show you how to leverage the power of DuckDB without even needing to write a single line of SQL. Instead, we'll use Ibis, a powerful Python library that allows you to interact with databases using a DataFrame-like syntax. We'll also show you how to combine the two so you can get the best of both worlds.\n",
        "\n",
        "First, let's make sure you have the necessary packages installed. You can install DuckDB and Ibis using pip:"
      ]
    },
    {
      "cell_type": "code",
      "source": [
        "!pip install ibis-framework[duckdb,examples] --upgrade --quiet"
      ],
      "metadata": {
        "id": "8PHlSQZOayyJ"
      },
      "id": "8PHlSQZOayyJ",
      "execution_count": 46,
      "outputs": []
    },
    {
      "cell_type": "markdown",
      "source": [
        "We are using Ibis in interactive mode for demo purposes. This converts Ibis expressions from lazily evaluated to eagerly evaluated, so it is easier to see what is happening at each step. It also converts Ibis results into Pandas dataframes for nice formatting in Jupyter.\n",
        "\n",
        "For performance and memory reasons, we recommend not using interactive mode in production!\n",
        "\n",
        "We can connect to a file-based DuckDB database by specifying a file path."
      ],
      "metadata": {
        "id": "DFlOOkIEgMTG"
      },
      "id": "DFlOOkIEgMTG"
    },
    {
      "cell_type": "code",
      "execution_count": 47,
      "id": "0a191aac",
      "metadata": {
        "id": "0a191aac"
      },
      "outputs": [],
      "source": [
        "import ibis\n",
        "from ibis import _\n",
        "ibis.options.interactive = True\n",
        "\n",
        "con = ibis.duckdb.connect(database='whats_quackalackin.duckdb')"
      ]
    },
    {
      "cell_type": "markdown",
      "id": "a50cdf52",
      "metadata": {
        "id": "a50cdf52"
      },
      "source": [
        "We can read in a CSV using Ibis, and it will use the DuckDB `read_csv_auto` function under the hood. This way we get both DuckDB's performance, and clean Python syntax."
      ]
    },
    {
      "cell_type": "code",
      "execution_count": 48,
      "id": "b6d4910f",
      "metadata": {
        "id": "b6d4910f",
        "colab": {
          "base_uri": "https://localhost:8080/",
          "height": 298
        },
        "outputId": "65957a2c-44a4-486a-8364-80761d2d2556"
      },
      "outputs": [
        {
          "output_type": "execute_result",
          "data": {
            "text/plain": [
              "┏━━━━━━━━━━━━━━━━━━━━━━━┳━━━━━━━━━━━━━━━━━━━━━━━━━┳━━━━━━━━━━━━━━━━━━━━━━━━┳━━━━━━━━┳━━━━━━━━━┓\n",
              "┃\u001b[1m \u001b[0m\u001b[1mname\u001b[0m\u001b[1m                 \u001b[0m\u001b[1m \u001b[0m┃\u001b[1m \u001b[0m\u001b[1mgenus\u001b[0m\u001b[1m                  \u001b[0m\u001b[1m \u001b[0m┃\u001b[1m \u001b[0m\u001b[1mauthor\u001b[0m\u001b[1m                \u001b[0m\u001b[1m \u001b[0m┃\u001b[1m \u001b[0m\u001b[1myear\u001b[0m\u001b[1m  \u001b[0m\u001b[1m \u001b[0m┃\u001b[1m \u001b[0m\u001b[1mextinct\u001b[0m\u001b[1m \u001b[0m┃\n",
              "┡━━━━━━━━━━━━━━━━━━━━━━━╇━━━━━━━━━━━━━━━━━━━━━━━━━╇━━━━━━━━━━━━━━━━━━━━━━━━╇━━━━━━━━╇━━━━━━━━━┩\n",
              "│ \u001b[2mstring\u001b[0m                │ \u001b[2mstring\u001b[0m                  │ \u001b[2mstring\u001b[0m                 │ \u001b[2mstring\u001b[0m │ \u001b[2mint64\u001b[0m   │\n",
              "├───────────────────────┼─────────────────────────┼────────────────────────┼────────┼─────────┤\n",
              "│ \u001b[32mMandarin duck        \u001b[0m │ \u001b[32mAix galericulata       \u001b[0m │ \u001b[32mLinnaeus              \u001b[0m │ \u001b[32m1758  \u001b[0m │       \u001b[1;36m0\u001b[0m │\n",
              "│ \u001b[32mWood duck            \u001b[0m │ \u001b[32mAix sponsa             \u001b[0m │ \u001b[32mLinnaeus              \u001b[0m │ \u001b[32m1758  \u001b[0m │       \u001b[1;36m0\u001b[0m │\n",
              "│ \u001b[32mEgyptian goose       \u001b[0m │ \u001b[32mAlopochen aegyptiaca   \u001b[0m │ \u001b[32mLinnaeus              \u001b[0m │ \u001b[32m1766  \u001b[0m │       \u001b[1;36m0\u001b[0m │\n",
              "│ \u001b[32mBrazilian teal       \u001b[0m │ \u001b[32mAmazonetta brasiliensis\u001b[0m │ \u001b[32mJ. F. Gmelin          \u001b[0m │ \u001b[32m1789  \u001b[0m │       \u001b[1;36m0\u001b[0m │\n",
              "│ \u001b[32mNorthern pintail     \u001b[0m │ \u001b[32mAnas acuta             \u001b[0m │ \u001b[32mLinnaeus              \u001b[0m │ \u001b[32m1758  \u001b[0m │       \u001b[1;36m0\u001b[0m │\n",
              "│ \u001b[32mAndaman teal         \u001b[0m │ \u001b[32mAnas albogularis       \u001b[0m │ \u001b[32mHume                  \u001b[0m │ \u001b[32m1873  \u001b[0m │       \u001b[1;36m0\u001b[0m │\n",
              "│ \u001b[32mAndean teal          \u001b[0m │ \u001b[32mAnas andium            \u001b[0m │ \u001b[32mP. L. Sclater & Salvin\u001b[0m │ \u001b[32m1873  \u001b[0m │       \u001b[1;36m0\u001b[0m │\n",
              "│ \u001b[32mAuckland teal        \u001b[0m │ \u001b[32mAnas aucklandica       \u001b[0m │ \u001b[32mG. R. Gray            \u001b[0m │ \u001b[32m1844  \u001b[0m │       \u001b[1;36m0\u001b[0m │\n",
              "│ \u001b[32mWhite-cheeked pintail\u001b[0m │ \u001b[32mAnas bahamensis        \u001b[0m │ \u001b[32mLinnaeus              \u001b[0m │ \u001b[32m1758  \u001b[0m │       \u001b[1;36m0\u001b[0m │\n",
              "│ \u001b[32mBernier's teal       \u001b[0m │ \u001b[32mAnas bernieri          \u001b[0m │ \u001b[32mHartlaub              \u001b[0m │ \u001b[32m1860  \u001b[0m │       \u001b[1;36m0\u001b[0m │\n",
              "│ \u001b[2m…\u001b[0m                     │ \u001b[2m…\u001b[0m                       │ \u001b[2m…\u001b[0m                      │ \u001b[2m…\u001b[0m      │       \u001b[2m…\u001b[0m │\n",
              "└───────────────────────┴─────────────────────────┴────────────────────────┴────────┴─────────┘"
            ],
            "text/html": [
              "<pre style=\"white-space:pre;overflow-x:auto;line-height:normal;font-family:Menlo,'DejaVu Sans Mono',consolas,'Courier New',monospace\">┏━━━━━━━━━━━━━━━━━━━━━━━┳━━━━━━━━━━━━━━━━━━━━━━━━━┳━━━━━━━━━━━━━━━━━━━━━━━━┳━━━━━━━━┳━━━━━━━━━┓\n",
              "┃<span style=\"font-weight: bold\"> name                  </span>┃<span style=\"font-weight: bold\"> genus                   </span>┃<span style=\"font-weight: bold\"> author                 </span>┃<span style=\"font-weight: bold\"> year   </span>┃<span style=\"font-weight: bold\"> extinct </span>┃\n",
              "┡━━━━━━━━━━━━━━━━━━━━━━━╇━━━━━━━━━━━━━━━━━━━━━━━━━╇━━━━━━━━━━━━━━━━━━━━━━━━╇━━━━━━━━╇━━━━━━━━━┩\n",
              "│ <span style=\"color: #7f7f7f; text-decoration-color: #7f7f7f\">string</span>                │ <span style=\"color: #7f7f7f; text-decoration-color: #7f7f7f\">string</span>                  │ <span style=\"color: #7f7f7f; text-decoration-color: #7f7f7f\">string</span>                 │ <span style=\"color: #7f7f7f; text-decoration-color: #7f7f7f\">string</span> │ <span style=\"color: #7f7f7f; text-decoration-color: #7f7f7f\">int64</span>   │\n",
              "├───────────────────────┼─────────────────────────┼────────────────────────┼────────┼─────────┤\n",
              "│ <span style=\"color: #008000; text-decoration-color: #008000\">Mandarin duck        </span> │ <span style=\"color: #008000; text-decoration-color: #008000\">Aix galericulata       </span> │ <span style=\"color: #008000; text-decoration-color: #008000\">Linnaeus              </span> │ <span style=\"color: #008000; text-decoration-color: #008000\">1758  </span> │       <span style=\"color: #008080; text-decoration-color: #008080; font-weight: bold\">0</span> │\n",
              "│ <span style=\"color: #008000; text-decoration-color: #008000\">Wood duck            </span> │ <span style=\"color: #008000; text-decoration-color: #008000\">Aix sponsa             </span> │ <span style=\"color: #008000; text-decoration-color: #008000\">Linnaeus              </span> │ <span style=\"color: #008000; text-decoration-color: #008000\">1758  </span> │       <span style=\"color: #008080; text-decoration-color: #008080; font-weight: bold\">0</span> │\n",
              "│ <span style=\"color: #008000; text-decoration-color: #008000\">Egyptian goose       </span> │ <span style=\"color: #008000; text-decoration-color: #008000\">Alopochen aegyptiaca   </span> │ <span style=\"color: #008000; text-decoration-color: #008000\">Linnaeus              </span> │ <span style=\"color: #008000; text-decoration-color: #008000\">1766  </span> │       <span style=\"color: #008080; text-decoration-color: #008080; font-weight: bold\">0</span> │\n",
              "│ <span style=\"color: #008000; text-decoration-color: #008000\">Brazilian teal       </span> │ <span style=\"color: #008000; text-decoration-color: #008000\">Amazonetta brasiliensis</span> │ <span style=\"color: #008000; text-decoration-color: #008000\">J. F. Gmelin          </span> │ <span style=\"color: #008000; text-decoration-color: #008000\">1789  </span> │       <span style=\"color: #008080; text-decoration-color: #008080; font-weight: bold\">0</span> │\n",
              "│ <span style=\"color: #008000; text-decoration-color: #008000\">Northern pintail     </span> │ <span style=\"color: #008000; text-decoration-color: #008000\">Anas acuta             </span> │ <span style=\"color: #008000; text-decoration-color: #008000\">Linnaeus              </span> │ <span style=\"color: #008000; text-decoration-color: #008000\">1758  </span> │       <span style=\"color: #008080; text-decoration-color: #008080; font-weight: bold\">0</span> │\n",
              "│ <span style=\"color: #008000; text-decoration-color: #008000\">Andaman teal         </span> │ <span style=\"color: #008000; text-decoration-color: #008000\">Anas albogularis       </span> │ <span style=\"color: #008000; text-decoration-color: #008000\">Hume                  </span> │ <span style=\"color: #008000; text-decoration-color: #008000\">1873  </span> │       <span style=\"color: #008080; text-decoration-color: #008080; font-weight: bold\">0</span> │\n",
              "│ <span style=\"color: #008000; text-decoration-color: #008000\">Andean teal          </span> │ <span style=\"color: #008000; text-decoration-color: #008000\">Anas andium            </span> │ <span style=\"color: #008000; text-decoration-color: #008000\">P. L. Sclater &amp; Salvin</span> │ <span style=\"color: #008000; text-decoration-color: #008000\">1873  </span> │       <span style=\"color: #008080; text-decoration-color: #008080; font-weight: bold\">0</span> │\n",
              "│ <span style=\"color: #008000; text-decoration-color: #008000\">Auckland teal        </span> │ <span style=\"color: #008000; text-decoration-color: #008000\">Anas aucklandica       </span> │ <span style=\"color: #008000; text-decoration-color: #008000\">G. R. Gray            </span> │ <span style=\"color: #008000; text-decoration-color: #008000\">1844  </span> │       <span style=\"color: #008080; text-decoration-color: #008080; font-weight: bold\">0</span> │\n",
              "│ <span style=\"color: #008000; text-decoration-color: #008000\">White-cheeked pintail</span> │ <span style=\"color: #008000; text-decoration-color: #008000\">Anas bahamensis        </span> │ <span style=\"color: #008000; text-decoration-color: #008000\">Linnaeus              </span> │ <span style=\"color: #008000; text-decoration-color: #008000\">1758  </span> │       <span style=\"color: #008080; text-decoration-color: #008080; font-weight: bold\">0</span> │\n",
              "│ <span style=\"color: #008000; text-decoration-color: #008000\">Bernier's teal       </span> │ <span style=\"color: #008000; text-decoration-color: #008000\">Anas bernieri          </span> │ <span style=\"color: #008000; text-decoration-color: #008000\">Hartlaub              </span> │ <span style=\"color: #008000; text-decoration-color: #008000\">1860  </span> │       <span style=\"color: #008080; text-decoration-color: #008080; font-weight: bold\">0</span> │\n",
              "│ <span style=\"color: #7f7f7f; text-decoration-color: #7f7f7f\">…</span>                     │ <span style=\"color: #7f7f7f; text-decoration-color: #7f7f7f\">…</span>                       │ <span style=\"color: #7f7f7f; text-decoration-color: #7f7f7f\">…</span>                      │ <span style=\"color: #7f7f7f; text-decoration-color: #7f7f7f\">…</span>      │       <span style=\"color: #7f7f7f; text-decoration-color: #7f7f7f\">…</span> │\n",
              "└───────────────────────┴─────────────────────────┴────────────────────────┴────────┴─────────┘\n",
              "</pre>\n"
            ]
          },
          "metadata": {},
          "execution_count": 48
        }
      ],
      "source": [
        "ducks_ibis = ibis.read_csv('ducks.csv')\n",
        "ducks_ibis"
      ]
    },
    {
      "cell_type": "markdown",
      "source": [
        "The result of the prior read_csv operation is an Ibis object. It is similar to the result of a SQL query - it is not saved into the database automatically.\n",
        "\n",
        "To save the result of our read_csv into the DuckDB file, we create a table."
      ],
      "metadata": {
        "id": "TuayvGkciKrw"
      },
      "id": "TuayvGkciKrw"
    },
    {
      "cell_type": "code",
      "source": [
        "persistent_ducks = con.create_table(name='persistent_ducks', obj=ducks_ibis.to_pyarrow(), overwrite=True)\n",
        "persistent_ducks"
      ],
      "metadata": {
        "colab": {
          "base_uri": "https://localhost:8080/",
          "height": 298
        },
        "id": "tBXnfiBeiwyJ",
        "outputId": "3685d19c-c607-49ee-d009-1ef37f6ea2f1"
      },
      "id": "tBXnfiBeiwyJ",
      "execution_count": 49,
      "outputs": [
        {
          "output_type": "execute_result",
          "data": {
            "text/plain": [
              "┏━━━━━━━━━━━━━━━━━━━━━━━┳━━━━━━━━━━━━━━━━━━━━━━━━━┳━━━━━━━━━━━━━━━━━━━━━━━━┳━━━━━━━━┳━━━━━━━━━┓\n",
              "┃\u001b[1m \u001b[0m\u001b[1mname\u001b[0m\u001b[1m                 \u001b[0m\u001b[1m \u001b[0m┃\u001b[1m \u001b[0m\u001b[1mgenus\u001b[0m\u001b[1m                  \u001b[0m\u001b[1m \u001b[0m┃\u001b[1m \u001b[0m\u001b[1mauthor\u001b[0m\u001b[1m                \u001b[0m\u001b[1m \u001b[0m┃\u001b[1m \u001b[0m\u001b[1myear\u001b[0m\u001b[1m  \u001b[0m\u001b[1m \u001b[0m┃\u001b[1m \u001b[0m\u001b[1mextinct\u001b[0m\u001b[1m \u001b[0m┃\n",
              "┡━━━━━━━━━━━━━━━━━━━━━━━╇━━━━━━━━━━━━━━━━━━━━━━━━━╇━━━━━━━━━━━━━━━━━━━━━━━━╇━━━━━━━━╇━━━━━━━━━┩\n",
              "│ \u001b[2mstring\u001b[0m                │ \u001b[2mstring\u001b[0m                  │ \u001b[2mstring\u001b[0m                 │ \u001b[2mstring\u001b[0m │ \u001b[2mint64\u001b[0m   │\n",
              "├───────────────────────┼─────────────────────────┼────────────────────────┼────────┼─────────┤\n",
              "│ \u001b[32mMandarin duck        \u001b[0m │ \u001b[32mAix galericulata       \u001b[0m │ \u001b[32mLinnaeus              \u001b[0m │ \u001b[32m1758  \u001b[0m │       \u001b[1;36m0\u001b[0m │\n",
              "│ \u001b[32mWood duck            \u001b[0m │ \u001b[32mAix sponsa             \u001b[0m │ \u001b[32mLinnaeus              \u001b[0m │ \u001b[32m1758  \u001b[0m │       \u001b[1;36m0\u001b[0m │\n",
              "│ \u001b[32mEgyptian goose       \u001b[0m │ \u001b[32mAlopochen aegyptiaca   \u001b[0m │ \u001b[32mLinnaeus              \u001b[0m │ \u001b[32m1766  \u001b[0m │       \u001b[1;36m0\u001b[0m │\n",
              "│ \u001b[32mBrazilian teal       \u001b[0m │ \u001b[32mAmazonetta brasiliensis\u001b[0m │ \u001b[32mJ. F. Gmelin          \u001b[0m │ \u001b[32m1789  \u001b[0m │       \u001b[1;36m0\u001b[0m │\n",
              "│ \u001b[32mNorthern pintail     \u001b[0m │ \u001b[32mAnas acuta             \u001b[0m │ \u001b[32mLinnaeus              \u001b[0m │ \u001b[32m1758  \u001b[0m │       \u001b[1;36m0\u001b[0m │\n",
              "│ \u001b[32mAndaman teal         \u001b[0m │ \u001b[32mAnas albogularis       \u001b[0m │ \u001b[32mHume                  \u001b[0m │ \u001b[32m1873  \u001b[0m │       \u001b[1;36m0\u001b[0m │\n",
              "│ \u001b[32mAndean teal          \u001b[0m │ \u001b[32mAnas andium            \u001b[0m │ \u001b[32mP. L. Sclater & Salvin\u001b[0m │ \u001b[32m1873  \u001b[0m │       \u001b[1;36m0\u001b[0m │\n",
              "│ \u001b[32mAuckland teal        \u001b[0m │ \u001b[32mAnas aucklandica       \u001b[0m │ \u001b[32mG. R. Gray            \u001b[0m │ \u001b[32m1844  \u001b[0m │       \u001b[1;36m0\u001b[0m │\n",
              "│ \u001b[32mWhite-cheeked pintail\u001b[0m │ \u001b[32mAnas bahamensis        \u001b[0m │ \u001b[32mLinnaeus              \u001b[0m │ \u001b[32m1758  \u001b[0m │       \u001b[1;36m0\u001b[0m │\n",
              "│ \u001b[32mBernier's teal       \u001b[0m │ \u001b[32mAnas bernieri          \u001b[0m │ \u001b[32mHartlaub              \u001b[0m │ \u001b[32m1860  \u001b[0m │       \u001b[1;36m0\u001b[0m │\n",
              "│ \u001b[2m…\u001b[0m                     │ \u001b[2m…\u001b[0m                       │ \u001b[2m…\u001b[0m                      │ \u001b[2m…\u001b[0m      │       \u001b[2m…\u001b[0m │\n",
              "└───────────────────────┴─────────────────────────┴────────────────────────┴────────┴─────────┘"
            ],
            "text/html": [
              "<pre style=\"white-space:pre;overflow-x:auto;line-height:normal;font-family:Menlo,'DejaVu Sans Mono',consolas,'Courier New',monospace\">┏━━━━━━━━━━━━━━━━━━━━━━━┳━━━━━━━━━━━━━━━━━━━━━━━━━┳━━━━━━━━━━━━━━━━━━━━━━━━┳━━━━━━━━┳━━━━━━━━━┓\n",
              "┃<span style=\"font-weight: bold\"> name                  </span>┃<span style=\"font-weight: bold\"> genus                   </span>┃<span style=\"font-weight: bold\"> author                 </span>┃<span style=\"font-weight: bold\"> year   </span>┃<span style=\"font-weight: bold\"> extinct </span>┃\n",
              "┡━━━━━━━━━━━━━━━━━━━━━━━╇━━━━━━━━━━━━━━━━━━━━━━━━━╇━━━━━━━━━━━━━━━━━━━━━━━━╇━━━━━━━━╇━━━━━━━━━┩\n",
              "│ <span style=\"color: #7f7f7f; text-decoration-color: #7f7f7f\">string</span>                │ <span style=\"color: #7f7f7f; text-decoration-color: #7f7f7f\">string</span>                  │ <span style=\"color: #7f7f7f; text-decoration-color: #7f7f7f\">string</span>                 │ <span style=\"color: #7f7f7f; text-decoration-color: #7f7f7f\">string</span> │ <span style=\"color: #7f7f7f; text-decoration-color: #7f7f7f\">int64</span>   │\n",
              "├───────────────────────┼─────────────────────────┼────────────────────────┼────────┼─────────┤\n",
              "│ <span style=\"color: #008000; text-decoration-color: #008000\">Mandarin duck        </span> │ <span style=\"color: #008000; text-decoration-color: #008000\">Aix galericulata       </span> │ <span style=\"color: #008000; text-decoration-color: #008000\">Linnaeus              </span> │ <span style=\"color: #008000; text-decoration-color: #008000\">1758  </span> │       <span style=\"color: #008080; text-decoration-color: #008080; font-weight: bold\">0</span> │\n",
              "│ <span style=\"color: #008000; text-decoration-color: #008000\">Wood duck            </span> │ <span style=\"color: #008000; text-decoration-color: #008000\">Aix sponsa             </span> │ <span style=\"color: #008000; text-decoration-color: #008000\">Linnaeus              </span> │ <span style=\"color: #008000; text-decoration-color: #008000\">1758  </span> │       <span style=\"color: #008080; text-decoration-color: #008080; font-weight: bold\">0</span> │\n",
              "│ <span style=\"color: #008000; text-decoration-color: #008000\">Egyptian goose       </span> │ <span style=\"color: #008000; text-decoration-color: #008000\">Alopochen aegyptiaca   </span> │ <span style=\"color: #008000; text-decoration-color: #008000\">Linnaeus              </span> │ <span style=\"color: #008000; text-decoration-color: #008000\">1766  </span> │       <span style=\"color: #008080; text-decoration-color: #008080; font-weight: bold\">0</span> │\n",
              "│ <span style=\"color: #008000; text-decoration-color: #008000\">Brazilian teal       </span> │ <span style=\"color: #008000; text-decoration-color: #008000\">Amazonetta brasiliensis</span> │ <span style=\"color: #008000; text-decoration-color: #008000\">J. F. Gmelin          </span> │ <span style=\"color: #008000; text-decoration-color: #008000\">1789  </span> │       <span style=\"color: #008080; text-decoration-color: #008080; font-weight: bold\">0</span> │\n",
              "│ <span style=\"color: #008000; text-decoration-color: #008000\">Northern pintail     </span> │ <span style=\"color: #008000; text-decoration-color: #008000\">Anas acuta             </span> │ <span style=\"color: #008000; text-decoration-color: #008000\">Linnaeus              </span> │ <span style=\"color: #008000; text-decoration-color: #008000\">1758  </span> │       <span style=\"color: #008080; text-decoration-color: #008080; font-weight: bold\">0</span> │\n",
              "│ <span style=\"color: #008000; text-decoration-color: #008000\">Andaman teal         </span> │ <span style=\"color: #008000; text-decoration-color: #008000\">Anas albogularis       </span> │ <span style=\"color: #008000; text-decoration-color: #008000\">Hume                  </span> │ <span style=\"color: #008000; text-decoration-color: #008000\">1873  </span> │       <span style=\"color: #008080; text-decoration-color: #008080; font-weight: bold\">0</span> │\n",
              "│ <span style=\"color: #008000; text-decoration-color: #008000\">Andean teal          </span> │ <span style=\"color: #008000; text-decoration-color: #008000\">Anas andium            </span> │ <span style=\"color: #008000; text-decoration-color: #008000\">P. L. Sclater &amp; Salvin</span> │ <span style=\"color: #008000; text-decoration-color: #008000\">1873  </span> │       <span style=\"color: #008080; text-decoration-color: #008080; font-weight: bold\">0</span> │\n",
              "│ <span style=\"color: #008000; text-decoration-color: #008000\">Auckland teal        </span> │ <span style=\"color: #008000; text-decoration-color: #008000\">Anas aucklandica       </span> │ <span style=\"color: #008000; text-decoration-color: #008000\">G. R. Gray            </span> │ <span style=\"color: #008000; text-decoration-color: #008000\">1844  </span> │       <span style=\"color: #008080; text-decoration-color: #008080; font-weight: bold\">0</span> │\n",
              "│ <span style=\"color: #008000; text-decoration-color: #008000\">White-cheeked pintail</span> │ <span style=\"color: #008000; text-decoration-color: #008000\">Anas bahamensis        </span> │ <span style=\"color: #008000; text-decoration-color: #008000\">Linnaeus              </span> │ <span style=\"color: #008000; text-decoration-color: #008000\">1758  </span> │       <span style=\"color: #008080; text-decoration-color: #008080; font-weight: bold\">0</span> │\n",
              "│ <span style=\"color: #008000; text-decoration-color: #008000\">Bernier's teal       </span> │ <span style=\"color: #008000; text-decoration-color: #008000\">Anas bernieri          </span> │ <span style=\"color: #008000; text-decoration-color: #008000\">Hartlaub              </span> │ <span style=\"color: #008000; text-decoration-color: #008000\">1860  </span> │       <span style=\"color: #008080; text-decoration-color: #008080; font-weight: bold\">0</span> │\n",
              "│ <span style=\"color: #7f7f7f; text-decoration-color: #7f7f7f\">…</span>                     │ <span style=\"color: #7f7f7f; text-decoration-color: #7f7f7f\">…</span>                       │ <span style=\"color: #7f7f7f; text-decoration-color: #7f7f7f\">…</span>                      │ <span style=\"color: #7f7f7f; text-decoration-color: #7f7f7f\">…</span>      │       <span style=\"color: #7f7f7f; text-decoration-color: #7f7f7f\">…</span> │\n",
              "└───────────────────────┴─────────────────────────┴────────────────────────┴────────┴─────────┘\n",
              "</pre>\n"
            ]
          },
          "metadata": {},
          "execution_count": 49
        }
      ]
    },
    {
      "cell_type": "markdown",
      "id": "f9212aab",
      "metadata": {
        "id": "f9212aab"
      },
      "source": [
        "Now that we have a table set up, let's see how we can query this data using Ibis. With Ibis, you can perform operations on your data without writing SQL. Let's see how similar it feels...\n",
        "\n",
        "The question we will build up towards answering is, \"Who were the most prolific people at finding many new species of non-extinct ducks, and when did they get started finding ducks?\"\n",
        "\n",
        "Use a the `filter` function instead of a `where` clause to choose the rows you are interested in."
      ]
    },
    {
      "cell_type": "code",
      "source": [
        "persistent_ducks.filter(persistent_ducks.extinct == 0)"
      ],
      "metadata": {
        "colab": {
          "base_uri": "https://localhost:8080/",
          "height": 298
        },
        "id": "2sWBg4dIjtFH",
        "outputId": "c7efefed-d703-4a01-f289-63c46ab52a08"
      },
      "id": "2sWBg4dIjtFH",
      "execution_count": 50,
      "outputs": [
        {
          "output_type": "execute_result",
          "data": {
            "text/plain": [
              "┏━━━━━━━━━━━━━━━━━━━━━━━┳━━━━━━━━━━━━━━━━━━━━━━━━━┳━━━━━━━━━━━━━━━━━━━━━━━━┳━━━━━━━━┳━━━━━━━━━┓\n",
              "┃\u001b[1m \u001b[0m\u001b[1mname\u001b[0m\u001b[1m                 \u001b[0m\u001b[1m \u001b[0m┃\u001b[1m \u001b[0m\u001b[1mgenus\u001b[0m\u001b[1m                  \u001b[0m\u001b[1m \u001b[0m┃\u001b[1m \u001b[0m\u001b[1mauthor\u001b[0m\u001b[1m                \u001b[0m\u001b[1m \u001b[0m┃\u001b[1m \u001b[0m\u001b[1myear\u001b[0m\u001b[1m  \u001b[0m\u001b[1m \u001b[0m┃\u001b[1m \u001b[0m\u001b[1mextinct\u001b[0m\u001b[1m \u001b[0m┃\n",
              "┡━━━━━━━━━━━━━━━━━━━━━━━╇━━━━━━━━━━━━━━━━━━━━━━━━━╇━━━━━━━━━━━━━━━━━━━━━━━━╇━━━━━━━━╇━━━━━━━━━┩\n",
              "│ \u001b[2mstring\u001b[0m                │ \u001b[2mstring\u001b[0m                  │ \u001b[2mstring\u001b[0m                 │ \u001b[2mstring\u001b[0m │ \u001b[2mint64\u001b[0m   │\n",
              "├───────────────────────┼─────────────────────────┼────────────────────────┼────────┼─────────┤\n",
              "│ \u001b[32mMandarin duck        \u001b[0m │ \u001b[32mAix galericulata       \u001b[0m │ \u001b[32mLinnaeus              \u001b[0m │ \u001b[32m1758  \u001b[0m │       \u001b[1;36m0\u001b[0m │\n",
              "│ \u001b[32mWood duck            \u001b[0m │ \u001b[32mAix sponsa             \u001b[0m │ \u001b[32mLinnaeus              \u001b[0m │ \u001b[32m1758  \u001b[0m │       \u001b[1;36m0\u001b[0m │\n",
              "│ \u001b[32mEgyptian goose       \u001b[0m │ \u001b[32mAlopochen aegyptiaca   \u001b[0m │ \u001b[32mLinnaeus              \u001b[0m │ \u001b[32m1766  \u001b[0m │       \u001b[1;36m0\u001b[0m │\n",
              "│ \u001b[32mBrazilian teal       \u001b[0m │ \u001b[32mAmazonetta brasiliensis\u001b[0m │ \u001b[32mJ. F. Gmelin          \u001b[0m │ \u001b[32m1789  \u001b[0m │       \u001b[1;36m0\u001b[0m │\n",
              "│ \u001b[32mNorthern pintail     \u001b[0m │ \u001b[32mAnas acuta             \u001b[0m │ \u001b[32mLinnaeus              \u001b[0m │ \u001b[32m1758  \u001b[0m │       \u001b[1;36m0\u001b[0m │\n",
              "│ \u001b[32mAndaman teal         \u001b[0m │ \u001b[32mAnas albogularis       \u001b[0m │ \u001b[32mHume                  \u001b[0m │ \u001b[32m1873  \u001b[0m │       \u001b[1;36m0\u001b[0m │\n",
              "│ \u001b[32mAndean teal          \u001b[0m │ \u001b[32mAnas andium            \u001b[0m │ \u001b[32mP. L. Sclater & Salvin\u001b[0m │ \u001b[32m1873  \u001b[0m │       \u001b[1;36m0\u001b[0m │\n",
              "│ \u001b[32mAuckland teal        \u001b[0m │ \u001b[32mAnas aucklandica       \u001b[0m │ \u001b[32mG. R. Gray            \u001b[0m │ \u001b[32m1844  \u001b[0m │       \u001b[1;36m0\u001b[0m │\n",
              "│ \u001b[32mWhite-cheeked pintail\u001b[0m │ \u001b[32mAnas bahamensis        \u001b[0m │ \u001b[32mLinnaeus              \u001b[0m │ \u001b[32m1758  \u001b[0m │       \u001b[1;36m0\u001b[0m │\n",
              "│ \u001b[32mBernier's teal       \u001b[0m │ \u001b[32mAnas bernieri          \u001b[0m │ \u001b[32mHartlaub              \u001b[0m │ \u001b[32m1860  \u001b[0m │       \u001b[1;36m0\u001b[0m │\n",
              "│ \u001b[2m…\u001b[0m                     │ \u001b[2m…\u001b[0m                       │ \u001b[2m…\u001b[0m                      │ \u001b[2m…\u001b[0m      │       \u001b[2m…\u001b[0m │\n",
              "└───────────────────────┴─────────────────────────┴────────────────────────┴────────┴─────────┘"
            ],
            "text/html": [
              "<pre style=\"white-space:pre;overflow-x:auto;line-height:normal;font-family:Menlo,'DejaVu Sans Mono',consolas,'Courier New',monospace\">┏━━━━━━━━━━━━━━━━━━━━━━━┳━━━━━━━━━━━━━━━━━━━━━━━━━┳━━━━━━━━━━━━━━━━━━━━━━━━┳━━━━━━━━┳━━━━━━━━━┓\n",
              "┃<span style=\"font-weight: bold\"> name                  </span>┃<span style=\"font-weight: bold\"> genus                   </span>┃<span style=\"font-weight: bold\"> author                 </span>┃<span style=\"font-weight: bold\"> year   </span>┃<span style=\"font-weight: bold\"> extinct </span>┃\n",
              "┡━━━━━━━━━━━━━━━━━━━━━━━╇━━━━━━━━━━━━━━━━━━━━━━━━━╇━━━━━━━━━━━━━━━━━━━━━━━━╇━━━━━━━━╇━━━━━━━━━┩\n",
              "│ <span style=\"color: #7f7f7f; text-decoration-color: #7f7f7f\">string</span>                │ <span style=\"color: #7f7f7f; text-decoration-color: #7f7f7f\">string</span>                  │ <span style=\"color: #7f7f7f; text-decoration-color: #7f7f7f\">string</span>                 │ <span style=\"color: #7f7f7f; text-decoration-color: #7f7f7f\">string</span> │ <span style=\"color: #7f7f7f; text-decoration-color: #7f7f7f\">int64</span>   │\n",
              "├───────────────────────┼─────────────────────────┼────────────────────────┼────────┼─────────┤\n",
              "│ <span style=\"color: #008000; text-decoration-color: #008000\">Mandarin duck        </span> │ <span style=\"color: #008000; text-decoration-color: #008000\">Aix galericulata       </span> │ <span style=\"color: #008000; text-decoration-color: #008000\">Linnaeus              </span> │ <span style=\"color: #008000; text-decoration-color: #008000\">1758  </span> │       <span style=\"color: #008080; text-decoration-color: #008080; font-weight: bold\">0</span> │\n",
              "│ <span style=\"color: #008000; text-decoration-color: #008000\">Wood duck            </span> │ <span style=\"color: #008000; text-decoration-color: #008000\">Aix sponsa             </span> │ <span style=\"color: #008000; text-decoration-color: #008000\">Linnaeus              </span> │ <span style=\"color: #008000; text-decoration-color: #008000\">1758  </span> │       <span style=\"color: #008080; text-decoration-color: #008080; font-weight: bold\">0</span> │\n",
              "│ <span style=\"color: #008000; text-decoration-color: #008000\">Egyptian goose       </span> │ <span style=\"color: #008000; text-decoration-color: #008000\">Alopochen aegyptiaca   </span> │ <span style=\"color: #008000; text-decoration-color: #008000\">Linnaeus              </span> │ <span style=\"color: #008000; text-decoration-color: #008000\">1766  </span> │       <span style=\"color: #008080; text-decoration-color: #008080; font-weight: bold\">0</span> │\n",
              "│ <span style=\"color: #008000; text-decoration-color: #008000\">Brazilian teal       </span> │ <span style=\"color: #008000; text-decoration-color: #008000\">Amazonetta brasiliensis</span> │ <span style=\"color: #008000; text-decoration-color: #008000\">J. F. Gmelin          </span> │ <span style=\"color: #008000; text-decoration-color: #008000\">1789  </span> │       <span style=\"color: #008080; text-decoration-color: #008080; font-weight: bold\">0</span> │\n",
              "│ <span style=\"color: #008000; text-decoration-color: #008000\">Northern pintail     </span> │ <span style=\"color: #008000; text-decoration-color: #008000\">Anas acuta             </span> │ <span style=\"color: #008000; text-decoration-color: #008000\">Linnaeus              </span> │ <span style=\"color: #008000; text-decoration-color: #008000\">1758  </span> │       <span style=\"color: #008080; text-decoration-color: #008080; font-weight: bold\">0</span> │\n",
              "│ <span style=\"color: #008000; text-decoration-color: #008000\">Andaman teal         </span> │ <span style=\"color: #008000; text-decoration-color: #008000\">Anas albogularis       </span> │ <span style=\"color: #008000; text-decoration-color: #008000\">Hume                  </span> │ <span style=\"color: #008000; text-decoration-color: #008000\">1873  </span> │       <span style=\"color: #008080; text-decoration-color: #008080; font-weight: bold\">0</span> │\n",
              "│ <span style=\"color: #008000; text-decoration-color: #008000\">Andean teal          </span> │ <span style=\"color: #008000; text-decoration-color: #008000\">Anas andium            </span> │ <span style=\"color: #008000; text-decoration-color: #008000\">P. L. Sclater &amp; Salvin</span> │ <span style=\"color: #008000; text-decoration-color: #008000\">1873  </span> │       <span style=\"color: #008080; text-decoration-color: #008080; font-weight: bold\">0</span> │\n",
              "│ <span style=\"color: #008000; text-decoration-color: #008000\">Auckland teal        </span> │ <span style=\"color: #008000; text-decoration-color: #008000\">Anas aucklandica       </span> │ <span style=\"color: #008000; text-decoration-color: #008000\">G. R. Gray            </span> │ <span style=\"color: #008000; text-decoration-color: #008000\">1844  </span> │       <span style=\"color: #008080; text-decoration-color: #008080; font-weight: bold\">0</span> │\n",
              "│ <span style=\"color: #008000; text-decoration-color: #008000\">White-cheeked pintail</span> │ <span style=\"color: #008000; text-decoration-color: #008000\">Anas bahamensis        </span> │ <span style=\"color: #008000; text-decoration-color: #008000\">Linnaeus              </span> │ <span style=\"color: #008000; text-decoration-color: #008000\">1758  </span> │       <span style=\"color: #008080; text-decoration-color: #008080; font-weight: bold\">0</span> │\n",
              "│ <span style=\"color: #008000; text-decoration-color: #008000\">Bernier's teal       </span> │ <span style=\"color: #008000; text-decoration-color: #008000\">Anas bernieri          </span> │ <span style=\"color: #008000; text-decoration-color: #008000\">Hartlaub              </span> │ <span style=\"color: #008000; text-decoration-color: #008000\">1860  </span> │       <span style=\"color: #008080; text-decoration-color: #008080; font-weight: bold\">0</span> │\n",
              "│ <span style=\"color: #7f7f7f; text-decoration-color: #7f7f7f\">…</span>                     │ <span style=\"color: #7f7f7f; text-decoration-color: #7f7f7f\">…</span>                       │ <span style=\"color: #7f7f7f; text-decoration-color: #7f7f7f\">…</span>                      │ <span style=\"color: #7f7f7f; text-decoration-color: #7f7f7f\">…</span>      │       <span style=\"color: #7f7f7f; text-decoration-color: #7f7f7f\">…</span> │\n",
              "└───────────────────────┴─────────────────────────┴────────────────────────┴────────┴─────────┘\n",
              "</pre>\n"
            ]
          },
          "metadata": {},
          "execution_count": 50
        }
      ]
    },
    {
      "cell_type": "markdown",
      "source": [
        "Pick your columns using the conveniently named `select` function!"
      ],
      "metadata": {
        "id": "ZNtv-DsOYvyG"
      },
      "id": "ZNtv-DsOYvyG"
    },
    {
      "cell_type": "code",
      "source": [
        "(persistent_ducks\n",
        "  .filter(persistent_ducks.extinct == 0)\n",
        "  .select(\"name\", \"author\", \"year\")\n",
        ")"
      ],
      "metadata": {
        "colab": {
          "base_uri": "https://localhost:8080/",
          "height": 298
        },
        "id": "QNyeEOV5lWdk",
        "outputId": "9c7f1bf6-69df-4925-c79e-a9bdbdfcc843"
      },
      "id": "QNyeEOV5lWdk",
      "execution_count": 51,
      "outputs": [
        {
          "output_type": "execute_result",
          "data": {
            "text/plain": [
              "┏━━━━━━━━━━━━━━━━━━━━━━━┳━━━━━━━━━━━━━━━━━━━━━━━━┳━━━━━━━━┓\n",
              "┃\u001b[1m \u001b[0m\u001b[1mname\u001b[0m\u001b[1m                 \u001b[0m\u001b[1m \u001b[0m┃\u001b[1m \u001b[0m\u001b[1mauthor\u001b[0m\u001b[1m                \u001b[0m\u001b[1m \u001b[0m┃\u001b[1m \u001b[0m\u001b[1myear\u001b[0m\u001b[1m  \u001b[0m\u001b[1m \u001b[0m┃\n",
              "┡━━━━━━━━━━━━━━━━━━━━━━━╇━━━━━━━━━━━━━━━━━━━━━━━━╇━━━━━━━━┩\n",
              "│ \u001b[2mstring\u001b[0m                │ \u001b[2mstring\u001b[0m                 │ \u001b[2mstring\u001b[0m │\n",
              "├───────────────────────┼────────────────────────┼────────┤\n",
              "│ \u001b[32mMandarin duck        \u001b[0m │ \u001b[32mLinnaeus              \u001b[0m │ \u001b[32m1758  \u001b[0m │\n",
              "│ \u001b[32mWood duck            \u001b[0m │ \u001b[32mLinnaeus              \u001b[0m │ \u001b[32m1758  \u001b[0m │\n",
              "│ \u001b[32mEgyptian goose       \u001b[0m │ \u001b[32mLinnaeus              \u001b[0m │ \u001b[32m1766  \u001b[0m │\n",
              "│ \u001b[32mBrazilian teal       \u001b[0m │ \u001b[32mJ. F. Gmelin          \u001b[0m │ \u001b[32m1789  \u001b[0m │\n",
              "│ \u001b[32mNorthern pintail     \u001b[0m │ \u001b[32mLinnaeus              \u001b[0m │ \u001b[32m1758  \u001b[0m │\n",
              "│ \u001b[32mAndaman teal         \u001b[0m │ \u001b[32mHume                  \u001b[0m │ \u001b[32m1873  \u001b[0m │\n",
              "│ \u001b[32mAndean teal          \u001b[0m │ \u001b[32mP. L. Sclater & Salvin\u001b[0m │ \u001b[32m1873  \u001b[0m │\n",
              "│ \u001b[32mAuckland teal        \u001b[0m │ \u001b[32mG. R. Gray            \u001b[0m │ \u001b[32m1844  \u001b[0m │\n",
              "│ \u001b[32mWhite-cheeked pintail\u001b[0m │ \u001b[32mLinnaeus              \u001b[0m │ \u001b[32m1758  \u001b[0m │\n",
              "│ \u001b[32mBernier's teal       \u001b[0m │ \u001b[32mHartlaub              \u001b[0m │ \u001b[32m1860  \u001b[0m │\n",
              "│ \u001b[2m…\u001b[0m                     │ \u001b[2m…\u001b[0m                      │ \u001b[2m…\u001b[0m      │\n",
              "└───────────────────────┴────────────────────────┴────────┘"
            ],
            "text/html": [
              "<pre style=\"white-space:pre;overflow-x:auto;line-height:normal;font-family:Menlo,'DejaVu Sans Mono',consolas,'Courier New',monospace\">┏━━━━━━━━━━━━━━━━━━━━━━━┳━━━━━━━━━━━━━━━━━━━━━━━━┳━━━━━━━━┓\n",
              "┃<span style=\"font-weight: bold\"> name                  </span>┃<span style=\"font-weight: bold\"> author                 </span>┃<span style=\"font-weight: bold\"> year   </span>┃\n",
              "┡━━━━━━━━━━━━━━━━━━━━━━━╇━━━━━━━━━━━━━━━━━━━━━━━━╇━━━━━━━━┩\n",
              "│ <span style=\"color: #7f7f7f; text-decoration-color: #7f7f7f\">string</span>                │ <span style=\"color: #7f7f7f; text-decoration-color: #7f7f7f\">string</span>                 │ <span style=\"color: #7f7f7f; text-decoration-color: #7f7f7f\">string</span> │\n",
              "├───────────────────────┼────────────────────────┼────────┤\n",
              "│ <span style=\"color: #008000; text-decoration-color: #008000\">Mandarin duck        </span> │ <span style=\"color: #008000; text-decoration-color: #008000\">Linnaeus              </span> │ <span style=\"color: #008000; text-decoration-color: #008000\">1758  </span> │\n",
              "│ <span style=\"color: #008000; text-decoration-color: #008000\">Wood duck            </span> │ <span style=\"color: #008000; text-decoration-color: #008000\">Linnaeus              </span> │ <span style=\"color: #008000; text-decoration-color: #008000\">1758  </span> │\n",
              "│ <span style=\"color: #008000; text-decoration-color: #008000\">Egyptian goose       </span> │ <span style=\"color: #008000; text-decoration-color: #008000\">Linnaeus              </span> │ <span style=\"color: #008000; text-decoration-color: #008000\">1766  </span> │\n",
              "│ <span style=\"color: #008000; text-decoration-color: #008000\">Brazilian teal       </span> │ <span style=\"color: #008000; text-decoration-color: #008000\">J. F. Gmelin          </span> │ <span style=\"color: #008000; text-decoration-color: #008000\">1789  </span> │\n",
              "│ <span style=\"color: #008000; text-decoration-color: #008000\">Northern pintail     </span> │ <span style=\"color: #008000; text-decoration-color: #008000\">Linnaeus              </span> │ <span style=\"color: #008000; text-decoration-color: #008000\">1758  </span> │\n",
              "│ <span style=\"color: #008000; text-decoration-color: #008000\">Andaman teal         </span> │ <span style=\"color: #008000; text-decoration-color: #008000\">Hume                  </span> │ <span style=\"color: #008000; text-decoration-color: #008000\">1873  </span> │\n",
              "│ <span style=\"color: #008000; text-decoration-color: #008000\">Andean teal          </span> │ <span style=\"color: #008000; text-decoration-color: #008000\">P. L. Sclater &amp; Salvin</span> │ <span style=\"color: #008000; text-decoration-color: #008000\">1873  </span> │\n",
              "│ <span style=\"color: #008000; text-decoration-color: #008000\">Auckland teal        </span> │ <span style=\"color: #008000; text-decoration-color: #008000\">G. R. Gray            </span> │ <span style=\"color: #008000; text-decoration-color: #008000\">1844  </span> │\n",
              "│ <span style=\"color: #008000; text-decoration-color: #008000\">White-cheeked pintail</span> │ <span style=\"color: #008000; text-decoration-color: #008000\">Linnaeus              </span> │ <span style=\"color: #008000; text-decoration-color: #008000\">1758  </span> │\n",
              "│ <span style=\"color: #008000; text-decoration-color: #008000\">Bernier's teal       </span> │ <span style=\"color: #008000; text-decoration-color: #008000\">Hartlaub              </span> │ <span style=\"color: #008000; text-decoration-color: #008000\">1860  </span> │\n",
              "│ <span style=\"color: #7f7f7f; text-decoration-color: #7f7f7f\">…</span>                     │ <span style=\"color: #7f7f7f; text-decoration-color: #7f7f7f\">…</span>                      │ <span style=\"color: #7f7f7f; text-decoration-color: #7f7f7f\">…</span>      │\n",
              "└───────────────────────┴────────────────────────┴────────┘\n",
              "</pre>\n"
            ]
          },
          "metadata": {},
          "execution_count": 51
        }
      ]
    },
    {
      "cell_type": "markdown",
      "source": [
        "The `group_by` functions matches well with the `group by` clause.\n",
        "\n",
        "However, Ibis splits the `select` clause into the `select` function and the `aggregate` function when working with a group by. This aligns with the SQL best practice to organize your `select` clause with non-aggregate expressions first, then aggregate expressions."
      ],
      "metadata": {
        "id": "KgRYCsXfY1X6"
      },
      "id": "KgRYCsXfY1X6"
    },
    {
      "cell_type": "code",
      "source": [
        "duck_legends = (persistent_ducks\n",
        "  .filter(persistent_ducks.extinct == 0)\n",
        "  .select(\"name\", \"author\", \"year\")\n",
        "  .group_by(\"author\")\n",
        "  .aggregate([persistent_ducks.name.count(), persistent_ducks.year.min()])\n",
        "  .order_by([ibis.desc(\"Count(name)\")])\n",
        ")\n",
        "duck_legends"
      ],
      "metadata": {
        "colab": {
          "base_uri": "https://localhost:8080/",
          "height": 298
        },
        "id": "6jRseCsrly0L",
        "outputId": "1e534133-ebf7-43ba-94dd-47e8e48e7539"
      },
      "id": "6jRseCsrly0L",
      "execution_count": 52,
      "outputs": [
        {
          "output_type": "execute_result",
          "data": {
            "text/plain": [
              "┏━━━━━━━━━━━━━━┳━━━━━━━━━━━━━┳━━━━━━━━━━━┓\n",
              "┃\u001b[1m \u001b[0m\u001b[1mauthor\u001b[0m\u001b[1m      \u001b[0m\u001b[1m \u001b[0m┃\u001b[1m \u001b[0m\u001b[1mCount(name)\u001b[0m\u001b[1m \u001b[0m┃\u001b[1m \u001b[0m\u001b[1mMin(year)\u001b[0m\u001b[1m \u001b[0m┃\n",
              "┡━━━━━━━━━━━━━━╇━━━━━━━━━━━━━╇━━━━━━━━━━━┩\n",
              "│ \u001b[2mstring\u001b[0m       │ \u001b[2mint64\u001b[0m       │ \u001b[2mstring\u001b[0m    │\n",
              "├──────────────┼─────────────┼───────────┤\n",
              "│ \u001b[32mLinnaeus    \u001b[0m │          \u001b[1;36m35\u001b[0m │ \u001b[32m1758     \u001b[0m │\n",
              "│ \u001b[32mJ. F. Gmelin\u001b[0m │          \u001b[1;36m13\u001b[0m │ \u001b[32m1789     \u001b[0m │\n",
              "│ \u001b[32mEyton       \u001b[0m │          \u001b[1;36m10\u001b[0m │ \u001b[32m1838     \u001b[0m │\n",
              "│ \u001b[32mVieillot    \u001b[0m │           \u001b[1;36m8\u001b[0m │ \u001b[32m1816     \u001b[0m │\n",
              "│ \u001b[32mGould       \u001b[0m │           \u001b[1;36m4\u001b[0m │ \u001b[32m1837     \u001b[0m │\n",
              "│ \u001b[32mLatham      \u001b[0m │           \u001b[1;36m4\u001b[0m │ \u001b[32m1790     \u001b[0m │\n",
              "│ \u001b[32mRidgway     \u001b[0m │           \u001b[1;36m3\u001b[0m │ \u001b[32m1874     \u001b[0m │\n",
              "│ \u001b[32mP. P. King  \u001b[0m │           \u001b[1;36m3\u001b[0m │ \u001b[32m1828     \u001b[0m │\n",
              "│ \u001b[32mPallas      \u001b[0m │           \u001b[1;36m3\u001b[0m │ \u001b[32m1764     \u001b[0m │\n",
              "│ \u001b[32mS. Müller   \u001b[0m │           \u001b[1;36m2\u001b[0m │ \u001b[32m1842     \u001b[0m │\n",
              "│ \u001b[2m…\u001b[0m            │           \u001b[2m…\u001b[0m │ \u001b[2m…\u001b[0m         │\n",
              "└──────────────┴─────────────┴───────────┘"
            ],
            "text/html": [
              "<pre style=\"white-space:pre;overflow-x:auto;line-height:normal;font-family:Menlo,'DejaVu Sans Mono',consolas,'Courier New',monospace\">┏━━━━━━━━━━━━━━┳━━━━━━━━━━━━━┳━━━━━━━━━━━┓\n",
              "┃<span style=\"font-weight: bold\"> author       </span>┃<span style=\"font-weight: bold\"> Count(name) </span>┃<span style=\"font-weight: bold\"> Min(year) </span>┃\n",
              "┡━━━━━━━━━━━━━━╇━━━━━━━━━━━━━╇━━━━━━━━━━━┩\n",
              "│ <span style=\"color: #7f7f7f; text-decoration-color: #7f7f7f\">string</span>       │ <span style=\"color: #7f7f7f; text-decoration-color: #7f7f7f\">int64</span>       │ <span style=\"color: #7f7f7f; text-decoration-color: #7f7f7f\">string</span>    │\n",
              "├──────────────┼─────────────┼───────────┤\n",
              "│ <span style=\"color: #008000; text-decoration-color: #008000\">Linnaeus    </span> │          <span style=\"color: #008080; text-decoration-color: #008080; font-weight: bold\">35</span> │ <span style=\"color: #008000; text-decoration-color: #008000\">1758     </span> │\n",
              "│ <span style=\"color: #008000; text-decoration-color: #008000\">J. F. Gmelin</span> │          <span style=\"color: #008080; text-decoration-color: #008080; font-weight: bold\">13</span> │ <span style=\"color: #008000; text-decoration-color: #008000\">1789     </span> │\n",
              "│ <span style=\"color: #008000; text-decoration-color: #008000\">Eyton       </span> │          <span style=\"color: #008080; text-decoration-color: #008080; font-weight: bold\">10</span> │ <span style=\"color: #008000; text-decoration-color: #008000\">1838     </span> │\n",
              "│ <span style=\"color: #008000; text-decoration-color: #008000\">Vieillot    </span> │           <span style=\"color: #008080; text-decoration-color: #008080; font-weight: bold\">8</span> │ <span style=\"color: #008000; text-decoration-color: #008000\">1816     </span> │\n",
              "│ <span style=\"color: #008000; text-decoration-color: #008000\">Gould       </span> │           <span style=\"color: #008080; text-decoration-color: #008080; font-weight: bold\">4</span> │ <span style=\"color: #008000; text-decoration-color: #008000\">1837     </span> │\n",
              "│ <span style=\"color: #008000; text-decoration-color: #008000\">Latham      </span> │           <span style=\"color: #008080; text-decoration-color: #008080; font-weight: bold\">4</span> │ <span style=\"color: #008000; text-decoration-color: #008000\">1790     </span> │\n",
              "│ <span style=\"color: #008000; text-decoration-color: #008000\">Ridgway     </span> │           <span style=\"color: #008080; text-decoration-color: #008080; font-weight: bold\">3</span> │ <span style=\"color: #008000; text-decoration-color: #008000\">1874     </span> │\n",
              "│ <span style=\"color: #008000; text-decoration-color: #008000\">P. P. King  </span> │           <span style=\"color: #008080; text-decoration-color: #008080; font-weight: bold\">3</span> │ <span style=\"color: #008000; text-decoration-color: #008000\">1828     </span> │\n",
              "│ <span style=\"color: #008000; text-decoration-color: #008000\">Pallas      </span> │           <span style=\"color: #008080; text-decoration-color: #008080; font-weight: bold\">3</span> │ <span style=\"color: #008000; text-decoration-color: #008000\">1764     </span> │\n",
              "│ <span style=\"color: #008000; text-decoration-color: #008000\">S. Müller   </span> │           <span style=\"color: #008080; text-decoration-color: #008080; font-weight: bold\">2</span> │ <span style=\"color: #008000; text-decoration-color: #008000\">1842     </span> │\n",
              "│ <span style=\"color: #7f7f7f; text-decoration-color: #7f7f7f\">…</span>            │           <span style=\"color: #7f7f7f; text-decoration-color: #7f7f7f\">…</span> │ <span style=\"color: #7f7f7f; text-decoration-color: #7f7f7f\">…</span>         │\n",
              "└──────────────┴─────────────┴───────────┘\n",
              "</pre>\n"
            ]
          },
          "metadata": {},
          "execution_count": 52
        }
      ]
    },
    {
      "cell_type": "code",
      "source": [
        "ibis.to_sql(duck_legends)"
      ],
      "metadata": {
        "colab": {
          "base_uri": "https://localhost:8080/",
          "height": 382
        },
        "id": "paAq7b0_nFx5",
        "outputId": "8ddf7143-5d49-4793-83cf-0b4123af6261"
      },
      "id": "paAq7b0_nFx5",
      "execution_count": 53,
      "outputs": [
        {
          "output_type": "execute_result",
          "data": {
            "text/plain": [
              "\u001b[34mSELECT\u001b[39;49;00m\u001b[37m\u001b[39;49;00m\n",
              "\u001b[37m  \u001b[39;49;00m*\u001b[37m\u001b[39;49;00m\n",
              "\u001b[34mFROM\u001b[39;49;00m\u001b[37m \u001b[39;49;00m(\u001b[37m\u001b[39;49;00m\n",
              "\u001b[37m  \u001b[39;49;00m\u001b[34mSELECT\u001b[39;49;00m\u001b[37m\u001b[39;49;00m\n",
              "\u001b[37m    \u001b[39;49;00m\u001b[33m\"t1\"\u001b[39;49;00m.\u001b[33m\"author\"\u001b[39;49;00m,\u001b[37m\u001b[39;49;00m\n",
              "\u001b[37m    \u001b[39;49;00m\u001b[34mCOUNT\u001b[39;49;00m(\u001b[33m\"t1\"\u001b[39;49;00m.\u001b[33m\"name\"\u001b[39;49;00m)\u001b[37m \u001b[39;49;00m\u001b[34mAS\u001b[39;49;00m\u001b[37m \u001b[39;49;00m\u001b[33m\"Count(name)\"\u001b[39;49;00m,\u001b[37m\u001b[39;49;00m\n",
              "\u001b[37m    \u001b[39;49;00m\u001b[34mMIN\u001b[39;49;00m(\u001b[33m\"t1\"\u001b[39;49;00m.\u001b[33m\"year\"\u001b[39;49;00m)\u001b[37m \u001b[39;49;00m\u001b[34mAS\u001b[39;49;00m\u001b[37m \u001b[39;49;00m\u001b[33m\"Min(year)\"\u001b[39;49;00m\u001b[37m\u001b[39;49;00m\n",
              "\u001b[37m  \u001b[39;49;00m\u001b[34mFROM\u001b[39;49;00m\u001b[37m \u001b[39;49;00m(\u001b[37m\u001b[39;49;00m\n",
              "\u001b[37m    \u001b[39;49;00m\u001b[34mSELECT\u001b[39;49;00m\u001b[37m\u001b[39;49;00m\n",
              "\u001b[37m      \u001b[39;49;00m\u001b[33m\"t0\"\u001b[39;49;00m.\u001b[33m\"name\"\u001b[39;49;00m,\u001b[37m\u001b[39;49;00m\n",
              "\u001b[37m      \u001b[39;49;00m\u001b[33m\"t0\"\u001b[39;49;00m.\u001b[33m\"author\"\u001b[39;49;00m,\u001b[37m\u001b[39;49;00m\n",
              "\u001b[37m      \u001b[39;49;00m\u001b[33m\"t0\"\u001b[39;49;00m.\u001b[33m\"year\"\u001b[39;49;00m\u001b[37m\u001b[39;49;00m\n",
              "\u001b[37m    \u001b[39;49;00m\u001b[34mFROM\u001b[39;49;00m\u001b[37m \u001b[39;49;00m\u001b[33m\"whats_quackalackin\"\u001b[39;49;00m.\u001b[33m\"main\"\u001b[39;49;00m.\u001b[33m\"persistent_ducks\"\u001b[39;49;00m\u001b[37m \u001b[39;49;00m\u001b[34mAS\u001b[39;49;00m\u001b[37m \u001b[39;49;00m\u001b[33m\"t0\"\u001b[39;49;00m\u001b[37m\u001b[39;49;00m\n",
              "\u001b[37m    \u001b[39;49;00m\u001b[34mWHERE\u001b[39;49;00m\u001b[37m\u001b[39;49;00m\n",
              "\u001b[37m      \u001b[39;49;00m\u001b[33m\"t0\"\u001b[39;49;00m.\u001b[33m\"extinct\"\u001b[39;49;00m\u001b[37m \u001b[39;49;00m=\u001b[37m \u001b[39;49;00m\u001b[34mCAST\u001b[39;49;00m(\u001b[34m0\u001b[39;49;00m\u001b[37m \u001b[39;49;00m\u001b[34mAS\u001b[39;49;00m\u001b[37m \u001b[39;49;00mTINYINT)\u001b[37m\u001b[39;49;00m\n",
              "\u001b[37m  \u001b[39;49;00m)\u001b[37m \u001b[39;49;00m\u001b[34mAS\u001b[39;49;00m\u001b[37m \u001b[39;49;00m\u001b[33m\"t1\"\u001b[39;49;00m\u001b[37m\u001b[39;49;00m\n",
              "\u001b[37m  \u001b[39;49;00m\u001b[34mGROUP\u001b[39;49;00m\u001b[37m \u001b[39;49;00m\u001b[34mBY\u001b[39;49;00m\u001b[37m\u001b[39;49;00m\n",
              "\u001b[37m    \u001b[39;49;00m\u001b[34m1\u001b[39;49;00m\u001b[37m\u001b[39;49;00m\n",
              ")\u001b[37m \u001b[39;49;00m\u001b[34mAS\u001b[39;49;00m\u001b[37m \u001b[39;49;00m\u001b[33m\"t2\"\u001b[39;49;00m\u001b[37m\u001b[39;49;00m\n",
              "\u001b[34mORDER\u001b[39;49;00m\u001b[37m \u001b[39;49;00m\u001b[34mBY\u001b[39;49;00m\u001b[37m\u001b[39;49;00m\n",
              "\u001b[37m  \u001b[39;49;00m\u001b[33m\"t2\"\u001b[39;49;00m.\u001b[33m\"Count(name)\"\u001b[39;49;00m\u001b[37m \u001b[39;49;00m\u001b[34mDESC\u001b[39;49;00m\u001b[37m\u001b[39;49;00m"
            ],
            "text/markdown": "```sql\nSELECT\n  *\nFROM (\n  SELECT\n    \"t1\".\"author\",\n    COUNT(\"t1\".\"name\") AS \"Count(name)\",\n    MIN(\"t1\".\"year\") AS \"Min(year)\"\n  FROM (\n    SELECT\n      \"t0\".\"name\",\n      \"t0\".\"author\",\n      \"t0\".\"year\"\n    FROM \"whats_quackalackin\".\"main\".\"persistent_ducks\" AS \"t0\"\n    WHERE\n      \"t0\".\"extinct\" = CAST(0 AS TINYINT)\n  ) AS \"t1\"\n  GROUP BY\n    1\n) AS \"t2\"\nORDER BY\n  \"t2\".\"Count(name)\" DESC\n```",
            "application/vnd.google.colaboratory.intrinsic+json": {
              "type": "string"
            }
          },
          "metadata": {},
          "execution_count": 53
        }
      ]
    },
    {
      "cell_type": "markdown",
      "source": [
        "### B. Mixing and matching SQL and Ibis\n",
        "\n",
        "If you have existing SQL queries, or want to use dialect-specific features of a specific SQL database, Ibis allows you to use SQL directly!\n",
        "\n",
        "If you want to begin your Ibis query with SQL, you can use `Table.sql` directly.\n",
        "\n",
        "However, we can no longer refer directly to the `persistent_ducks` object later in the expression. We instead need to use the `_` (which we imported earlier with `from ibis import _`), which is a way to build expressions using Ibis's deferred expression API. So instead of `persistent_ducks.column.function()`, we can say `_.column.function()`"
      ],
      "metadata": {
        "id": "7iWMxCWmX-Le"
      },
      "id": "7iWMxCWmX-Le"
    },
    {
      "cell_type": "code",
      "source": [
        "duck_legends = (persistent_ducks\n",
        "  .sql(\"\"\"SELECT name, author, year FROM persistent_ducks WHERE extinct = 0\"\"\")\n",
        "  .group_by(\"author\")\n",
        "  .aggregate([_.name.count(), _.year.min()]) # Use _ instead of persistent_ducks\n",
        "  .order_by([ibis.desc(\"Count(name)\")])\n",
        ")\n",
        "duck_legends"
      ],
      "metadata": {
        "colab": {
          "base_uri": "https://localhost:8080/",
          "height": 298
        },
        "id": "cUDfW0vBaBLo",
        "outputId": "292e12a5-0988-4257-9187-d3ba3c2347c4"
      },
      "id": "cUDfW0vBaBLo",
      "execution_count": 54,
      "outputs": [
        {
          "output_type": "execute_result",
          "data": {
            "text/plain": [
              "┏━━━━━━━━━━━━━━┳━━━━━━━━━━━━━┳━━━━━━━━━━━┓\n",
              "┃\u001b[1m \u001b[0m\u001b[1mauthor\u001b[0m\u001b[1m      \u001b[0m\u001b[1m \u001b[0m┃\u001b[1m \u001b[0m\u001b[1mCount(name)\u001b[0m\u001b[1m \u001b[0m┃\u001b[1m \u001b[0m\u001b[1mMin(year)\u001b[0m\u001b[1m \u001b[0m┃\n",
              "┡━━━━━━━━━━━━━━╇━━━━━━━━━━━━━╇━━━━━━━━━━━┩\n",
              "│ \u001b[2mstring\u001b[0m       │ \u001b[2mint64\u001b[0m       │ \u001b[2mstring\u001b[0m    │\n",
              "├──────────────┼─────────────┼───────────┤\n",
              "│ \u001b[32mLinnaeus    \u001b[0m │          \u001b[1;36m35\u001b[0m │ \u001b[32m1758     \u001b[0m │\n",
              "│ \u001b[32mJ. F. Gmelin\u001b[0m │          \u001b[1;36m13\u001b[0m │ \u001b[32m1789     \u001b[0m │\n",
              "│ \u001b[32mEyton       \u001b[0m │          \u001b[1;36m10\u001b[0m │ \u001b[32m1838     \u001b[0m │\n",
              "│ \u001b[32mVieillot    \u001b[0m │           \u001b[1;36m8\u001b[0m │ \u001b[32m1816     \u001b[0m │\n",
              "│ \u001b[32mLatham      \u001b[0m │           \u001b[1;36m4\u001b[0m │ \u001b[32m1790     \u001b[0m │\n",
              "│ \u001b[32mGould       \u001b[0m │           \u001b[1;36m4\u001b[0m │ \u001b[32m1837     \u001b[0m │\n",
              "│ \u001b[32mRidgway     \u001b[0m │           \u001b[1;36m3\u001b[0m │ \u001b[32m1874     \u001b[0m │\n",
              "│ \u001b[32mP. P. King  \u001b[0m │           \u001b[1;36m3\u001b[0m │ \u001b[32m1828     \u001b[0m │\n",
              "│ \u001b[32mPallas      \u001b[0m │           \u001b[1;36m3\u001b[0m │ \u001b[32m1764     \u001b[0m │\n",
              "│ \u001b[32mG. R. Gray  \u001b[0m │           \u001b[1;36m2\u001b[0m │ \u001b[32m1844     \u001b[0m │\n",
              "│ \u001b[2m…\u001b[0m            │           \u001b[2m…\u001b[0m │ \u001b[2m…\u001b[0m         │\n",
              "└──────────────┴─────────────┴───────────┘"
            ],
            "text/html": [
              "<pre style=\"white-space:pre;overflow-x:auto;line-height:normal;font-family:Menlo,'DejaVu Sans Mono',consolas,'Courier New',monospace\">┏━━━━━━━━━━━━━━┳━━━━━━━━━━━━━┳━━━━━━━━━━━┓\n",
              "┃<span style=\"font-weight: bold\"> author       </span>┃<span style=\"font-weight: bold\"> Count(name) </span>┃<span style=\"font-weight: bold\"> Min(year) </span>┃\n",
              "┡━━━━━━━━━━━━━━╇━━━━━━━━━━━━━╇━━━━━━━━━━━┩\n",
              "│ <span style=\"color: #7f7f7f; text-decoration-color: #7f7f7f\">string</span>       │ <span style=\"color: #7f7f7f; text-decoration-color: #7f7f7f\">int64</span>       │ <span style=\"color: #7f7f7f; text-decoration-color: #7f7f7f\">string</span>    │\n",
              "├──────────────┼─────────────┼───────────┤\n",
              "│ <span style=\"color: #008000; text-decoration-color: #008000\">Linnaeus    </span> │          <span style=\"color: #008080; text-decoration-color: #008080; font-weight: bold\">35</span> │ <span style=\"color: #008000; text-decoration-color: #008000\">1758     </span> │\n",
              "│ <span style=\"color: #008000; text-decoration-color: #008000\">J. F. Gmelin</span> │          <span style=\"color: #008080; text-decoration-color: #008080; font-weight: bold\">13</span> │ <span style=\"color: #008000; text-decoration-color: #008000\">1789     </span> │\n",
              "│ <span style=\"color: #008000; text-decoration-color: #008000\">Eyton       </span> │          <span style=\"color: #008080; text-decoration-color: #008080; font-weight: bold\">10</span> │ <span style=\"color: #008000; text-decoration-color: #008000\">1838     </span> │\n",
              "│ <span style=\"color: #008000; text-decoration-color: #008000\">Vieillot    </span> │           <span style=\"color: #008080; text-decoration-color: #008080; font-weight: bold\">8</span> │ <span style=\"color: #008000; text-decoration-color: #008000\">1816     </span> │\n",
              "│ <span style=\"color: #008000; text-decoration-color: #008000\">Latham      </span> │           <span style=\"color: #008080; text-decoration-color: #008080; font-weight: bold\">4</span> │ <span style=\"color: #008000; text-decoration-color: #008000\">1790     </span> │\n",
              "│ <span style=\"color: #008000; text-decoration-color: #008000\">Gould       </span> │           <span style=\"color: #008080; text-decoration-color: #008080; font-weight: bold\">4</span> │ <span style=\"color: #008000; text-decoration-color: #008000\">1837     </span> │\n",
              "│ <span style=\"color: #008000; text-decoration-color: #008000\">Ridgway     </span> │           <span style=\"color: #008080; text-decoration-color: #008080; font-weight: bold\">3</span> │ <span style=\"color: #008000; text-decoration-color: #008000\">1874     </span> │\n",
              "│ <span style=\"color: #008000; text-decoration-color: #008000\">P. P. King  </span> │           <span style=\"color: #008080; text-decoration-color: #008080; font-weight: bold\">3</span> │ <span style=\"color: #008000; text-decoration-color: #008000\">1828     </span> │\n",
              "│ <span style=\"color: #008000; text-decoration-color: #008000\">Pallas      </span> │           <span style=\"color: #008080; text-decoration-color: #008080; font-weight: bold\">3</span> │ <span style=\"color: #008000; text-decoration-color: #008000\">1764     </span> │\n",
              "│ <span style=\"color: #008000; text-decoration-color: #008000\">G. R. Gray  </span> │           <span style=\"color: #008080; text-decoration-color: #008080; font-weight: bold\">2</span> │ <span style=\"color: #008000; text-decoration-color: #008000\">1844     </span> │\n",
              "│ <span style=\"color: #7f7f7f; text-decoration-color: #7f7f7f\">…</span>            │           <span style=\"color: #7f7f7f; text-decoration-color: #7f7f7f\">…</span> │ <span style=\"color: #7f7f7f; text-decoration-color: #7f7f7f\">…</span>         │\n",
              "└──────────────┴─────────────┴───────────┘\n",
              "</pre>\n"
            ]
          },
          "metadata": {},
          "execution_count": 54
        }
      ]
    },
    {
      "cell_type": "markdown",
      "source": [
        "If you want to begin with Ibis, but transition to SQL, first give the Ibis expression a name using the `alias` function. Then you can refer to that as a table in your `Table.sql` call."
      ],
      "metadata": {
        "id": "HDVzVRwfb4vE"
      },
      "id": "HDVzVRwfb4vE"
    },
    {
      "cell_type": "code",
      "source": [
        "duck_legends = (persistent_ducks\n",
        "  .filter(persistent_ducks.extinct == 0)\n",
        "  .select(\"name\", \"author\", \"year\")\n",
        "  .group_by(\"author\")\n",
        "  .aggregate([persistent_ducks.name.count(), persistent_ducks.year.min()])\n",
        "  .alias('ibis_duck') # Rename the result of all Ibis expressions up to this point\n",
        "  .sql(\"\"\"SELECT * from ibis_duck ORDER BY \"Count(name)\" desc\"\"\")\n",
        ")\n",
        "duck_legends"
      ],
      "metadata": {
        "colab": {
          "base_uri": "https://localhost:8080/",
          "height": 298
        },
        "id": "6WMhItcscEiN",
        "outputId": "854c53ba-101c-4ca2-cad5-bd691156c156"
      },
      "id": "6WMhItcscEiN",
      "execution_count": 55,
      "outputs": [
        {
          "output_type": "execute_result",
          "data": {
            "text/plain": [
              "┏━━━━━━━━━━━━━━┳━━━━━━━━━━━━━┳━━━━━━━━━━━┓\n",
              "┃\u001b[1m \u001b[0m\u001b[1mauthor\u001b[0m\u001b[1m      \u001b[0m\u001b[1m \u001b[0m┃\u001b[1m \u001b[0m\u001b[1mCount(name)\u001b[0m\u001b[1m \u001b[0m┃\u001b[1m \u001b[0m\u001b[1mMin(year)\u001b[0m\u001b[1m \u001b[0m┃\n",
              "┡━━━━━━━━━━━━━━╇━━━━━━━━━━━━━╇━━━━━━━━━━━┩\n",
              "│ \u001b[2mstring\u001b[0m       │ \u001b[2mint64\u001b[0m       │ \u001b[2mstring\u001b[0m    │\n",
              "├──────────────┼─────────────┼───────────┤\n",
              "│ \u001b[32mLinnaeus    \u001b[0m │          \u001b[1;36m35\u001b[0m │ \u001b[32m1758     \u001b[0m │\n",
              "│ \u001b[32mJ. F. Gmelin\u001b[0m │          \u001b[1;36m13\u001b[0m │ \u001b[32m1789     \u001b[0m │\n",
              "│ \u001b[32mEyton       \u001b[0m │          \u001b[1;36m10\u001b[0m │ \u001b[32m1838     \u001b[0m │\n",
              "│ \u001b[32mVieillot    \u001b[0m │           \u001b[1;36m8\u001b[0m │ \u001b[32m1816     \u001b[0m │\n",
              "│ \u001b[32mLatham      \u001b[0m │           \u001b[1;36m4\u001b[0m │ \u001b[32m1790     \u001b[0m │\n",
              "│ \u001b[32mGould       \u001b[0m │           \u001b[1;36m4\u001b[0m │ \u001b[32m1837     \u001b[0m │\n",
              "│ \u001b[32mRidgway     \u001b[0m │           \u001b[1;36m3\u001b[0m │ \u001b[32m1874     \u001b[0m │\n",
              "│ \u001b[32mP. P. King  \u001b[0m │           \u001b[1;36m3\u001b[0m │ \u001b[32m1828     \u001b[0m │\n",
              "│ \u001b[32mPallas      \u001b[0m │           \u001b[1;36m3\u001b[0m │ \u001b[32m1764     \u001b[0m │\n",
              "│ \u001b[32mG. R. Gray  \u001b[0m │           \u001b[1;36m2\u001b[0m │ \u001b[32m1844     \u001b[0m │\n",
              "│ \u001b[2m…\u001b[0m            │           \u001b[2m…\u001b[0m │ \u001b[2m…\u001b[0m         │\n",
              "└──────────────┴─────────────┴───────────┘"
            ],
            "text/html": [
              "<pre style=\"white-space:pre;overflow-x:auto;line-height:normal;font-family:Menlo,'DejaVu Sans Mono',consolas,'Courier New',monospace\">┏━━━━━━━━━━━━━━┳━━━━━━━━━━━━━┳━━━━━━━━━━━┓\n",
              "┃<span style=\"font-weight: bold\"> author       </span>┃<span style=\"font-weight: bold\"> Count(name) </span>┃<span style=\"font-weight: bold\"> Min(year) </span>┃\n",
              "┡━━━━━━━━━━━━━━╇━━━━━━━━━━━━━╇━━━━━━━━━━━┩\n",
              "│ <span style=\"color: #7f7f7f; text-decoration-color: #7f7f7f\">string</span>       │ <span style=\"color: #7f7f7f; text-decoration-color: #7f7f7f\">int64</span>       │ <span style=\"color: #7f7f7f; text-decoration-color: #7f7f7f\">string</span>    │\n",
              "├──────────────┼─────────────┼───────────┤\n",
              "│ <span style=\"color: #008000; text-decoration-color: #008000\">Linnaeus    </span> │          <span style=\"color: #008080; text-decoration-color: #008080; font-weight: bold\">35</span> │ <span style=\"color: #008000; text-decoration-color: #008000\">1758     </span> │\n",
              "│ <span style=\"color: #008000; text-decoration-color: #008000\">J. F. Gmelin</span> │          <span style=\"color: #008080; text-decoration-color: #008080; font-weight: bold\">13</span> │ <span style=\"color: #008000; text-decoration-color: #008000\">1789     </span> │\n",
              "│ <span style=\"color: #008000; text-decoration-color: #008000\">Eyton       </span> │          <span style=\"color: #008080; text-decoration-color: #008080; font-weight: bold\">10</span> │ <span style=\"color: #008000; text-decoration-color: #008000\">1838     </span> │\n",
              "│ <span style=\"color: #008000; text-decoration-color: #008000\">Vieillot    </span> │           <span style=\"color: #008080; text-decoration-color: #008080; font-weight: bold\">8</span> │ <span style=\"color: #008000; text-decoration-color: #008000\">1816     </span> │\n",
              "│ <span style=\"color: #008000; text-decoration-color: #008000\">Latham      </span> │           <span style=\"color: #008080; text-decoration-color: #008080; font-weight: bold\">4</span> │ <span style=\"color: #008000; text-decoration-color: #008000\">1790     </span> │\n",
              "│ <span style=\"color: #008000; text-decoration-color: #008000\">Gould       </span> │           <span style=\"color: #008080; text-decoration-color: #008080; font-weight: bold\">4</span> │ <span style=\"color: #008000; text-decoration-color: #008000\">1837     </span> │\n",
              "│ <span style=\"color: #008000; text-decoration-color: #008000\">Ridgway     </span> │           <span style=\"color: #008080; text-decoration-color: #008080; font-weight: bold\">3</span> │ <span style=\"color: #008000; text-decoration-color: #008000\">1874     </span> │\n",
              "│ <span style=\"color: #008000; text-decoration-color: #008000\">P. P. King  </span> │           <span style=\"color: #008080; text-decoration-color: #008080; font-weight: bold\">3</span> │ <span style=\"color: #008000; text-decoration-color: #008000\">1828     </span> │\n",
              "│ <span style=\"color: #008000; text-decoration-color: #008000\">Pallas      </span> │           <span style=\"color: #008080; text-decoration-color: #008080; font-weight: bold\">3</span> │ <span style=\"color: #008000; text-decoration-color: #008000\">1764     </span> │\n",
              "│ <span style=\"color: #008000; text-decoration-color: #008000\">G. R. Gray  </span> │           <span style=\"color: #008080; text-decoration-color: #008080; font-weight: bold\">2</span> │ <span style=\"color: #008000; text-decoration-color: #008000\">1844     </span> │\n",
              "│ <span style=\"color: #7f7f7f; text-decoration-color: #7f7f7f\">…</span>            │           <span style=\"color: #7f7f7f; text-decoration-color: #7f7f7f\">…</span> │ <span style=\"color: #7f7f7f; text-decoration-color: #7f7f7f\">…</span>         │\n",
              "└──────────────┴─────────────┴───────────┘\n",
              "</pre>\n"
            ]
          },
          "metadata": {},
          "execution_count": 55
        }
      ]
    },
    {
      "cell_type": "markdown",
      "id": "8b2522bd",
      "metadata": {
        "id": "8b2522bd"
      },
      "source": [
        "And there you go! You've learned:\n",
        "* How to read and write Pandas, Polars, and Apache Arrow with DuckDB\n",
        "* How to use Ibis to run dataframe queries on top of DuckDB\n",
        "* How to see the SQL that Ibis is running on your behalf\n",
        "* How to mix and match SQL and Ibis"
      ]
    },
    {
      "cell_type": "markdown",
      "source": [
        "# Exercise 1: Apache Arrow to SQL\n",
        "Read in the birds.csv file using Apache Arrow, then use the DuckDB Python library to execute a SQL statement on that Apache Arrow table to find the maximum `wing_length` in the dataset. Output that result as an Apache Arrow table."
      ],
      "metadata": {
        "id": "tOJr0_Adw82g"
      },
      "id": "tOJr0_Adw82g"
    },
    {
      "cell_type": "code",
      "source": [],
      "metadata": {
        "id": "xkY3G3kxw_Um"
      },
      "id": "xkY3G3kxw_Um",
      "execution_count": null,
      "outputs": []
    },
    {
      "cell_type": "markdown",
      "source": [
        "# Exercise 2: Output the result of this SQL statement to a Polars dataframe\n",
        "\n",
        "Use the DuckDB Python client to return these results as a Polars dataframe.\n",
        "\n",
        "```sql\n",
        "SELECT\n",
        "    Species_Common_Name,\n",
        "    AVG(Beak_Width) AS Avg_Beak_Width,\n",
        "    AVG(Beak_Depth) AS Avg_Beak_Depth,\n",
        "    AVG(Beak_Length_Culmen) AS Avg_Beak_Length_Culmen\n",
        "FROM 'birds.csv'\n",
        "GROUP BY Species_Common_Name\n",
        "```"
      ],
      "metadata": {
        "id": "ugg2jn7Hw8uO"
      },
      "id": "ugg2jn7Hw8uO"
    },
    {
      "cell_type": "code",
      "source": [],
      "metadata": {
        "id": "Vag3GISOw_t_"
      },
      "id": "Vag3GISOw_t_",
      "execution_count": null,
      "outputs": []
    },
    {
      "cell_type": "markdown",
      "source": [
        "# Exercise 3: Simplify the SQL that was auto-generated by Ibis\n",
        "\n",
        "The SQL that Ibis generated to find the people who discovered the most duck species is not the most concise. Can you re-write the Ibis SQL (listed below) to its simplest possible form, using DuckDB's Python client?\n",
        "\n",
        "Hint: as a first step, connect to the same database that Ibis connected to.\n",
        "```sql\n",
        "SELECT\n",
        "  *\n",
        "FROM (\n",
        "  SELECT\n",
        "    \"t1\".\"author\",\n",
        "    COUNT(\"t1\".\"name\") AS \"Count(name)\",\n",
        "    MIN(\"t1\".\"year\") AS \"Min(year)\"\n",
        "  FROM (\n",
        "    SELECT\n",
        "      \"t0\".\"name\",\n",
        "      \"t0\".\"author\",\n",
        "      \"t0\".\"year\"\n",
        "    FROM \"whats_quackalackin\".\"main\".\"persistent_ducks\" AS \"t0\"\n",
        "    WHERE\n",
        "      \"t0\".\"extinct\" = CAST(0 AS TINYINT)\n",
        "  ) AS \"t1\"\n",
        "  GROUP BY\n",
        "    1\n",
        ") AS \"t2\"\n",
        "ORDER BY\n",
        "  \"t2\".\"Count(name)\" DESC\n",
        "```"
      ],
      "metadata": {
        "id": "b5RLhe68w8mq"
      },
      "id": "b5RLhe68w8mq"
    },
    {
      "cell_type": "code",
      "source": [],
      "metadata": {
        "id": "dH2W927lxAJF"
      },
      "id": "dH2W927lxAJF",
      "execution_count": null,
      "outputs": []
    },
    {
      "cell_type": "markdown",
      "source": [
        "# Exercise 4: Convert this SQL query into an Ibis expression\n",
        "\n",
        "Convert the SQL query below into an Ibis expression. You are welcome to ignore the column renaming - think of it as a \"stretch-goal\" if you have time! We did not cover how to do that yet.\n",
        "```sql\n",
        "SELECT\n",
        "    Species_Common_Name,\n",
        "    AVG(Beak_Width) AS Avg_Beak_Width,\n",
        "    AVG(Beak_Depth) AS Avg_Beak_Depth,\n",
        "    AVG(Beak_Length_Culmen) AS Avg_Beak_Length_Culmen\n",
        "FROM 'birds.csv'\n",
        "GROUP BY Species_Common_Name\n",
        "```\n",
        "\n",
        "Hint: Read directly from a csv file - no need to create a persistent table!\n",
        "\n",
        "Hint 2: Ibis uses `mean` instead of `avg`!\n",
        "\n",
        "Hint 3: Ibis aggregate documentation: https://ibis-project.org/reference/expression-tables#ibis.expr.types.relations.Table.aggregate"
      ],
      "metadata": {
        "id": "OtTQ6LQqw8d3"
      },
      "id": "OtTQ6LQqw8d3"
    },
    {
      "cell_type": "code",
      "source": [],
      "metadata": {
        "id": "l1DaOGl7kIi-"
      },
      "id": "l1DaOGl7kIi-",
      "execution_count": 55,
      "outputs": []
    }
  ],
  "metadata": {
    "kernelspec": {
      "display_name": "Python 3",
      "language": "python",
      "name": "python3"
    },
    "colab": {
      "provenance": []
    }
  },
  "nbformat": 4,
  "nbformat_minor": 5
}