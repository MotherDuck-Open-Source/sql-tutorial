{
 "cells": [
  {
   "cell_type": "code",
   "execution_count": null,
   "id": "bc195c5b",
   "metadata": {},
   "outputs": [],
   "source": [
    "!pip install --upgrade duckdb magic-duckdb --quiet"
   ]
  },
  {
   "cell_type": "code",
   "execution_count": null,
   "id": "da410a61",
   "metadata": {},
   "outputs": [],
   "source": [
    "%load_ext magic_duckdb"
   ]
  },
  {
   "cell_type": "markdown",
   "id": "1f93ab2e",
   "metadata": {},
   "source": [
    "# 3. Combining SQL and Python\n",
    "\n",
    "## 1. Using `duckdb` from Python\n",
    "\n",
    "DuckDB is released with a native Python client. You can simply install it by running"
   ]
  },
  {
   "cell_type": "code",
   "execution_count": null,
   "id": "d3447ba0",
   "metadata": {},
   "outputs": [],
   "source": [
    "!pip install duckdb"
   ]
  },
  {
   "cell_type": "markdown",
   "id": "5f0871db",
   "metadata": {},
   "source": [
    "To use it, is as simple as running"
   ]
  },
  {
   "cell_type": "code",
   "execution_count": null,
   "id": "afef057d",
   "metadata": {},
   "outputs": [],
   "source": [
    "import duckdb\n",
    "\n",
    "duckdb.sql(\"SELECT 42\").fetchall()"
   ]
  },
  {
   "cell_type": "markdown",
   "id": "8f519ae2",
   "metadata": {},
   "source": [
    "You can also incorporate DataFrames into your SQL queries! For example, to create a Pandas dataframe and access it from DuckDB, you can run:"
   ]
  },
  {
   "cell_type": "code",
   "execution_count": null,
   "id": "e4e5f7a3",
   "metadata": {},
   "outputs": [],
   "source": [
    "import pandas as pd\n",
    "my_df = pd.DataFrame([{\"c1\": \"duck\", \"c2\": \"duck\", \"c3\": \"goose\"}])\n",
    "\n",
    "duckdb.sql(\"SELECT * FROM my_df\").df()"
   ]
  },
  {
   "cell_type": "markdown",
   "id": "b673f96d",
   "metadata": {},
   "source": [
    "## 2. Using `ibis` with a DuckDB backend\n",
    "\n",
    "We'll show you how to leverage the power of DuckDB without even needing to write a single line of SQL. Instead, we'll use Ibis, a powerful Python library that allows you to interact with databases using a DataFrame-like syntax. We'll also show you how to combine the two so you can get the best of both worlds.\n",
    "\n",
    "First, let's make sure you have the necessary packages installed. You can install DuckDB and Ibis using pip:\n",
    "\n",
    "```bash\n",
    "pip install ibis-framework[duckdb,examples]\n",
    "```\n",
    "\n",
    "We'll start by connecting to a DuckDB database:"
   ]
  },
  {
   "cell_type": "code",
   "execution_count": null,
   "id": "0a191aac",
   "metadata": {},
   "outputs": [],
   "source": [
    "import ibis\n",
    "ibis.options.interactive = True\n",
    "\n",
    "con = ibis.duckdb.connect(database=':memory:')"
   ]
  },
  {
   "cell_type": "markdown",
   "id": "a50cdf52",
   "metadata": {},
   "source": [
    "Here, we use an in-memory database for simplicity, but you can also connect to a file-based database by specifying a file path.\n",
    "\n",
    "Next, let's create a sample table and insert some data into it. We'll use DuckDB's SQL functionality for this step, but don't worry, this is just a one-time setup!"
   ]
  },
  {
   "cell_type": "code",
   "execution_count": null,
   "id": "b6d4910f",
   "metadata": {},
   "outputs": [],
   "source": [
    "%%dql\n",
    "con.raw_sql('''\n",
    "CREATE TABLE employees (\n",
    "    employee_id INTEGER,\n",
    "    name TEXT,\n",
    "    department TEXT,\n",
    "    salary DOUBLE\n",
    ");\n",
    "\n",
    "INSERT INTO employees VALUES\n",
    "(1, 'Alice', 'Engineering', 75000),\n",
    "(2, 'Bob', 'Marketing', 55000),\n",
    "(3, 'Charlie', 'HR', 60000);\n",
    "''')"
   ]
  },
  {
   "cell_type": "markdown",
   "id": "f9212aab",
   "metadata": {},
   "source": [
    "Now that we have a table set up, let's see how we can query this data using Ibis. With Ibis, you can perform operations on your data without writing SQL."
   ]
  },
  {
   "cell_type": "code",
   "execution_count": null,
   "id": "3c9c81f8",
   "metadata": {},
   "outputs": [],
   "source": [
    "employees = con.table('employees')\n",
    "all_employees = employees.execute()\n",
    "print(all_employees)"
   ]
  },
  {
   "cell_type": "markdown",
   "id": "e41d8f9c",
   "metadata": {},
   "source": [
    "This will fetch all the rows from the employees table and print them out.\n",
    "\n",
    "One of the powerful features of Ibis is that you can combine SQL queries with DataFrame operations. For example, let's filter employees with a salary greater than 60000 and then sort them by name:"
   ]
  },
  {
   "cell_type": "code",
   "execution_count": null,
   "id": "d4e41a38",
   "metadata": {},
   "outputs": [],
   "source": [
    "high_earners = employees[employees.salary >= 60000].order_by('name')\n",
    "result = high_earners.execute()\n",
    "print(result)"
   ]
  },
  {
   "cell_type": "markdown",
   "id": "2388a86f",
   "metadata": {},
   "source": [
    "This will return a DataFrame with employees who earn at least 60000, sorted by their names.\n",
    "\n",
    "Finally, let's see how we can perform more complex operations using only Ibis. Suppose we want to calculate the average salary by department:"
   ]
  },
  {
   "cell_type": "code",
   "execution_count": null,
   "id": "8796b16c",
   "metadata": {},
   "outputs": [],
   "source": [
    "avg_salary_by_dept = employees.group_by('department').aggregate(\n",
    "    avg_salary=employees.salary.mean()\n",
    ")\n",
    "result = avg_salary_by_dept.execute()\n",
    "print(result)"
   ]
  },
  {
   "cell_type": "markdown",
   "id": "8b2522bd",
   "metadata": {},
   "source": [
    "This will give us a DataFrame with the average salary for each department.\n",
    "\n",
    "And that's it! You've learned how to use Ibis with DuckDB to query and manipulate your data without writing SQL. Happy coding!"
   ]
  }
 ],
 "metadata": {
  "kernelspec": {
   "display_name": "Python 3",
   "language": "python",
   "name": "python3"
  }
 },
 "nbformat": 4,
 "nbformat_minor": 5
}
